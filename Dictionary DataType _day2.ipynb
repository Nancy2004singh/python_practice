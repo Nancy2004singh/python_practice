{
 "cells": [
  {
   "cell_type": "markdown",
   "id": "6a43afac",
   "metadata": {},
   "source": [
    "# Dictionary\n",
    " - written with curly brackets, and stores data in key-value pair\n",
    " - ordered\n",
    " - indexable\n",
    " - Key should be unique\n",
    " - access the values, with help of keys\n",
    " - do not allow duplicates\n",
    " - Mutable\n",
    " - **As of Python version 3.7, dictionaries are ordered. In Python 3.6 and earlier, dictionaries are unordered."
   ]
  },
  {
   "cell_type": "markdown",
   "id": "c1cad955",
   "metadata": {},
   "source": [
    "<h2>Creating empty dictionary¶</h2>"
   ]
  },
  {
   "cell_type": "code",
   "execution_count": 1,
   "id": "83dd44c5",
   "metadata": {},
   "outputs": [],
   "source": [
    "d ={}"
   ]
  },
  {
   "cell_type": "code",
   "execution_count": 2,
   "id": "92771846",
   "metadata": {},
   "outputs": [
    {
     "data": {
      "text/plain": [
       "dict"
      ]
     },
     "execution_count": 2,
     "metadata": {},
     "output_type": "execute_result"
    }
   ],
   "source": [
    "type(d)"
   ]
  },
  {
   "cell_type": "code",
   "execution_count": 3,
   "id": "5c0a2b94",
   "metadata": {},
   "outputs": [],
   "source": [
    "d = dict()"
   ]
  },
  {
   "cell_type": "code",
   "execution_count": 4,
   "id": "496da89f",
   "metadata": {},
   "outputs": [
    {
     "data": {
      "text/plain": [
       "dict"
      ]
     },
     "execution_count": 4,
     "metadata": {},
     "output_type": "execute_result"
    }
   ],
   "source": [
    "type(d)"
   ]
  },
  {
   "cell_type": "code",
   "execution_count": null,
   "id": "1ed1945a",
   "metadata": {},
   "outputs": [],
   "source": []
  },
  {
   "cell_type": "code",
   "execution_count": null,
   "id": "789342ef",
   "metadata": {},
   "outputs": [],
   "source": []
  },
  {
   "cell_type": "code",
   "execution_count": null,
   "id": "90cdb949",
   "metadata": {},
   "outputs": [],
   "source": []
  },
  {
   "cell_type": "code",
   "execution_count": null,
   "id": "228d2122",
   "metadata": {},
   "outputs": [],
   "source": []
  },
  {
   "cell_type": "markdown",
   "id": "38962d98",
   "metadata": {},
   "source": [
    "<h2>Create and print a dictionary</h2>"
   ]
  },
  {
   "cell_type": "code",
   "execution_count": 5,
   "id": "512d4a00",
   "metadata": {},
   "outputs": [],
   "source": [
    "dic = {\n",
    "    \"Name\":\"Pooja\",\n",
    "    \"Age\": 37,\n",
    "    \"Occupation\": \"Trainer\"\n",
    "}"
   ]
  },
  {
   "cell_type": "code",
   "execution_count": 6,
   "id": "95115181",
   "metadata": {},
   "outputs": [],
   "source": [
    "# create a dic with {}"
   ]
  },
  {
   "cell_type": "code",
   "execution_count": 7,
   "id": "e5e2b450",
   "metadata": {},
   "outputs": [
    {
     "data": {
      "text/plain": [
       "{'Name': 'Pooja', 'Age': 37, 'Occupation': 'Trainer'}"
      ]
     },
     "execution_count": 7,
     "metadata": {},
     "output_type": "execute_result"
    }
   ],
   "source": [
    "dic"
   ]
  },
  {
   "cell_type": "code",
   "execution_count": 8,
   "id": "c34cdef3",
   "metadata": {},
   "outputs": [],
   "source": [
    "dic1 = {'1':\"Meghna\",\"2\": \"Anshika\"}"
   ]
  },
  {
   "cell_type": "code",
   "execution_count": 9,
   "id": "ccee8c5f",
   "metadata": {},
   "outputs": [
    {
     "data": {
      "text/plain": [
       "{'1': 'Meghna', '2': 'Anshika'}"
      ]
     },
     "execution_count": 9,
     "metadata": {},
     "output_type": "execute_result"
    }
   ],
   "source": [
    "dic1"
   ]
  },
  {
   "cell_type": "code",
   "execution_count": 10,
   "id": "346a151c",
   "metadata": {},
   "outputs": [],
   "source": [
    "# create a dic with list of tuples"
   ]
  },
  {
   "cell_type": "code",
   "execution_count": 11,
   "id": "84390305",
   "metadata": {},
   "outputs": [],
   "source": [
    "thisdict = dict([(\"brand\", \"Ford\"),(\"model\", \"Mustang\"),(\"year\", 1964)])"
   ]
  },
  {
   "cell_type": "code",
   "execution_count": 12,
   "id": "dba06d84",
   "metadata": {},
   "outputs": [
    {
     "data": {
      "text/plain": [
       "{'brand': 'Ford', 'model': 'Mustang', 'year': 1964}"
      ]
     },
     "execution_count": 12,
     "metadata": {},
     "output_type": "execute_result"
    }
   ],
   "source": [
    "thisdict"
   ]
  },
  {
   "cell_type": "code",
   "execution_count": 13,
   "id": "1c6a2206",
   "metadata": {},
   "outputs": [],
   "source": [
    "thisdict1 = dict([(\"brand\", [\"Ford\",\"Honda\"]),(\"model\", [\"Mustang\",\"xyz\"]),(\"year\", [1964,1965])])"
   ]
  },
  {
   "cell_type": "code",
   "execution_count": 14,
   "id": "b56d6519",
   "metadata": {},
   "outputs": [
    {
     "data": {
      "text/plain": [
       "{'brand': ['Ford', 'Honda'], 'model': ['Mustang', 'xyz'], 'year': [1964, 1965]}"
      ]
     },
     "execution_count": 14,
     "metadata": {},
     "output_type": "execute_result"
    }
   ],
   "source": [
    "thisdict1"
   ]
  },
  {
   "cell_type": "code",
   "execution_count": 15,
   "id": "6c21c269",
   "metadata": {},
   "outputs": [],
   "source": [
    "thisdict1 = dict([(\"brand\", (\"Ford\",\"Honda\")),(\"model\", (\"Mustang\",\"xyz\")),(\"year\", (1964,1965))])"
   ]
  },
  {
   "cell_type": "code",
   "execution_count": 16,
   "id": "3784faec",
   "metadata": {},
   "outputs": [
    {
     "data": {
      "text/plain": [
       "{'brand': ('Ford', 'Honda'), 'model': ('Mustang', 'xyz'), 'year': (1964, 1965)}"
      ]
     },
     "execution_count": 16,
     "metadata": {},
     "output_type": "execute_result"
    }
   ],
   "source": [
    "thisdict1"
   ]
  },
  {
   "cell_type": "code",
   "execution_count": null,
   "id": "574ac808",
   "metadata": {},
   "outputs": [],
   "source": []
  },
  {
   "cell_type": "code",
   "execution_count": 17,
   "id": "3deb7f94",
   "metadata": {},
   "outputs": [],
   "source": [
    "#dict() constructor to make a dictionary , Key need not to be written in \"\" "
   ]
  },
  {
   "cell_type": "code",
   "execution_count": 18,
   "id": "4dacd20d",
   "metadata": {},
   "outputs": [],
   "source": [
    "dic3 = dict(name=\"Niday\",Age=26)"
   ]
  },
  {
   "cell_type": "code",
   "execution_count": 19,
   "id": "dcb196d5",
   "metadata": {},
   "outputs": [
    {
     "data": {
      "text/plain": [
       "{'name': 'Niday', 'Age': 26}"
      ]
     },
     "execution_count": 19,
     "metadata": {},
     "output_type": "execute_result"
    }
   ],
   "source": [
    "dic3"
   ]
  },
  {
   "cell_type": "code",
   "execution_count": 20,
   "id": "8fbd0f5c",
   "metadata": {},
   "outputs": [],
   "source": [
    "dic4 = {\n",
    "    \"Name\": ['ford','honda'],\n",
    "    \"Brand\":['xyz','pqr'],\n",
    "    \"year\": [1960,2000],\n",
    "    \"electric\":True\n",
    "}"
   ]
  },
  {
   "cell_type": "code",
   "execution_count": 21,
   "id": "e99c054e",
   "metadata": {},
   "outputs": [
    {
     "data": {
      "text/plain": [
       "{'Name': ['ford', 'honda'],\n",
       " 'Brand': ['xyz', 'pqr'],\n",
       " 'year': [1960, 2000],\n",
       " 'electric': True}"
      ]
     },
     "execution_count": 21,
     "metadata": {},
     "output_type": "execute_result"
    }
   ],
   "source": [
    "dic4"
   ]
  },
  {
   "cell_type": "code",
   "execution_count": null,
   "id": "9ac53023",
   "metadata": {},
   "outputs": [],
   "source": []
  },
  {
   "cell_type": "code",
   "execution_count": null,
   "id": "a6bf94c1",
   "metadata": {},
   "outputs": [],
   "source": []
  },
  {
   "cell_type": "code",
   "execution_count": null,
   "id": "2abc50b6",
   "metadata": {},
   "outputs": [],
   "source": []
  },
  {
   "cell_type": "code",
   "execution_count": null,
   "id": "cb7ae486",
   "metadata": {},
   "outputs": [],
   "source": []
  },
  {
   "cell_type": "markdown",
   "id": "8a77a800",
   "metadata": {},
   "source": [
    "<h2>Dictionary Items -The values in dictionary items can be of any data type</h2>"
   ]
  },
  {
   "cell_type": "code",
   "execution_count": null,
   "id": "a931d34b",
   "metadata": {},
   "outputs": [],
   "source": []
  },
  {
   "cell_type": "code",
   "execution_count": null,
   "id": "fe092589",
   "metadata": {},
   "outputs": [],
   "source": []
  },
  {
   "cell_type": "code",
   "execution_count": null,
   "id": "cb3a0fec",
   "metadata": {},
   "outputs": [],
   "source": []
  },
  {
   "cell_type": "markdown",
   "id": "34baf2d2",
   "metadata": {},
   "source": [
    "# Accessing elements\n",
    "You can access the items of a dictionary by referring to its key name, inside square brackets:"
   ]
  },
  {
   "cell_type": "code",
   "execution_count": 22,
   "id": "7c212cfb",
   "metadata": {},
   "outputs": [
    {
     "data": {
      "text/plain": [
       "['ford', 'honda']"
      ]
     },
     "execution_count": 22,
     "metadata": {},
     "output_type": "execute_result"
    }
   ],
   "source": [
    "dic4[\"Name\"]"
   ]
  },
  {
   "cell_type": "code",
   "execution_count": 23,
   "id": "5dac57fb",
   "metadata": {},
   "outputs": [
    {
     "data": {
      "text/plain": [
       "'Niday'"
      ]
     },
     "execution_count": 23,
     "metadata": {},
     "output_type": "execute_result"
    }
   ],
   "source": [
    "dic3['Age']\n",
    "dic3['name']"
   ]
  },
  {
   "cell_type": "code",
   "execution_count": 24,
   "id": "eb38d675",
   "metadata": {},
   "outputs": [
    {
     "name": "stdout",
     "output_type": "stream",
     "text": [
      "Age of Niday is 26\n"
     ]
    }
   ],
   "source": [
    "print(f\"Age of {dic3['name']} is {dic3['Age']}\")"
   ]
  },
  {
   "cell_type": "code",
   "execution_count": 25,
   "id": "3c40f207",
   "metadata": {},
   "outputs": [],
   "source": [
    "#get() method"
   ]
  },
  {
   "cell_type": "code",
   "execution_count": 26,
   "id": "d26b0f0e",
   "metadata": {},
   "outputs": [
    {
     "data": {
      "text/plain": [
       "'Niday'"
      ]
     },
     "execution_count": 26,
     "metadata": {},
     "output_type": "execute_result"
    }
   ],
   "source": [
    "dic3.get('name')"
   ]
  },
  {
   "cell_type": "code",
   "execution_count": 27,
   "id": "dec72d84",
   "metadata": {},
   "outputs": [
    {
     "data": {
      "text/plain": [
       "1960"
      ]
     },
     "execution_count": 27,
     "metadata": {},
     "output_type": "execute_result"
    }
   ],
   "source": [
    "dic4['year'][0]"
   ]
  },
  {
   "cell_type": "code",
   "execution_count": 28,
   "id": "af7dcc95",
   "metadata": {},
   "outputs": [
    {
     "data": {
      "text/plain": [
       "2000"
      ]
     },
     "execution_count": 28,
     "metadata": {},
     "output_type": "execute_result"
    }
   ],
   "source": [
    "dic4.get('year')[1]"
   ]
  },
  {
   "cell_type": "code",
   "execution_count": null,
   "id": "5d85f81a",
   "metadata": {},
   "outputs": [],
   "source": []
  },
  {
   "cell_type": "code",
   "execution_count": null,
   "id": "4e288662",
   "metadata": {},
   "outputs": [],
   "source": []
  },
  {
   "cell_type": "code",
   "execution_count": null,
   "id": "418d7b6f",
   "metadata": {},
   "outputs": [],
   "source": []
  },
  {
   "cell_type": "markdown",
   "id": "554b2510",
   "metadata": {},
   "source": [
    "# Get Keys\n",
    "The keys() method will return a list of all the keys in the dictionary."
   ]
  },
  {
   "cell_type": "code",
   "execution_count": 29,
   "id": "338c9a27",
   "metadata": {},
   "outputs": [
    {
     "data": {
      "text/plain": [
       "dict_keys(['Name', 'Brand', 'year', 'electric'])"
      ]
     },
     "execution_count": 29,
     "metadata": {},
     "output_type": "execute_result"
    }
   ],
   "source": [
    "dic4.keys()"
   ]
  },
  {
   "cell_type": "code",
   "execution_count": null,
   "id": "a6a777d1",
   "metadata": {},
   "outputs": [],
   "source": []
  },
  {
   "cell_type": "code",
   "execution_count": null,
   "id": "49f33a44",
   "metadata": {},
   "outputs": [],
   "source": []
  },
  {
   "cell_type": "markdown",
   "id": "2e73538c",
   "metadata": {},
   "source": [
    "# Get Values\n",
    "The values() method will return a list of all the values in the dictionary."
   ]
  },
  {
   "cell_type": "code",
   "execution_count": 30,
   "id": "9f233be6",
   "metadata": {},
   "outputs": [
    {
     "data": {
      "text/plain": [
       "dict_values(['Niday', 26])"
      ]
     },
     "execution_count": 30,
     "metadata": {},
     "output_type": "execute_result"
    }
   ],
   "source": [
    "dic3.values()"
   ]
  },
  {
   "cell_type": "code",
   "execution_count": null,
   "id": "1ed6733c",
   "metadata": {},
   "outputs": [],
   "source": []
  },
  {
   "cell_type": "code",
   "execution_count": null,
   "id": "a6907d7c",
   "metadata": {},
   "outputs": [],
   "source": []
  },
  {
   "cell_type": "markdown",
   "id": "80a36bae",
   "metadata": {},
   "source": [
    "# Get Items\n",
    "- The items() method will return each item in a dictionary, as tuples in a list.\n",
    "- Get a list of the key:value pairs"
   ]
  },
  {
   "cell_type": "code",
   "execution_count": 31,
   "id": "8b637e93",
   "metadata": {},
   "outputs": [
    {
     "data": {
      "text/plain": [
       "dict_items([('name', 'Niday'), ('Age', 26)])"
      ]
     },
     "execution_count": 31,
     "metadata": {},
     "output_type": "execute_result"
    }
   ],
   "source": [
    "dic3.items()"
   ]
  },
  {
   "cell_type": "code",
   "execution_count": 32,
   "id": "13f3a595",
   "metadata": {},
   "outputs": [
    {
     "data": {
      "text/plain": [
       "dict_items([('Name', ['ford', 'honda']), ('Brand', ['xyz', 'pqr']), ('year', [1960, 2000]), ('electric', True)])"
      ]
     },
     "execution_count": 32,
     "metadata": {},
     "output_type": "execute_result"
    }
   ],
   "source": [
    "dic4.items()"
   ]
  },
  {
   "cell_type": "code",
   "execution_count": null,
   "id": "23743de3",
   "metadata": {},
   "outputs": [],
   "source": []
  },
  {
   "cell_type": "markdown",
   "id": "e58925b5",
   "metadata": {},
   "source": [
    "# Changeable\n",
    "Dictionaries are changeable, meaning that we can change, add or remove items after the dictionary has been created."
   ]
  },
  {
   "cell_type": "code",
   "execution_count": 33,
   "id": "65684117",
   "metadata": {},
   "outputs": [],
   "source": [
    "dic3['name']='Nancy'"
   ]
  },
  {
   "cell_type": "code",
   "execution_count": null,
   "id": "ea026d4b",
   "metadata": {},
   "outputs": [],
   "source": []
  },
  {
   "cell_type": "code",
   "execution_count": 34,
   "id": "f5a834d2",
   "metadata": {},
   "outputs": [
    {
     "data": {
      "text/plain": [
       "{'name': 'Nancy', 'Age': 26}"
      ]
     },
     "execution_count": 34,
     "metadata": {},
     "output_type": "execute_result"
    }
   ],
   "source": [
    "dic3"
   ]
  },
  {
   "cell_type": "code",
   "execution_count": 35,
   "id": "ecd8a014",
   "metadata": {},
   "outputs": [],
   "source": [
    "dic4['Name']='BMW'"
   ]
  },
  {
   "cell_type": "code",
   "execution_count": 36,
   "id": "7ddb8c90",
   "metadata": {},
   "outputs": [],
   "source": [
    "# modifying the element"
   ]
  },
  {
   "cell_type": "code",
   "execution_count": 37,
   "id": "67338933",
   "metadata": {},
   "outputs": [
    {
     "data": {
      "text/plain": [
       "{'Name': 'BMW',\n",
       " 'Brand': ['xyz', 'pqr'],\n",
       " 'year': [1960, 2000],\n",
       " 'electric': True}"
      ]
     },
     "execution_count": 37,
     "metadata": {},
     "output_type": "execute_result"
    }
   ],
   "source": [
    "dic4"
   ]
  },
  {
   "cell_type": "code",
   "execution_count": 38,
   "id": "51f655c7",
   "metadata": {},
   "outputs": [],
   "source": [
    "# adding new key"
   ]
  },
  {
   "cell_type": "code",
   "execution_count": 39,
   "id": "ab051fdc",
   "metadata": {},
   "outputs": [],
   "source": [
    "dic4['mode']='Petrol'"
   ]
  },
  {
   "cell_type": "code",
   "execution_count": 40,
   "id": "9d62e16b",
   "metadata": {},
   "outputs": [
    {
     "data": {
      "text/plain": [
       "{'Name': 'BMW',\n",
       " 'Brand': ['xyz', 'pqr'],\n",
       " 'year': [1960, 2000],\n",
       " 'electric': True,\n",
       " 'mode': 'Petrol'}"
      ]
     },
     "execution_count": 40,
     "metadata": {},
     "output_type": "execute_result"
    }
   ],
   "source": [
    "dic4"
   ]
  },
  {
   "cell_type": "code",
   "execution_count": 41,
   "id": "691e6a64",
   "metadata": {},
   "outputs": [],
   "source": [
    "#update() method\n",
    "thisdict3 = {\n",
    "  \"brand\": \"Ford\",\n",
    "  \"model\": \"Mustang\",\n",
    "  \"year\": 1964\n",
    "}\n"
   ]
  },
  {
   "cell_type": "code",
   "execution_count": 42,
   "id": "36aa08d7",
   "metadata": {},
   "outputs": [],
   "source": [
    "thisdict3.update({\"year\":2010})"
   ]
  },
  {
   "cell_type": "code",
   "execution_count": 43,
   "id": "b59af46b",
   "metadata": {},
   "outputs": [
    {
     "data": {
      "text/plain": [
       "{'brand': 'Ford', 'model': 'Mustang', 'year': 2010}"
      ]
     },
     "execution_count": 43,
     "metadata": {},
     "output_type": "execute_result"
    }
   ],
   "source": [
    "thisdict3"
   ]
  },
  {
   "cell_type": "code",
   "execution_count": null,
   "id": "1a903d39",
   "metadata": {},
   "outputs": [],
   "source": []
  },
  {
   "cell_type": "code",
   "execution_count": null,
   "id": "200b7827",
   "metadata": {},
   "outputs": [],
   "source": []
  },
  {
   "cell_type": "code",
   "execution_count": null,
   "id": "5baa29fa",
   "metadata": {},
   "outputs": [],
   "source": []
  },
  {
   "cell_type": "code",
   "execution_count": null,
   "id": "9ff4a68f",
   "metadata": {},
   "outputs": [],
   "source": []
  },
  {
   "cell_type": "markdown",
   "id": "c5fbc6a8",
   "metadata": {},
   "source": [
    "# Removing Items\n",
    "- pop() method removes the item with the specified key name\n",
    "- popitem() method removes the last inserted item (in versions before 3.7, a random item is removed instead)\n",
    "- del keyword removes the item with the specified key name as well as delete the dictionary completely\n",
    "- clear() method empties the dictionary"
   ]
  },
  {
   "cell_type": "code",
   "execution_count": 44,
   "id": "28c11a62",
   "metadata": {},
   "outputs": [
    {
     "data": {
      "text/plain": [
       "'Nancy'"
      ]
     },
     "execution_count": 44,
     "metadata": {},
     "output_type": "execute_result"
    }
   ],
   "source": [
    "dic3.pop('name')"
   ]
  },
  {
   "cell_type": "code",
   "execution_count": 45,
   "id": "7be39b8c",
   "metadata": {},
   "outputs": [
    {
     "data": {
      "text/plain": [
       "{'Age': 26}"
      ]
     },
     "execution_count": 45,
     "metadata": {},
     "output_type": "execute_result"
    }
   ],
   "source": [
    "dic3"
   ]
  },
  {
   "cell_type": "code",
   "execution_count": 46,
   "id": "ada9ea30",
   "metadata": {},
   "outputs": [
    {
     "data": {
      "text/plain": [
       "('year', 2010)"
      ]
     },
     "execution_count": 46,
     "metadata": {},
     "output_type": "execute_result"
    }
   ],
   "source": [
    "thisdict3.popitem()"
   ]
  },
  {
   "cell_type": "code",
   "execution_count": 47,
   "id": "0fd1d773",
   "metadata": {},
   "outputs": [
    {
     "data": {
      "text/plain": [
       "{'brand': 'Ford', 'model': 'Mustang'}"
      ]
     },
     "execution_count": 47,
     "metadata": {},
     "output_type": "execute_result"
    }
   ],
   "source": [
    "thisdict3"
   ]
  },
  {
   "cell_type": "code",
   "execution_count": 48,
   "id": "60fa8df2",
   "metadata": {},
   "outputs": [],
   "source": [
    "del thisdict3['brand']"
   ]
  },
  {
   "cell_type": "code",
   "execution_count": 49,
   "id": "649283c1",
   "metadata": {},
   "outputs": [
    {
     "data": {
      "text/plain": [
       "{'model': 'Mustang'}"
      ]
     },
     "execution_count": 49,
     "metadata": {},
     "output_type": "execute_result"
    }
   ],
   "source": [
    "thisdict3"
   ]
  },
  {
   "cell_type": "code",
   "execution_count": 50,
   "id": "ef0d1c79",
   "metadata": {},
   "outputs": [],
   "source": [
    "del thisdict1"
   ]
  },
  {
   "cell_type": "code",
   "execution_count": 51,
   "id": "ed7d30fd",
   "metadata": {},
   "outputs": [
    {
     "ename": "NameError",
     "evalue": "name 'thisdict1' is not defined",
     "output_type": "error",
     "traceback": [
      "\u001b[1;31m---------------------------------------------------------------------------\u001b[0m",
      "\u001b[1;31mNameError\u001b[0m                                 Traceback (most recent call last)",
      "Cell \u001b[1;32mIn[51], line 1\u001b[0m\n\u001b[1;32m----> 1\u001b[0m \u001b[43mthisdict1\u001b[49m\n",
      "\u001b[1;31mNameError\u001b[0m: name 'thisdict1' is not defined"
     ]
    }
   ],
   "source": [
    "thisdict1"
   ]
  },
  {
   "cell_type": "code",
   "execution_count": null,
   "id": "e191cab3",
   "metadata": {},
   "outputs": [],
   "source": [
    "thisdict.clear()"
   ]
  },
  {
   "cell_type": "code",
   "execution_count": null,
   "id": "2ec677b0",
   "metadata": {},
   "outputs": [],
   "source": [
    "thisdict"
   ]
  },
  {
   "cell_type": "markdown",
   "id": "f4717376",
   "metadata": {},
   "source": [
    "<h2>Dictionary Length:len() function</h2>"
   ]
  },
  {
   "cell_type": "code",
   "execution_count": null,
   "id": "41d0210e",
   "metadata": {},
   "outputs": [],
   "source": [
    "dic4"
   ]
  },
  {
   "cell_type": "code",
   "execution_count": null,
   "id": "acfc93ea",
   "metadata": {},
   "outputs": [],
   "source": [
    "len(dic4)"
   ]
  },
  {
   "cell_type": "markdown",
   "id": "ba3197f5",
   "metadata": {},
   "source": [
    "# Copy a Dictionary\n",
    "- You cannot copy a dictionary simply by typing dict2 = dict1, because: dict2 will only be a reference to dict1, and changes made in dict1 will automatically also be made in dict2.\n",
    "\n",
    "- There are ways to make a copy, one way is to use the built-in Dictionary method copy()."
   ]
  },
  {
   "cell_type": "code",
   "execution_count": null,
   "id": "08e096a4",
   "metadata": {},
   "outputs": [],
   "source": [
    "dic3= dic4"
   ]
  },
  {
   "cell_type": "code",
   "execution_count": null,
   "id": "1bcd36fb",
   "metadata": {},
   "outputs": [],
   "source": [
    "dic3"
   ]
  },
  {
   "cell_type": "code",
   "execution_count": null,
   "id": "0109b422",
   "metadata": {},
   "outputs": [],
   "source": [
    "dic4['electric']= False"
   ]
  },
  {
   "cell_type": "code",
   "execution_count": null,
   "id": "f1705528",
   "metadata": {},
   "outputs": [],
   "source": [
    "dic3"
   ]
  },
  {
   "cell_type": "code",
   "execution_count": null,
   "id": "73984c4d",
   "metadata": {},
   "outputs": [],
   "source": [
    "dic5= dic4.copy()"
   ]
  },
  {
   "cell_type": "code",
   "execution_count": null,
   "id": "2de30253",
   "metadata": {},
   "outputs": [],
   "source": [
    "dic5"
   ]
  },
  {
   "cell_type": "code",
   "execution_count": null,
   "id": "d2cdf8cf",
   "metadata": {},
   "outputs": [],
   "source": [
    "dic3['mode']= 'Desiel'"
   ]
  },
  {
   "cell_type": "code",
   "execution_count": null,
   "id": "5019a0bc",
   "metadata": {},
   "outputs": [],
   "source": [
    "dic4"
   ]
  },
  {
   "cell_type": "code",
   "execution_count": null,
   "id": "4ec75a70",
   "metadata": {},
   "outputs": [],
   "source": [
    "dic5"
   ]
  },
  {
   "cell_type": "code",
   "execution_count": null,
   "id": "c9c3db7d",
   "metadata": {},
   "outputs": [],
   "source": []
  },
  {
   "cell_type": "markdown",
   "id": "c9cb49a5",
   "metadata": {},
   "source": [
    "# Nested Dictionaries\n",
    "A dictionary can contain dictionaries, this is called nested dictionaries."
   ]
  },
  {
   "cell_type": "code",
   "execution_count": 52,
   "id": "203e6a67",
   "metadata": {},
   "outputs": [],
   "source": [
    "student = {1: {'name': 'John', 'age': 27, 'sex': 'Male','class':2},\n",
    "          2: {'name': 'Marie', 'age': 22, 'sex': 'Female','class':3}}"
   ]
  },
  {
   "cell_type": "code",
   "execution_count": 53,
   "id": "46451bc7",
   "metadata": {},
   "outputs": [
    {
     "data": {
      "text/plain": [
       "{1: {'name': 'John', 'age': 27, 'sex': 'Male', 'class': 2},\n",
       " 2: {'name': 'Marie', 'age': 22, 'sex': 'Female', 'class': 3}}"
      ]
     },
     "execution_count": 53,
     "metadata": {},
     "output_type": "execute_result"
    }
   ],
   "source": [
    "student"
   ]
  },
  {
   "cell_type": "code",
   "execution_count": 54,
   "id": "8d73c029",
   "metadata": {},
   "outputs": [],
   "source": [
    "people = {'name':['Pooja','Meghna','Anshika'],\n",
    "         'Age':[37,21,23]}"
   ]
  },
  {
   "cell_type": "code",
   "execution_count": 55,
   "id": "dd539f35",
   "metadata": {},
   "outputs": [
    {
     "data": {
      "text/plain": [
       "'Pooja'"
      ]
     },
     "execution_count": 55,
     "metadata": {},
     "output_type": "execute_result"
    }
   ],
   "source": [
    "people['name'][0]"
   ]
  },
  {
   "cell_type": "code",
   "execution_count": 56,
   "id": "dfbe4686",
   "metadata": {},
   "outputs": [
    {
     "data": {
      "text/plain": [
       "21"
      ]
     },
     "execution_count": 56,
     "metadata": {},
     "output_type": "execute_result"
    }
   ],
   "source": [
    "people['Age'][1]"
   ]
  },
  {
   "cell_type": "code",
   "execution_count": 57,
   "id": "27054a47",
   "metadata": {},
   "outputs": [],
   "source": [
    "student[1]['name']='Niday'"
   ]
  },
  {
   "cell_type": "code",
   "execution_count": 58,
   "id": "f5e57800",
   "metadata": {},
   "outputs": [
    {
     "data": {
      "text/plain": [
       "{1: {'name': 'Niday', 'age': 27, 'sex': 'Male', 'class': 2},\n",
       " 2: {'name': 'Marie', 'age': 22, 'sex': 'Female', 'class': 3}}"
      ]
     },
     "execution_count": 58,
     "metadata": {},
     "output_type": "execute_result"
    }
   ],
   "source": [
    "student"
   ]
  },
  {
   "cell_type": "code",
   "execution_count": 59,
   "id": "3be85f06",
   "metadata": {},
   "outputs": [],
   "source": [
    "student[2]={'name': 'Meghna', 'age': 21, 'sex': 'Female', 'class': 'DataScience'}"
   ]
  },
  {
   "cell_type": "code",
   "execution_count": 60,
   "id": "b7c56f07",
   "metadata": {},
   "outputs": [
    {
     "data": {
      "text/plain": [
       "{1: {'name': 'Niday', 'age': 27, 'sex': 'Male', 'class': 2},\n",
       " 2: {'name': 'Meghna', 'age': 21, 'sex': 'Female', 'class': 'DataScience'}}"
      ]
     },
     "execution_count": 60,
     "metadata": {},
     "output_type": "execute_result"
    }
   ],
   "source": [
    "student"
   ]
  },
  {
   "cell_type": "code",
   "execution_count": 61,
   "id": "b2901c80",
   "metadata": {},
   "outputs": [],
   "source": [
    "student[3]=dict(name = 'Anshika',age=23, sex='Female',_class= 'Python')"
   ]
  },
  {
   "cell_type": "code",
   "execution_count": 62,
   "id": "e641841e",
   "metadata": {},
   "outputs": [
    {
     "data": {
      "text/plain": [
       "{1: {'name': 'Niday', 'age': 27, 'sex': 'Male', 'class': 2},\n",
       " 2: {'name': 'Meghna', 'age': 21, 'sex': 'Female', 'class': 'DataScience'},\n",
       " 3: {'name': 'Anshika', 'age': 23, 'sex': 'Female', '_class': 'Python'}}"
      ]
     },
     "execution_count": 62,
     "metadata": {},
     "output_type": "execute_result"
    }
   ],
   "source": [
    "student"
   ]
  },
  {
   "cell_type": "code",
   "execution_count": 63,
   "id": "e551cfff",
   "metadata": {},
   "outputs": [],
   "source": [
    "student[1]['City']= 'Delhi'"
   ]
  },
  {
   "cell_type": "code",
   "execution_count": 64,
   "id": "9e10b935",
   "metadata": {},
   "outputs": [
    {
     "data": {
      "text/plain": [
       "{1: {'name': 'Niday', 'age': 27, 'sex': 'Male', 'class': 2, 'City': 'Delhi'},\n",
       " 2: {'name': 'Meghna', 'age': 21, 'sex': 'Female', 'class': 'DataScience'},\n",
       " 3: {'name': 'Anshika', 'age': 23, 'sex': 'Female', '_class': 'Python'}}"
      ]
     },
     "execution_count": 64,
     "metadata": {},
     "output_type": "execute_result"
    }
   ],
   "source": [
    "student"
   ]
  },
  {
   "cell_type": "code",
   "execution_count": 65,
   "id": "8e3460e9",
   "metadata": {},
   "outputs": [],
   "source": [
    "student[4]=dict(name = {'fname':'Pooja','lname':'Singh'},age=23, sex='Female',_class= 'Python')"
   ]
  },
  {
   "cell_type": "code",
   "execution_count": 66,
   "id": "6cbdbe03",
   "metadata": {},
   "outputs": [
    {
     "data": {
      "text/plain": [
       "{1: {'name': 'Niday', 'age': 27, 'sex': 'Male', 'class': 2, 'City': 'Delhi'},\n",
       " 2: {'name': 'Meghna', 'age': 21, 'sex': 'Female', 'class': 'DataScience'},\n",
       " 3: {'name': 'Anshika', 'age': 23, 'sex': 'Female', '_class': 'Python'},\n",
       " 4: {'name': {'fname': 'Pooja', 'lname': 'Singh'},\n",
       "  'age': 23,\n",
       "  'sex': 'Female',\n",
       "  '_class': 'Python'}}"
      ]
     },
     "execution_count": 66,
     "metadata": {},
     "output_type": "execute_result"
    }
   ],
   "source": [
    "student"
   ]
  },
  {
   "cell_type": "markdown",
   "id": "a6a57000",
   "metadata": {},
   "source": [
    "# Access Items in Nested Dictionaries"
   ]
  },
  {
   "cell_type": "code",
   "execution_count": null,
   "id": "f41605b1",
   "metadata": {},
   "outputs": [],
   "source": [
    "student[1]"
   ]
  },
  {
   "cell_type": "code",
   "execution_count": null,
   "id": "2fc2957e",
   "metadata": {},
   "outputs": [],
   "source": [
    "student[1]['name']"
   ]
  },
  {
   "cell_type": "code",
   "execution_count": 67,
   "id": "bdc8557c",
   "metadata": {},
   "outputs": [
    {
     "data": {
      "text/plain": [
       "'Pooja'"
      ]
     },
     "execution_count": 67,
     "metadata": {},
     "output_type": "execute_result"
    }
   ],
   "source": [
    "student[4]['name']['fname']"
   ]
  },
  {
   "cell_type": "code",
   "execution_count": 69,
   "id": "ec1b6c7a",
   "metadata": {},
   "outputs": [
    {
     "data": {
      "text/plain": [
       "{'name': 'Anshika', 'age': 23, 'sex': 'Female', '_class': 'Python'}"
      ]
     },
     "execution_count": 69,
     "metadata": {},
     "output_type": "execute_result"
    }
   ],
   "source": [
    "student.pop(3)"
   ]
  },
  {
   "cell_type": "code",
   "execution_count": 70,
   "id": "05ca9b24",
   "metadata": {},
   "outputs": [
    {
     "data": {
      "text/plain": [
       "{1: {'name': 'Niday', 'age': 27, 'sex': 'Male', 'class': 2, 'City': 'Delhi'},\n",
       " 2: {'name': 'Meghna', 'age': 21, 'sex': 'Female', 'class': 'DataScience'},\n",
       " 4: {'name': {'fname': 'Pooja', 'lname': 'Singh'},\n",
       "  'age': 23,\n",
       "  'sex': 'Female',\n",
       "  '_class': 'Python'}}"
      ]
     },
     "execution_count": 70,
     "metadata": {},
     "output_type": "execute_result"
    }
   ],
   "source": [
    "student"
   ]
  },
  {
   "cell_type": "code",
   "execution_count": 71,
   "id": "d13af8b6",
   "metadata": {},
   "outputs": [
    {
     "data": {
      "text/plain": [
       "(4,\n",
       " {'name': {'fname': 'Pooja', 'lname': 'Singh'},\n",
       "  'age': 23,\n",
       "  'sex': 'Female',\n",
       "  '_class': 'Python'})"
      ]
     },
     "execution_count": 71,
     "metadata": {},
     "output_type": "execute_result"
    }
   ],
   "source": [
    "student.popitem()"
   ]
  },
  {
   "cell_type": "code",
   "execution_count": 73,
   "id": "5e2cc699",
   "metadata": {},
   "outputs": [],
   "source": [
    "del student[1]['City']"
   ]
  },
  {
   "cell_type": "code",
   "execution_count": 74,
   "id": "aa381fee",
   "metadata": {},
   "outputs": [
    {
     "data": {
      "text/plain": [
       "{1: {'name': 'Niday', 'age': 27, 'sex': 'Male', 'class': 2},\n",
       " 2: {'name': 'Meghna', 'age': 21, 'sex': 'Female', 'class': 'DataScience'}}"
      ]
     },
     "execution_count": 74,
     "metadata": {},
     "output_type": "execute_result"
    }
   ],
   "source": [
    "student"
   ]
  },
  {
   "cell_type": "code",
   "execution_count": null,
   "id": "089acb82",
   "metadata": {},
   "outputs": [],
   "source": []
  }
 ],
 "metadata": {
  "kernelspec": {
   "display_name": "Python 3 (ipykernel)",
   "language": "python",
   "name": "python3"
  },
  "language_info": {
   "codemirror_mode": {
    "name": "ipython",
    "version": 3
   },
   "file_extension": ".py",
   "mimetype": "text/x-python",
   "name": "python",
   "nbconvert_exporter": "python",
   "pygments_lexer": "ipython3",
   "version": "3.11.5"
  }
 },
 "nbformat": 4,
 "nbformat_minor": 5
}

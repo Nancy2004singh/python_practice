{
 "cells": [
  {
   "cell_type": "code",
   "execution_count": 1,
   "id": "9298f6ee",
   "metadata": {},
   "outputs": [
    {
     "name": "stdout",
     "output_type": "stream",
     "text": [
      "sum of  3  and 4  is  7\n"
     ]
    }
   ],
   "source": [
    "a=3\n",
    "b=4\n",
    "print(\"sum of \",a,\" and\",b,\" is \",a+b)"
   ]
  },
  {
   "cell_type": "code",
   "execution_count": 2,
   "id": "0b399c31",
   "metadata": {},
   "outputs": [
    {
     "name": "stdout",
     "output_type": "stream",
     "text": [
      "Sum of 3 and 4 is 7\n"
     ]
    }
   ],
   "source": [
    "print(\"Sum of {} and {} is {}\".format(a,b,a+b))"
   ]
  },
  {
   "cell_type": "code",
   "execution_count": 3,
   "id": "5643cb1a",
   "metadata": {},
   "outputs": [
    {
     "name": "stdout",
     "output_type": "stream",
     "text": [
      "Sum of 4 and 3 is 7\n"
     ]
    }
   ],
   "source": [
    "print(\"Sum of {} and {} is {}\".format(b,a,a+b))"
   ]
  },
  {
   "cell_type": "code",
   "execution_count": 4,
   "id": "5050ac36",
   "metadata": {},
   "outputs": [
    {
     "name": "stdout",
     "output_type": "stream",
     "text": [
      "Sum of 3 and 4 is 7\n"
     ]
    }
   ],
   "source": [
    "print(\"Sum of {2} and {1} is {0}\".format(a+b,b,a))"
   ]
  },
  {
   "cell_type": "code",
   "execution_count": 6,
   "id": "dedb08dd",
   "metadata": {},
   "outputs": [
    {
     "name": "stdout",
     "output_type": "stream",
     "text": [
      "My name is Pooja and I am 36 years old.\n"
     ]
    }
   ],
   "source": [
    "print(\"My name is {_name} and I am {age} years old.\".format(_name=\"Pooja\",age=36))"
   ]
  },
  {
   "cell_type": "code",
   "execution_count": 7,
   "id": "ee13dbe8",
   "metadata": {},
   "outputs": [
    {
     "ename": "NameError",
     "evalue": "name '_name' is not defined",
     "output_type": "error",
     "traceback": [
      "\u001b[1;31m---------------------------------------------------------------------------\u001b[0m",
      "\u001b[1;31mNameError\u001b[0m                                 Traceback (most recent call last)",
      "Cell \u001b[1;32mIn[7], line 1\u001b[0m\n\u001b[1;32m----> 1\u001b[0m _name\n",
      "\u001b[1;31mNameError\u001b[0m: name '_name' is not defined"
     ]
    }
   ],
   "source": [
    "_name"
   ]
  },
  {
   "cell_type": "code",
   "execution_count": 8,
   "id": "10de3b1b",
   "metadata": {},
   "outputs": [
    {
     "data": {
      "text/plain": [
       "3"
      ]
     },
     "execution_count": 8,
     "metadata": {},
     "output_type": "execute_result"
    }
   ],
   "source": [
    "a"
   ]
  },
  {
   "cell_type": "code",
   "execution_count": 9,
   "id": "2e03e3ef",
   "metadata": {},
   "outputs": [
    {
     "name": "stdout",
     "output_type": "stream",
     "text": [
      "Sum of 3 and 4 is 7\n"
     ]
    }
   ],
   "source": [
    "print(f\"Sum of {a} and {b} is {a+b}\")"
   ]
  },
  {
   "cell_type": "code",
   "execution_count": 15,
   "id": "971a1d98",
   "metadata": {},
   "outputs": [
    {
     "name": "stdout",
     "output_type": "stream",
     "text": [
      "Enter the number5\n"
     ]
    }
   ],
   "source": [
    "a=int(input(\"Enter the number\"))"
   ]
  },
  {
   "cell_type": "code",
   "execution_count": 16,
   "id": "5bd7c5da",
   "metadata": {},
   "outputs": [
    {
     "data": {
      "text/plain": [
       "int"
      ]
     },
     "execution_count": 16,
     "metadata": {},
     "output_type": "execute_result"
    }
   ],
   "source": [
    "type(a)"
   ]
  },
  {
   "cell_type": "code",
   "execution_count": 13,
   "id": "1ac4a366",
   "metadata": {},
   "outputs": [],
   "source": [
    "a=int(a)"
   ]
  },
  {
   "cell_type": "code",
   "execution_count": 14,
   "id": "7ca04652",
   "metadata": {},
   "outputs": [
    {
     "data": {
      "text/plain": [
       "int"
      ]
     },
     "execution_count": 14,
     "metadata": {},
     "output_type": "execute_result"
    }
   ],
   "source": [
    "type(a)"
   ]
  },
  {
   "cell_type": "code",
   "execution_count": 19,
   "id": "f2a7d9a3",
   "metadata": {},
   "outputs": [
    {
     "name": "stdout",
     "output_type": "stream",
     "text": [
      "Enter the numbers5 12 456\n"
     ]
    }
   ],
   "source": [
    "#map(fun,values)\n",
    "a,b,c=map(int,input(\"Enter the numbers\").split(\" \"))"
   ]
  },
  {
   "cell_type": "code",
   "execution_count": 20,
   "id": "11436ca9",
   "metadata": {},
   "outputs": [
    {
     "data": {
      "text/plain": [
       "(5, 12, 456)"
      ]
     },
     "execution_count": 20,
     "metadata": {},
     "output_type": "execute_result"
    }
   ],
   "source": [
    "a,b,c"
   ]
  },
  {
   "cell_type": "code",
   "execution_count": 21,
   "id": "59af3dee",
   "metadata": {},
   "outputs": [
    {
     "name": "stdout",
     "output_type": "stream",
     "text": [
      "My name is pooja and weight is 52.5 kg\n"
     ]
    }
   ],
   "source": [
    "_name = \"pooja\"\n",
    "weight = 52.6\n",
    "print(\"My name is {1} and weight is {0} kg\".format(weight,_name))"
   ]
  },
  {
   "cell_type": "code",
   "execution_count": 22,
   "id": "14507768",
   "metadata": {},
   "outputs": [
    {
     "name": "stdout",
     "output_type": "stream",
     "text": [
      "My name is pooja and weight is 52.500000 kg\n"
     ]
    }
   ],
   "source": [
    "print(\"My name is {1} and weight is {0:f} kg\".format(weight,_name))"
   ]
  },
  {
   "cell_type": "code",
   "execution_count": 24,
   "id": "6e9adf83",
   "metadata": {},
   "outputs": [
    {
     "name": "stdout",
     "output_type": "stream",
     "text": [
      "My name is pooja and weight is 52.500 kg\n"
     ]
    }
   ],
   "source": [
    "print(\"My name is {1} and weight is {0:.3f} kg\".format(weight,_name))"
   ]
  },
  {
   "cell_type": "code",
   "execution_count": 26,
   "id": "a127eac1",
   "metadata": {},
   "outputs": [
    {
     "name": "stdout",
     "output_type": "stream",
     "text": [
      "My name is pooja and weight is 53 kg\n"
     ]
    }
   ],
   "source": [
    "weight = 52.6\n",
    "print(\"My name is {1} and weight is {0:.0f} kg\".format(weight,_name))"
   ]
  },
  {
   "cell_type": "code",
   "execution_count": 30,
   "id": "9a7b908a",
   "metadata": {},
   "outputs": [
    {
     "name": "stdout",
     "output_type": "stream",
     "text": [
      "You scored 98.000000%\n"
     ]
    }
   ],
   "source": [
    "marks = 0.98\n",
    "_name = \"pooja\"\n",
    "txt = \"You scored {:%}\"\n",
    "print(txt.format(marks))"
   ]
  },
  {
   "cell_type": "code",
   "execution_count": 31,
   "id": "26dd9cba",
   "metadata": {},
   "outputs": [
    {
     "ename": "SyntaxError",
     "evalue": "invalid syntax. Perhaps you forgot a comma? (1677118180.py, line 1)",
     "output_type": "error",
     "traceback": [
      "\u001b[1;36m  Cell \u001b[1;32mIn[31], line 1\u001b[1;36m\u001b[0m\n\u001b[1;33m    print(\"My name is \"pooja\"\")\u001b[0m\n\u001b[1;37m          ^\u001b[0m\n\u001b[1;31mSyntaxError\u001b[0m\u001b[1;31m:\u001b[0m invalid syntax. Perhaps you forgot a comma?\n"
     ]
    }
   ],
   "source": [
    "print(\"My name is \"pooja\"\")"
   ]
  },
  {
   "cell_type": "code",
   "execution_count": 33,
   "id": "b2f28c05",
   "metadata": {},
   "outputs": [
    {
     "name": "stdout",
     "output_type": "stream",
     "text": [
      "My name is \"pooja\".\n"
     ]
    }
   ],
   "source": [
    "print(\"My name is \\\"pooja\\\".\")"
   ]
  },
  {
   "cell_type": "code",
   "execution_count": 35,
   "id": "a28143bd",
   "metadata": {},
   "outputs": [
    {
     "name": "stdout",
     "output_type": "stream",
     "text": [
      "Hello \n",
      " world\n"
     ]
    }
   ],
   "source": [
    "print(\"Hello \\n world\")"
   ]
  },
  {
   "cell_type": "code",
   "execution_count": 36,
   "id": "81bc7524",
   "metadata": {},
   "outputs": [
    {
     "name": "stdout",
     "output_type": "stream",
     "text": [
      "Hello \t world\n"
     ]
    }
   ],
   "source": [
    "print(\"Hello \\t world\")"
   ]
  },
  {
   "cell_type": "code",
   "execution_count": 37,
   "id": "872c2745",
   "metadata": {},
   "outputs": [
    {
     "name": "stdout",
     "output_type": "stream",
     "text": [
      "Hello   \b world\n"
     ]
    }
   ],
   "source": [
    "print(\"Hello   \\b world\")"
   ]
  },
  {
   "cell_type": "code",
   "execution_count": 38,
   "id": "90264d82",
   "metadata": {},
   "outputs": [
    {
     "name": "stdout",
     "output_type": "stream",
     "text": [
      "Hello \\ world\n"
     ]
    }
   ],
   "source": [
    "print(\"Hello \\\\ world\")"
   ]
  },
  {
   "cell_type": "code",
   "execution_count": 39,
   "id": "22293571",
   "metadata": {},
   "outputs": [
    {
     "name": "stdout",
     "output_type": "stream",
     "text": [
      "Hello \bworld\n"
     ]
    }
   ],
   "source": [
    "print(\"Hello \\bworld\")"
   ]
  },
  {
   "cell_type": "code",
   "execution_count": 40,
   "id": "42ead1e7",
   "metadata": {},
   "outputs": [],
   "source": [
    "# boolean data type\n",
    "true(1),false(0)"
   ]
  },
  {
   "cell_type": "code",
   "execution_count": 41,
   "id": "29c2b8f8",
   "metadata": {},
   "outputs": [
    {
     "name": "stdout",
     "output_type": "stream",
     "text": [
      "Enter the numbers2 5 10\n"
     ]
    }
   ],
   "source": [
    "a,b,c=map(int,input(\"Enter the numbers\").split(\" \"))"
   ]
  },
  {
   "cell_type": "code",
   "execution_count": 44,
   "id": "7d0f1681",
   "metadata": {},
   "outputs": [
    {
     "data": {
      "text/plain": [
       "0"
      ]
     },
     "execution_count": 44,
     "metadata": {},
     "output_type": "execute_result"
    }
   ],
   "source": [
    "int(a>b)"
   ]
  },
  {
   "cell_type": "code",
   "execution_count": 43,
   "id": "80bb4599",
   "metadata": {},
   "outputs": [
    {
     "data": {
      "text/plain": [
       "True"
      ]
     },
     "execution_count": 43,
     "metadata": {},
     "output_type": "execute_result"
    }
   ],
   "source": [
    "a<b"
   ]
  },
  {
   "cell_type": "code",
   "execution_count": 45,
   "id": "54cb2b17",
   "metadata": {},
   "outputs": [
    {
     "data": {
      "text/plain": [
       "True"
      ]
     },
     "execution_count": 45,
     "metadata": {},
     "output_type": "execute_result"
    }
   ],
   "source": [
    "bool(\"Pooja\")"
   ]
  },
  {
   "cell_type": "code",
   "execution_count": 46,
   "id": "67790f43",
   "metadata": {},
   "outputs": [
    {
     "data": {
      "text/plain": [
       "False"
      ]
     },
     "execution_count": 46,
     "metadata": {},
     "output_type": "execute_result"
    }
   ],
   "source": [
    "bool(0)"
   ]
  },
  {
   "cell_type": "code",
   "execution_count": 47,
   "id": "667d9708",
   "metadata": {},
   "outputs": [
    {
     "data": {
      "text/plain": [
       "True"
      ]
     },
     "execution_count": 47,
     "metadata": {},
     "output_type": "execute_result"
    }
   ],
   "source": [
    "bool(1)"
   ]
  },
  {
   "cell_type": "code",
   "execution_count": 48,
   "id": "6e42970a",
   "metadata": {},
   "outputs": [
    {
     "data": {
      "text/plain": [
       "True"
      ]
     },
     "execution_count": 48,
     "metadata": {},
     "output_type": "execute_result"
    }
   ],
   "source": [
    "bool(57843689547809)"
   ]
  },
  {
   "cell_type": "code",
   "execution_count": 49,
   "id": "b52703aa",
   "metadata": {},
   "outputs": [
    {
     "data": {
      "text/plain": [
       "False"
      ]
     },
     "execution_count": 49,
     "metadata": {},
     "output_type": "execute_result"
    }
   ],
   "source": [
    "bool()"
   ]
  },
  {
   "cell_type": "code",
   "execution_count": 52,
   "id": "fee6f3fe",
   "metadata": {},
   "outputs": [
    {
     "name": "stdout",
     "output_type": "stream",
     "text": [
      "b is greater\n"
     ]
    }
   ],
   "source": [
    "if b>a:\n",
    "    print(\"b is greater\")\n",
    "else: \n",
    "    print(\"a is greater\")"
   ]
  },
  {
   "cell_type": "markdown",
   "id": "98f953e8",
   "metadata": {},
   "source": [
    "\n",
    "# Arithmetic operators\n",
    "#Add(+), sub(-), mul(*) and divsion(),Remainder(%),Quotient(//),power(**)"
   ]
  },
  {
   "cell_type": "code",
   "execution_count": 55,
   "id": "5bc59fa0",
   "metadata": {},
   "outputs": [
    {
     "name": "stdout",
     "output_type": "stream",
     "text": [
      "Enter the numbers4,6\n"
     ]
    }
   ],
   "source": [
    "a,b=map(int,input(\"Enter the numbers\").split(\",\"))"
   ]
  },
  {
   "cell_type": "code",
   "execution_count": 56,
   "id": "c755f8cb",
   "metadata": {},
   "outputs": [
    {
     "name": "stdout",
     "output_type": "stream",
     "text": [
      "Sum of 4 and 6 is 10\n"
     ]
    }
   ],
   "source": [
    "print(f\"Sum of {a} and {b} is {a+b}\")"
   ]
  },
  {
   "cell_type": "code",
   "execution_count": 57,
   "id": "eeb90662",
   "metadata": {},
   "outputs": [
    {
     "name": "stdout",
     "output_type": "stream",
     "text": [
      "Minus of 4 from 6 is 2\n"
     ]
    }
   ],
   "source": [
    "print(f\"Minus of {a} from {b} is {b-a}\")"
   ]
  },
  {
   "cell_type": "code",
   "execution_count": 58,
   "id": "d8e77c82",
   "metadata": {},
   "outputs": [
    {
     "name": "stdout",
     "output_type": "stream",
     "text": [
      "Product of 4 and 6 is 24\n"
     ]
    }
   ],
   "source": [
    "print(f\"Product of {a} and {b} is {a*b}\")"
   ]
  },
  {
   "cell_type": "code",
   "execution_count": 59,
   "id": "acf10f5e",
   "metadata": {},
   "outputs": [
    {
     "name": "stdout",
     "output_type": "stream",
     "text": [
      "Divsion of 4 by 6 is 0.6666666666666666\n"
     ]
    }
   ],
   "source": [
    "print(f\"Divsion of {a} by {b} is {a/b}\")"
   ]
  },
  {
   "cell_type": "code",
   "execution_count": 60,
   "id": "e6506e75",
   "metadata": {},
   "outputs": [
    {
     "name": "stdout",
     "output_type": "stream",
     "text": [
      "Remainder of Divsion of 4 by 6 is 4\n"
     ]
    }
   ],
   "source": [
    "print(f\"Remainder of Divsion of {a} by {b} is {a%b}\")"
   ]
  },
  {
   "cell_type": "code",
   "execution_count": 61,
   "id": "7f7dab1c",
   "metadata": {},
   "outputs": [
    {
     "name": "stdout",
     "output_type": "stream",
     "text": [
      "Quotient of Divsion of 4 by 6 is 0\n"
     ]
    }
   ],
   "source": [
    "print(f\"Quotient of Divsion of {a} by {b} is {a//b}\")"
   ]
  },
  {
   "cell_type": "code",
   "execution_count": 62,
   "id": "a690766b",
   "metadata": {},
   "outputs": [
    {
     "name": "stdout",
     "output_type": "stream",
     "text": [
      "Cube of 4 and 6 is 64 and 216\n"
     ]
    }
   ],
   "source": [
    "print(f\"Cube of {a} and {b} is {a**3} and {b**3}\")"
   ]
  },
  {
   "cell_type": "markdown",
   "id": "6c961dbf",
   "metadata": {},
   "source": [
    "# Assignment operators"
   ]
  },
  {
   "cell_type": "markdown",
   "id": "a449f18a",
   "metadata": {},
   "source": [
    "=,+=,-=,*=,/+,**="
   ]
  },
  {
   "cell_type": "code",
   "execution_count": 64,
   "id": "305d80e2",
   "metadata": {},
   "outputs": [],
   "source": [
    "a=[2,34,0]"
   ]
  },
  {
   "cell_type": "code",
   "execution_count": 65,
   "id": "0887a04d",
   "metadata": {},
   "outputs": [
    {
     "data": {
      "text/plain": [
       "list"
      ]
     },
     "execution_count": 65,
     "metadata": {},
     "output_type": "execute_result"
    }
   ],
   "source": [
    "type(a)"
   ]
  },
  {
   "cell_type": "code",
   "execution_count": 66,
   "id": "4cdaade6",
   "metadata": {},
   "outputs": [],
   "source": [
    "a=2"
   ]
  },
  {
   "cell_type": "code",
   "execution_count": 69,
   "id": "8434f075",
   "metadata": {},
   "outputs": [],
   "source": [
    "a=a+3"
   ]
  },
  {
   "cell_type": "code",
   "execution_count": 70,
   "id": "c72ac158",
   "metadata": {},
   "outputs": [
    {
     "data": {
      "text/plain": [
       "5"
      ]
     },
     "execution_count": 70,
     "metadata": {},
     "output_type": "execute_result"
    }
   ],
   "source": [
    "a"
   ]
  },
  {
   "cell_type": "code",
   "execution_count": 71,
   "id": "53022baf",
   "metadata": {},
   "outputs": [],
   "source": [
    "a +=3"
   ]
  },
  {
   "cell_type": "code",
   "execution_count": 72,
   "id": "8c114e97",
   "metadata": {},
   "outputs": [
    {
     "data": {
      "text/plain": [
       "8"
      ]
     },
     "execution_count": 72,
     "metadata": {},
     "output_type": "execute_result"
    }
   ],
   "source": [
    "a"
   ]
  },
  {
   "cell_type": "code",
   "execution_count": 73,
   "id": "47eb1e76",
   "metadata": {},
   "outputs": [],
   "source": [
    "a-=5"
   ]
  },
  {
   "cell_type": "code",
   "execution_count": 74,
   "id": "664fd5f5",
   "metadata": {},
   "outputs": [
    {
     "data": {
      "text/plain": [
       "3"
      ]
     },
     "execution_count": 74,
     "metadata": {},
     "output_type": "execute_result"
    }
   ],
   "source": [
    "a"
   ]
  },
  {
   "cell_type": "code",
   "execution_count": 75,
   "id": "53bcf886",
   "metadata": {},
   "outputs": [
    {
     "data": {
      "text/plain": [
       "1"
      ]
     },
     "execution_count": 75,
     "metadata": {},
     "output_type": "execute_result"
    }
   ],
   "source": [
    "a-2"
   ]
  },
  {
   "cell_type": "code",
   "execution_count": 77,
   "id": "9d37f0e7",
   "metadata": {},
   "outputs": [],
   "source": [
    "a *=5"
   ]
  },
  {
   "cell_type": "code",
   "execution_count": 78,
   "id": "ba275f89",
   "metadata": {},
   "outputs": [
    {
     "data": {
      "text/plain": [
       "15"
      ]
     },
     "execution_count": 78,
     "metadata": {},
     "output_type": "execute_result"
    }
   ],
   "source": [
    "a"
   ]
  },
  {
   "cell_type": "code",
   "execution_count": 79,
   "id": "f74cf447",
   "metadata": {},
   "outputs": [],
   "source": [
    "a /=5"
   ]
  },
  {
   "cell_type": "code",
   "execution_count": 80,
   "id": "0f9b2fe5",
   "metadata": {},
   "outputs": [
    {
     "data": {
      "text/plain": [
       "3.0"
      ]
     },
     "execution_count": 80,
     "metadata": {},
     "output_type": "execute_result"
    }
   ],
   "source": [
    "a"
   ]
  },
  {
   "cell_type": "code",
   "execution_count": 81,
   "id": "f4ad717d",
   "metadata": {},
   "outputs": [],
   "source": [
    "a %=3"
   ]
  },
  {
   "cell_type": "code",
   "execution_count": 82,
   "id": "844fd499",
   "metadata": {},
   "outputs": [
    {
     "data": {
      "text/plain": [
       "0.0"
      ]
     },
     "execution_count": 82,
     "metadata": {},
     "output_type": "execute_result"
    }
   ],
   "source": [
    "a"
   ]
  },
  {
   "cell_type": "code",
   "execution_count": 83,
   "id": "44c0fae2",
   "metadata": {},
   "outputs": [],
   "source": [
    "a=8"
   ]
  },
  {
   "cell_type": "code",
   "execution_count": 84,
   "id": "f8528b00",
   "metadata": {},
   "outputs": [],
   "source": [
    "a **=5"
   ]
  },
  {
   "cell_type": "code",
   "execution_count": 85,
   "id": "18fc4062",
   "metadata": {},
   "outputs": [
    {
     "data": {
      "text/plain": [
       "32768"
      ]
     },
     "execution_count": 85,
     "metadata": {},
     "output_type": "execute_result"
    }
   ],
   "source": [
    "a"
   ]
  },
  {
   "cell_type": "markdown",
   "id": "b2eaf2ed",
   "metadata": {},
   "source": [
    "# Comparison operators"
   ]
  },
  {
   "cell_type": "markdown",
   "id": "bd7853cd",
   "metadata": {},
   "source": [
    "# ==,<,>,<=,>=,!(not)\n",
    "Comparison operators are used to compare two values:"
   ]
  },
  {
   "cell_type": "code",
   "execution_count": 86,
   "id": "d437a8b5",
   "metadata": {},
   "outputs": [
    {
     "name": "stdout",
     "output_type": "stream",
     "text": [
      "Enter the numbers4,10,4\n"
     ]
    }
   ],
   "source": [
    "a,b,c=map(int,input(\"Enter the numbers\").split(\",\"))"
   ]
  },
  {
   "cell_type": "code",
   "execution_count": 87,
   "id": "e0d9bab0",
   "metadata": {},
   "outputs": [
    {
     "data": {
      "text/plain": [
       "True"
      ]
     },
     "execution_count": 87,
     "metadata": {},
     "output_type": "execute_result"
    }
   ],
   "source": [
    "a==c"
   ]
  },
  {
   "cell_type": "code",
   "execution_count": 88,
   "id": "3927203e",
   "metadata": {},
   "outputs": [
    {
     "data": {
      "text/plain": [
       "False"
      ]
     },
     "execution_count": 88,
     "metadata": {},
     "output_type": "execute_result"
    }
   ],
   "source": [
    "a==b"
   ]
  },
  {
   "cell_type": "code",
   "execution_count": 89,
   "id": "1813cc33",
   "metadata": {},
   "outputs": [
    {
     "data": {
      "text/plain": [
       "False"
      ]
     },
     "execution_count": 89,
     "metadata": {},
     "output_type": "execute_result"
    }
   ],
   "source": [
    "a>b"
   ]
  },
  {
   "cell_type": "code",
   "execution_count": 90,
   "id": "590b3371",
   "metadata": {},
   "outputs": [
    {
     "data": {
      "text/plain": [
       "False"
      ]
     },
     "execution_count": 90,
     "metadata": {},
     "output_type": "execute_result"
    }
   ],
   "source": [
    "a>=b"
   ]
  },
  {
   "cell_type": "code",
   "execution_count": 91,
   "id": "931a9692",
   "metadata": {},
   "outputs": [
    {
     "data": {
      "text/plain": [
       "True"
      ]
     },
     "execution_count": 91,
     "metadata": {},
     "output_type": "execute_result"
    }
   ],
   "source": [
    "a<b"
   ]
  },
  {
   "cell_type": "code",
   "execution_count": 92,
   "id": "805149e5",
   "metadata": {},
   "outputs": [
    {
     "data": {
      "text/plain": [
       "True"
      ]
     },
     "execution_count": 92,
     "metadata": {},
     "output_type": "execute_result"
    }
   ],
   "source": [
    "a<=b"
   ]
  },
  {
   "cell_type": "code",
   "execution_count": 93,
   "id": "f1ef1515",
   "metadata": {},
   "outputs": [
    {
     "data": {
      "text/plain": [
       "False"
      ]
     },
     "execution_count": 93,
     "metadata": {},
     "output_type": "execute_result"
    }
   ],
   "source": [
    "a!=c"
   ]
  },
  {
   "cell_type": "code",
   "execution_count": 94,
   "id": "6ca11e03",
   "metadata": {},
   "outputs": [
    {
     "data": {
      "text/plain": [
       "True"
      ]
     },
     "execution_count": 94,
     "metadata": {},
     "output_type": "execute_result"
    }
   ],
   "source": [
    "a!=b"
   ]
  },
  {
   "cell_type": "markdown",
   "id": "e54d1d0e",
   "metadata": {},
   "source": [
    "# Python Logical Operators\n",
    "\n",
    "And(both condition should be satisfied), or (any of the condition satisfied), not (reverse result)\n"
   ]
  },
  {
   "cell_type": "code",
   "execution_count": null,
   "id": "05ddbae7",
   "metadata": {},
   "outputs": [],
   "source": [
    "x = int(input(\"enter the number\"))\n"
   ]
  },
  {
   "cell_type": "code",
   "execution_count": null,
   "id": "fd171a07",
   "metadata": {},
   "outputs": [],
   "source": [
    "x>1 and x<20"
   ]
  },
  {
   "cell_type": "code",
   "execution_count": null,
   "id": "6c6fa6d4",
   "metadata": {},
   "outputs": [],
   "source": [
    "x>1 and x<10"
   ]
  },
  {
   "cell_type": "code",
   "execution_count": null,
   "id": "0b46a6ef",
   "metadata": {},
   "outputs": [],
   "source": [
    "x>1 or x<11"
   ]
  },
  {
   "cell_type": "code",
   "execution_count": null,
   "id": "4e019778",
   "metadata": {},
   "outputs": [],
   "source": [
    "x>10 or x>20"
   ]
  },
  {
   "cell_type": "code",
   "execution_count": null,
   "id": "11be4ca7",
   "metadata": {},
   "outputs": [],
   "source": [
    "not x<10"
   ]
  },
  {
   "cell_type": "markdown",
   "id": "8f312966",
   "metadata": {},
   "source": [
    "# Python Identity Operators\n",
    "Identity operators are used to compare the objects, not if they are equal, but if they are actually the same object, with the same memory location:\n",
    "is , is not\n"
   ]
  },
  {
   "cell_type": "code",
   "execution_count": null,
   "id": "d9e9c766",
   "metadata": {},
   "outputs": [],
   "source": [
    "x = [\"apple\", \"banana\"]\n",
    "y = [\"apple\", \"banana\"]\n",
    "z = x\n"
   ]
  },
  {
   "cell_type": "code",
   "execution_count": null,
   "id": "612c803c",
   "metadata": {},
   "outputs": [],
   "source": [
    "print(x is y)"
   ]
  },
  {
   "cell_type": "code",
   "execution_count": null,
   "id": "19357501",
   "metadata": {},
   "outputs": [],
   "source": [
    "print(x is z)"
   ]
  },
  {
   "cell_type": "code",
   "execution_count": null,
   "id": "8f7a932b",
   "metadata": {},
   "outputs": [],
   "source": [
    "print(x==y)"
   ]
  },
  {
   "cell_type": "code",
   "execution_count": null,
   "id": "598b0636",
   "metadata": {},
   "outputs": [],
   "source": [
    "print(x is not y)"
   ]
  },
  {
   "cell_type": "markdown",
   "id": "1993f735",
   "metadata": {},
   "source": [
    "# Python Membership Operators\n",
    "Membership operators are used to test if a sequence is presented in an object: in , not in\n"
   ]
  },
  {
   "cell_type": "code",
   "execution_count": null,
   "id": "267e9127",
   "metadata": {},
   "outputs": [],
   "source": [
    "_str = \"pooja Singh\""
   ]
  },
  {
   "cell_type": "code",
   "execution_count": null,
   "id": "12495cca",
   "metadata": {},
   "outputs": [],
   "source": [
    "\"oo\" in _str"
   ]
  },
  {
   "cell_type": "code",
   "execution_count": null,
   "id": "4d347f81",
   "metadata": {},
   "outputs": [],
   "source": [
    "\n",
    "'z' not in _str"
   ]
  },
  {
   "cell_type": "markdown",
   "id": "ad4cecc4",
   "metadata": {},
   "source": [
    "# Operator Precedence\n",
    "Operator precedence describes the order in which operations are performed.\n",
    "\n",
    "BODMAS- Bracket,**,Division/multiplication/\"//\",%,Addition/sub,And,Or,Not"
   ]
  },
  {
   "cell_type": "code",
   "execution_count": null,
   "id": "cce9a1fc",
   "metadata": {},
   "outputs": [],
   "source": []
  }
 ],
 "metadata": {
  "kernelspec": {
   "display_name": "Python 3 (ipykernel)",
   "language": "python",
   "name": "python3"
  },
  "language_info": {
   "codemirror_mode": {
    "name": "ipython",
    "version": 3
   },
   "file_extension": ".py",
   "mimetype": "text/x-python",
   "name": "python",
   "nbconvert_exporter": "python",
   "pygments_lexer": "ipython3",
   "version": "3.11.5"
  }
 },
 "nbformat": 4,
 "nbformat_minor": 5
}

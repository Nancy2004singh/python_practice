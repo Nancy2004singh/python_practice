{
 "cells": [
  {
   "cell_type": "markdown",
   "id": "0ad56c1e",
   "metadata": {},
   "source": [
    "# Python Numbers\n",
    "There are three numeric types in Python:\n",
    "\n",
    "int\n",
    "float\n",
    "complex"
   ]
  },
  {
   "cell_type": "raw",
   "id": "c2de8801",
   "metadata": {},
   "source": [
    "int (+ve and +ve whole number)\n",
    "float (with decimals)\n",
    "complex (real+ imaginary--2+3j)"
   ]
  },
  {
   "cell_type": "code",
   "execution_count": 1,
   "id": "8ca3272c",
   "metadata": {},
   "outputs": [
    {
     "data": {
      "text/plain": [
       "float"
      ]
     },
     "execution_count": 1,
     "metadata": {},
     "output_type": "execute_result"
    }
   ],
   "source": [
    "a = 2.0\n",
    "type(a)"
   ]
  },
  {
   "cell_type": "code",
   "execution_count": 4,
   "id": "8095826e",
   "metadata": {},
   "outputs": [
    {
     "data": {
      "text/plain": [
       "int"
      ]
     },
     "execution_count": 4,
     "metadata": {},
     "output_type": "execute_result"
    }
   ],
   "source": [
    "b = 5\n",
    "type(b)"
   ]
  },
  {
   "cell_type": "code",
   "execution_count": 10,
   "id": "828dee4e",
   "metadata": {},
   "outputs": [
    {
     "data": {
      "text/plain": [
       "complex"
      ]
     },
     "execution_count": 10,
     "metadata": {},
     "output_type": "execute_result"
    }
   ],
   "source": [
    "c = 2 + 3j\n",
    "type(c)"
   ]
  },
  {
   "cell_type": "code",
   "execution_count": 14,
   "id": "27f8716a",
   "metadata": {},
   "outputs": [
    {
     "name": "stdout",
     "output_type": "stream",
     "text": [
      "2.0\n"
     ]
    }
   ],
   "source": [
    "print(c.real)"
   ]
  },
  {
   "cell_type": "code",
   "execution_count": 16,
   "id": "776e9883",
   "metadata": {},
   "outputs": [
    {
     "name": "stdout",
     "output_type": "stream",
     "text": [
      "3.0\n"
     ]
    }
   ],
   "source": [
    "print(c.imag)"
   ]
  },
  {
   "cell_type": "code",
   "execution_count": 17,
   "id": "4d35f638",
   "metadata": {},
   "outputs": [
    {
     "data": {
      "text/plain": [
       "2"
      ]
     },
     "execution_count": 17,
     "metadata": {},
     "output_type": "execute_result"
    }
   ],
   "source": [
    "int(2.0)"
   ]
  },
  {
   "cell_type": "code",
   "execution_count": 18,
   "id": "d8a5862c",
   "metadata": {},
   "outputs": [
    {
     "data": {
      "text/plain": [
       "5.0"
      ]
     },
     "execution_count": 18,
     "metadata": {},
     "output_type": "execute_result"
    }
   ],
   "source": [
    "float(b)"
   ]
  },
  {
   "cell_type": "code",
   "execution_count": 20,
   "id": "2947ff8a",
   "metadata": {},
   "outputs": [
    {
     "ename": "TypeError",
     "evalue": "float() argument must be a string or a real number, not 'complex'",
     "output_type": "error",
     "traceback": [
      "\u001b[1;31m---------------------------------------------------------------------------\u001b[0m",
      "\u001b[1;31mTypeError\u001b[0m                                 Traceback (most recent call last)",
      "Cell \u001b[1;32mIn[20], line 1\u001b[0m\n\u001b[1;32m----> 1\u001b[0m \u001b[38;5;28;43mfloat\u001b[39;49m\u001b[43m(\u001b[49m\u001b[43mc\u001b[49m\u001b[43m)\u001b[49m\n",
      "\u001b[1;31mTypeError\u001b[0m: float() argument must be a string or a real number, not 'complex'"
     ]
    }
   ],
   "source": [
    "float(c)"
   ]
  },
  {
   "cell_type": "code",
   "execution_count": null,
   "id": "75901ea1",
   "metadata": {},
   "outputs": [],
   "source": []
  },
  {
   "cell_type": "markdown",
   "id": "ede2c23c",
   "metadata": {},
   "source": [
    "# Strings\n",
    "Strings in python are surrounded by either single quotation marks, or double quotation marks.\n",
    "A string in Python consists of a series or sequence of characters - letters, numbers, and special characters.\n",
    "Strings can be indexed starting with 0 which is first character.\n"
   ]
  },
  {
   "cell_type": "code",
   "execution_count": 27,
   "id": "c5cf1902",
   "metadata": {},
   "outputs": [],
   "source": [
    "_name = \"My name is Pooja\""
   ]
  },
  {
   "cell_type": "code",
   "execution_count": 28,
   "id": "3c6be406",
   "metadata": {},
   "outputs": [
    {
     "name": "stdout",
     "output_type": "stream",
     "text": [
      "My name is Pooja\n"
     ]
    }
   ],
   "source": [
    "print(_name)"
   ]
  },
  {
   "cell_type": "code",
   "execution_count": 23,
   "id": "d911fa7a",
   "metadata": {},
   "outputs": [
    {
     "data": {
      "text/plain": [
       "str"
      ]
     },
     "execution_count": 23,
     "metadata": {},
     "output_type": "execute_result"
    }
   ],
   "source": [
    "type(_name)"
   ]
  },
  {
   "cell_type": "code",
   "execution_count": null,
   "id": "0764d1e5",
   "metadata": {},
   "outputs": [],
   "source": []
  },
  {
   "cell_type": "code",
   "execution_count": null,
   "id": "a8563f35",
   "metadata": {},
   "outputs": [],
   "source": []
  },
  {
   "cell_type": "code",
   "execution_count": null,
   "id": "622c5a27",
   "metadata": {},
   "outputs": [],
   "source": []
  },
  {
   "cell_type": "code",
   "execution_count": null,
   "id": "bd473c59",
   "metadata": {},
   "outputs": [],
   "source": []
  },
  {
   "cell_type": "markdown",
   "id": "2fef1b0d",
   "metadata": {},
   "source": [
    "# Multiline Strings\n",
    "You can assign a multiline string to a variable by using three quotes:"
   ]
  },
  {
   "cell_type": "code",
   "execution_count": 25,
   "id": "e3273ce1",
   "metadata": {},
   "outputs": [],
   "source": [
    "a = \"\"\"My name is pooja.\n",
    "I am 37 years old.\n",
    "I live in Vaishali\"\"\""
   ]
  },
  {
   "cell_type": "code",
   "execution_count": 26,
   "id": "96c0b2ac",
   "metadata": {},
   "outputs": [
    {
     "data": {
      "text/plain": [
       "'My name is pooja.\\nI am 37 years old.\\nI live in Vaishali'"
      ]
     },
     "execution_count": 26,
     "metadata": {},
     "output_type": "execute_result"
    }
   ],
   "source": [
    "a"
   ]
  },
  {
   "cell_type": "code",
   "execution_count": null,
   "id": "c1704f4d",
   "metadata": {},
   "outputs": [],
   "source": []
  },
  {
   "cell_type": "code",
   "execution_count": null,
   "id": "6f773374",
   "metadata": {},
   "outputs": [],
   "source": []
  },
  {
   "cell_type": "markdown",
   "id": "f5e31c67",
   "metadata": {},
   "source": [
    "# Indexing a String\n",
    "\n",
    "accessing one character based on the position."
   ]
  },
  {
   "cell_type": "code",
   "execution_count": 29,
   "id": "a5232021",
   "metadata": {},
   "outputs": [],
   "source": [
    "_name = \"My name is Pooja\""
   ]
  },
  {
   "cell_type": "code",
   "execution_count": 30,
   "id": "657c586a",
   "metadata": {},
   "outputs": [
    {
     "data": {
      "text/plain": [
       "'M'"
      ]
     },
     "execution_count": 30,
     "metadata": {},
     "output_type": "execute_result"
    }
   ],
   "source": [
    "_name[0]"
   ]
  },
  {
   "cell_type": "code",
   "execution_count": 31,
   "id": "4d202f06",
   "metadata": {},
   "outputs": [
    {
     "data": {
      "text/plain": [
       "'P'"
      ]
     },
     "execution_count": 31,
     "metadata": {},
     "output_type": "execute_result"
    }
   ],
   "source": [
    "_name[11]"
   ]
  },
  {
   "cell_type": "markdown",
   "id": "e08bf235",
   "metadata": {},
   "source": [
    "# Length of String"
   ]
  },
  {
   "cell_type": "code",
   "execution_count": null,
   "id": "3ff970f9",
   "metadata": {},
   "outputs": [],
   "source": [
    "# total number of characters in a string"
   ]
  },
  {
   "cell_type": "code",
   "execution_count": 32,
   "id": "20bf0110",
   "metadata": {},
   "outputs": [
    {
     "data": {
      "text/plain": [
       "16"
      ]
     },
     "execution_count": 32,
     "metadata": {},
     "output_type": "execute_result"
    }
   ],
   "source": [
    "len(_name)"
   ]
  },
  {
   "cell_type": "code",
   "execution_count": 34,
   "id": "b700fb76",
   "metadata": {},
   "outputs": [
    {
     "data": {
      "text/plain": [
       "'a'"
      ]
     },
     "execution_count": 34,
     "metadata": {},
     "output_type": "execute_result"
    }
   ],
   "source": [
    "_name[15]"
   ]
  },
  {
   "cell_type": "code",
   "execution_count": null,
   "id": "11e5a670",
   "metadata": {},
   "outputs": [],
   "source": []
  },
  {
   "cell_type": "code",
   "execution_count": null,
   "id": "4dda8f02",
   "metadata": {},
   "outputs": [],
   "source": []
  },
  {
   "cell_type": "code",
   "execution_count": null,
   "id": "9714a62f",
   "metadata": {},
   "outputs": [],
   "source": [
    "# accessing the last character of string\n"
   ]
  },
  {
   "cell_type": "code",
   "execution_count": 35,
   "id": "cbe0b579",
   "metadata": {},
   "outputs": [
    {
     "data": {
      "text/plain": [
       "'a'"
      ]
     },
     "execution_count": 35,
     "metadata": {},
     "output_type": "execute_result"
    }
   ],
   "source": [
    "_name[len(_name)-1]"
   ]
  },
  {
   "cell_type": "code",
   "execution_count": null,
   "id": "ba8bb897",
   "metadata": {},
   "outputs": [],
   "source": []
  },
  {
   "cell_type": "markdown",
   "id": "0cae74b7",
   "metadata": {},
   "source": [
    "# Negative Indexing\n",
    "\n",
    "writting len(my_str) is optional.\n",
    "\n",
    "That's how Python give rise to Negative Indexing"
   ]
  },
  {
   "cell_type": "code",
   "execution_count": 36,
   "id": "8100c199",
   "metadata": {},
   "outputs": [
    {
     "data": {
      "text/plain": [
       "'a'"
      ]
     },
     "execution_count": 36,
     "metadata": {},
     "output_type": "execute_result"
    }
   ],
   "source": [
    "_name[-1]"
   ]
  },
  {
   "cell_type": "code",
   "execution_count": 37,
   "id": "b3a583ab",
   "metadata": {},
   "outputs": [
    {
     "data": {
      "text/plain": [
       "'j'"
      ]
     },
     "execution_count": 37,
     "metadata": {},
     "output_type": "execute_result"
    }
   ],
   "source": [
    "_name[-2]"
   ]
  },
  {
   "cell_type": "code",
   "execution_count": null,
   "id": "aa631321",
   "metadata": {},
   "outputs": [],
   "source": []
  },
  {
   "cell_type": "markdown",
   "id": "041319e2",
   "metadata": {},
   "source": [
    "# Check String\n",
    "To check if a certain phrase or character is present in a string, we can use the keyword in."
   ]
  },
  {
   "cell_type": "code",
   "execution_count": 39,
   "id": "ae2d3840",
   "metadata": {},
   "outputs": [
    {
     "data": {
      "text/plain": [
       "True"
      ]
     },
     "execution_count": 39,
     "metadata": {},
     "output_type": "execute_result"
    }
   ],
   "source": [
    "'y' in _name"
   ]
  },
  {
   "cell_type": "code",
   "execution_count": 40,
   "id": "b32eb4b6",
   "metadata": {},
   "outputs": [
    {
     "data": {
      "text/plain": [
       "False"
      ]
     },
     "execution_count": 40,
     "metadata": {},
     "output_type": "execute_result"
    }
   ],
   "source": [
    "'z' in _name"
   ]
  },
  {
   "cell_type": "code",
   "execution_count": 41,
   "id": "59a533f3",
   "metadata": {},
   "outputs": [
    {
     "data": {
      "text/plain": [
       "True"
      ]
     },
     "execution_count": 41,
     "metadata": {},
     "output_type": "execute_result"
    }
   ],
   "source": [
    "'My' in _name"
   ]
  },
  {
   "cell_type": "code",
   "execution_count": null,
   "id": "261da056",
   "metadata": {},
   "outputs": [],
   "source": []
  },
  {
   "cell_type": "markdown",
   "id": "8551a1db",
   "metadata": {},
   "source": [
    "# Check if NOT\n",
    "To check if a certain phrase or character is NOT present in a string, we can use the keyword not in."
   ]
  },
  {
   "cell_type": "code",
   "execution_count": 42,
   "id": "8bdf2894",
   "metadata": {},
   "outputs": [
    {
     "data": {
      "text/plain": [
       "False"
      ]
     },
     "execution_count": 42,
     "metadata": {},
     "output_type": "execute_result"
    }
   ],
   "source": [
    "'y' not in _name"
   ]
  },
  {
   "cell_type": "code",
   "execution_count": 43,
   "id": "556f88e4",
   "metadata": {},
   "outputs": [
    {
     "data": {
      "text/plain": [
       "True"
      ]
     },
     "execution_count": 43,
     "metadata": {},
     "output_type": "execute_result"
    }
   ],
   "source": [
    "'are' not in _name"
   ]
  },
  {
   "cell_type": "code",
   "execution_count": null,
   "id": "7711ced4",
   "metadata": {},
   "outputs": [],
   "source": []
  },
  {
   "cell_type": "markdown",
   "id": "fe190b05",
   "metadata": {},
   "source": [
    "# String Slicing\n",
    "extracting multiple characters from a string (sub string)\n",
    "Syntax : str[start_idx : end_idx +1]\n",
    "Syntax : str[start_idx : end_idx +1 : step_size]"
   ]
  },
  {
   "cell_type": "code",
   "execution_count": 44,
   "id": "32e4c401",
   "metadata": {},
   "outputs": [
    {
     "data": {
      "text/plain": [
       "'My name is Pooja'"
      ]
     },
     "execution_count": 44,
     "metadata": {},
     "output_type": "execute_result"
    }
   ],
   "source": [
    "_name"
   ]
  },
  {
   "cell_type": "code",
   "execution_count": 46,
   "id": "9d5dac47",
   "metadata": {},
   "outputs": [
    {
     "data": {
      "text/plain": [
       "'name'"
      ]
     },
     "execution_count": 46,
     "metadata": {},
     "output_type": "execute_result"
    }
   ],
   "source": [
    "_name[3:7]"
   ]
  },
  {
   "cell_type": "code",
   "execution_count": 50,
   "id": "82799d76",
   "metadata": {},
   "outputs": [
    {
     "ename": "ValueError",
     "evalue": "slice step cannot be zero",
     "output_type": "error",
     "traceback": [
      "\u001b[1;31m---------------------------------------------------------------------------\u001b[0m",
      "\u001b[1;31mValueError\u001b[0m                                Traceback (most recent call last)",
      "Cell \u001b[1;32mIn[50], line 1\u001b[0m\n\u001b[1;32m----> 1\u001b[0m \u001b[43m_name\u001b[49m\u001b[43m[\u001b[49m\u001b[38;5;241;43m3\u001b[39;49m\u001b[43m:\u001b[49m\u001b[38;5;241;43m7\u001b[39;49m\u001b[43m:\u001b[49m\u001b[38;5;241;43m0\u001b[39;49m\u001b[43m]\u001b[49m\n",
      "\u001b[1;31mValueError\u001b[0m: slice step cannot be zero"
     ]
    }
   ],
   "source": [
    "_name[3:7:0]"
   ]
  },
  {
   "cell_type": "code",
   "execution_count": 52,
   "id": "1db43469",
   "metadata": {},
   "outputs": [
    {
     "data": {
      "text/plain": [
       "'name'"
      ]
     },
     "execution_count": 52,
     "metadata": {},
     "output_type": "execute_result"
    }
   ],
   "source": [
    "_name[3:7:1]"
   ]
  },
  {
   "cell_type": "code",
   "execution_count": 53,
   "id": "c39cee3d",
   "metadata": {},
   "outputs": [
    {
     "data": {
      "text/plain": [
       "'nm'"
      ]
     },
     "execution_count": 53,
     "metadata": {},
     "output_type": "execute_result"
    }
   ],
   "source": [
    "_name[3:7:2]"
   ]
  },
  {
   "cell_type": "code",
   "execution_count": 54,
   "id": "a2d1e076",
   "metadata": {},
   "outputs": [
    {
     "data": {
      "text/plain": [
       "''"
      ]
     },
     "execution_count": 54,
     "metadata": {},
     "output_type": "execute_result"
    }
   ],
   "source": [
    "_name[3:7:-1]"
   ]
  },
  {
   "cell_type": "code",
   "execution_count": 55,
   "id": "5a98bb0c",
   "metadata": {},
   "outputs": [
    {
     "data": {
      "text/plain": [
       "' ema'"
      ]
     },
     "execution_count": 55,
     "metadata": {},
     "output_type": "execute_result"
    }
   ],
   "source": [
    "_name[7:3:-1]"
   ]
  },
  {
   "cell_type": "code",
   "execution_count": 56,
   "id": "f4723a5b",
   "metadata": {},
   "outputs": [
    {
     "data": {
      "text/plain": [
       "'My name is Pooja'"
      ]
     },
     "execution_count": 56,
     "metadata": {},
     "output_type": "execute_result"
    }
   ],
   "source": [
    "_name[:]"
   ]
  },
  {
   "cell_type": "code",
   "execution_count": 57,
   "id": "54eff36a",
   "metadata": {},
   "outputs": [
    {
     "data": {
      "text/plain": [
       "'My name is Pooj'"
      ]
     },
     "execution_count": 57,
     "metadata": {},
     "output_type": "execute_result"
    }
   ],
   "source": [
    "_name[:-1]"
   ]
  },
  {
   "cell_type": "code",
   "execution_count": 58,
   "id": "9471dcd5",
   "metadata": {},
   "outputs": [
    {
     "data": {
      "text/plain": [
       "'ajooP si eman yM'"
      ]
     },
     "execution_count": 58,
     "metadata": {},
     "output_type": "execute_result"
    }
   ],
   "source": [
    "_name[::-1]"
   ]
  },
  {
   "cell_type": "code",
   "execution_count": 59,
   "id": "3055474c",
   "metadata": {},
   "outputs": [
    {
     "data": {
      "text/plain": [
       "'My name'"
      ]
     },
     "execution_count": 59,
     "metadata": {},
     "output_type": "execute_result"
    }
   ],
   "source": [
    "_name[:7]"
   ]
  },
  {
   "cell_type": "code",
   "execution_count": 60,
   "id": "67192102",
   "metadata": {},
   "outputs": [
    {
     "data": {
      "text/plain": [
       "' is Pooja'"
      ]
     },
     "execution_count": 60,
     "metadata": {},
     "output_type": "execute_result"
    }
   ],
   "source": [
    "_name[7:]"
   ]
  },
  {
   "cell_type": "code",
   "execution_count": 61,
   "id": "0350a434",
   "metadata": {},
   "outputs": [
    {
     "data": {
      "text/plain": [
       "'My name is Poo'"
      ]
     },
     "execution_count": 61,
     "metadata": {},
     "output_type": "execute_result"
    }
   ],
   "source": [
    "_name[:len(_name)-2]"
   ]
  },
  {
   "cell_type": "code",
   "execution_count": null,
   "id": "2d061315",
   "metadata": {},
   "outputs": [],
   "source": []
  }
 ],
 "metadata": {
  "kernelspec": {
   "display_name": "Python 3 (ipykernel)",
   "language": "python",
   "name": "python3"
  },
  "language_info": {
   "codemirror_mode": {
    "name": "ipython",
    "version": 3
   },
   "file_extension": ".py",
   "mimetype": "text/x-python",
   "name": "python",
   "nbconvert_exporter": "python",
   "pygments_lexer": "ipython3",
   "version": "3.11.5"
  }
 },
 "nbformat": 4,
 "nbformat_minor": 5
}

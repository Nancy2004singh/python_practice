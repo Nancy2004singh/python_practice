{
 "cells": [
  {
   "cell_type": "markdown",
   "id": "7b392d57",
   "metadata": {},
   "source": [
    "# Filter:\n",
    "The filter function is used to filter out elements from a sequence based on a certain condition. It takes two parameters: the first parameter is the condition and the second parameter is the sequence to be filtered."
   ]
  },
  {
   "cell_type": "code",
   "execution_count": 11,
   "id": "36927c2f",
   "metadata": {},
   "outputs": [
    {
     "data": {
      "text/plain": [
       "['apple', 'banana', 'strawberry', 'watermelon']"
      ]
     },
     "execution_count": 11,
     "metadata": {},
     "output_type": "execute_result"
    }
   ],
   "source": [
    "#Filter all the fruits name having 'a' in the name\n",
    "\n",
    "fruits=['apple','banana','cherry','strawberry','watermelon']\n",
    "list(filter(lambda x: 'a' in x,fruits))\n"
   ]
  },
  {
   "cell_type": "code",
   "execution_count": 8,
   "id": "99873f2b",
   "metadata": {},
   "outputs": [
    {
     "name": "stdout",
     "output_type": "stream",
     "text": [
      "a is not present in cherry\n"
     ]
    }
   ],
   "source": [
    "y=lambda x: print(f\"a is present in {x}\") if 'a' in x  else print(f\"a is not present in {x}\")\n",
    "y(\"cherry\")"
   ]
  },
  {
   "cell_type": "code",
   "execution_count": 9,
   "id": "5f964162",
   "metadata": {},
   "outputs": [
    {
     "name": "stdout",
     "output_type": "stream",
     "text": [
      "a is present in apple\n",
      "a is present in banana\n",
      "a is not present in cherry\n",
      "a is present in strawberry\n",
      "a is present in watermelon\n"
     ]
    },
    {
     "data": {
      "text/plain": [
       "[None, None, None, None, None]"
      ]
     },
     "execution_count": 9,
     "metadata": {},
     "output_type": "execute_result"
    }
   ],
   "source": [
    "list(map(lambda x: print(f\"a is present in {x}\") if 'a' in x  else print(f\"a is not present in {x}\"),fruits))"
   ]
  },
  {
   "cell_type": "code",
   "execution_count": 12,
   "id": "e8eccdfe",
   "metadata": {},
   "outputs": [
    {
     "name": "stdout",
     "output_type": "stream",
     "text": [
      "Enter the numbers2,3,4,8,11,17\n"
     ]
    },
    {
     "data": {
      "text/plain": [
       "[2, 4, 8]"
      ]
     },
     "execution_count": 12,
     "metadata": {},
     "output_type": "execute_result"
    }
   ],
   "source": [
    "#filter all the even number from the list\n",
    "num = list(map(int,input(\"Enter the numbers\").split(\",\")))\n",
    "\n",
    "list(filter(lambda x: x%2==0,num))"
   ]
  },
  {
   "cell_type": "markdown",
   "id": "1af5c62f",
   "metadata": {},
   "source": [
    "# MAP + Filter"
   ]
  },
  {
   "cell_type": "code",
   "execution_count": 13,
   "id": "626a0bdf",
   "metadata": {},
   "outputs": [
    {
     "data": {
      "text/plain": [
       "['APPLE', 'BANANA', 'STRAWBERRY', 'WATERMELON']"
      ]
     },
     "execution_count": 13,
     "metadata": {},
     "output_type": "execute_result"
    }
   ],
   "source": [
    "#Write the name in upper case having 'a' in its name\n",
    "\n",
    "fruits=['apple','banana','cherry','strawberry','watermelon']\n",
    "\n",
    "list(map(lambda x : x.upper(),list(filter(lambda x: 'a' in x,fruits))))"
   ]
  },
  {
   "cell_type": "raw",
   "id": "70382fd3",
   "metadata": {},
   "source": [
    "# Questions for homework\n",
    "\n",
    "Given a list of names ['Alice', 'Bob', 'Charlie', 'David'], write a lambda function and \n",
    "use the map() function to convert each name to uppercase.\n",
    "\n",
    "Given a list of strings ['apple', 'banana', 'cherry', 'date'], write a lambda function and use the filter() function to return only the strings that have more than 5 characters.\n",
    "\n",
    "Given a list of numbers [1, 2, 3, 4, 5, 6, 7, 8, 9, 10], write a lambda function and use the filter() function to return only the numbers that are perfect squares.\n",
    "\n",
    "Given a list of names ['Alice', 'Bob', 'Charlie', 'David'], write a lambda function and use the map() function to create a new list that contains the length of each name.\n",
    "\n",
    "Given a list of numbers [1, 2, 3, 4, 5], use a lambda function and both map() and filter() functions to create a new list that contains the squares of even numbers."
   ]
  },
  {
   "cell_type": "code",
   "execution_count": 16,
   "id": "619d3e6e",
   "metadata": {},
   "outputs": [
    {
     "name": "stdout",
     "output_type": "stream",
     "text": [
      "1 Apple\n",
      "2 Banana\n",
      "3 Cherry\n"
     ]
    }
   ],
   "source": [
    "#enumerate()\n",
    "lst=[\"Apple\",\"Banana\",\"Cherry\"]\n",
    "for i,j in enumerate(lst,start=1):\n",
    "    print(i,j)"
   ]
  },
  {
   "cell_type": "code",
   "execution_count": 17,
   "id": "e4c72183",
   "metadata": {},
   "outputs": [],
   "source": [
    "food= {'Fruit':['Apple','banana'],\n",
    "      'Juice':['Lemon','Cherry'],\n",
    "      'Snacks':['noodles','pasta']}"
   ]
  },
  {
   "cell_type": "code",
   "execution_count": 19,
   "id": "2661ec96",
   "metadata": {},
   "outputs": [
    {
     "name": "stdout",
     "output_type": "stream",
     "text": [
      "0 Fruit : ['Apple', 'banana']\n",
      "1 Juice : ['Lemon', 'Cherry']\n",
      "2 Snacks : ['noodles', 'pasta']\n"
     ]
    }
   ],
   "source": [
    "for i,j in enumerate(food):\n",
    "    print(i,j,\":\",food[j])"
   ]
  },
  {
   "cell_type": "code",
   "execution_count": null,
   "id": "7a2fcfb2",
   "metadata": {},
   "outputs": [],
   "source": []
  },
  {
   "cell_type": "code",
   "execution_count": 26,
   "id": "d077627d",
   "metadata": {},
   "outputs": [
    {
     "data": {
      "text/plain": [
       "12"
      ]
     },
     "execution_count": 26,
     "metadata": {},
     "output_type": "execute_result"
    }
   ],
   "source": [
    "#Aggregation functions : sum(), max(), min()\n",
    "sum([1,2,3,4],start=2)\n"
   ]
  },
  {
   "cell_type": "code",
   "execution_count": 27,
   "id": "a736754a",
   "metadata": {},
   "outputs": [
    {
     "data": {
      "text/plain": [
       "10"
      ]
     },
     "execution_count": 27,
     "metadata": {},
     "output_type": "execute_result"
    }
   ],
   "source": [
    "l=[3,10,7,6]\n",
    "max(l)\n"
   ]
  },
  {
   "cell_type": "code",
   "execution_count": 28,
   "id": "5c7277ef",
   "metadata": {},
   "outputs": [
    {
     "data": {
      "text/plain": [
       "3"
      ]
     },
     "execution_count": 28,
     "metadata": {},
     "output_type": "execute_result"
    }
   ],
   "source": [
    "min(l)"
   ]
  },
  {
   "cell_type": "code",
   "execution_count": 30,
   "id": "bc6c397d",
   "metadata": {},
   "outputs": [
    {
     "data": {
      "text/plain": [
       "24"
      ]
     },
     "execution_count": 30,
     "metadata": {},
     "output_type": "execute_result"
    }
   ],
   "source": [
    "#round(),floor(),ceil()\n",
    "round(23.65)"
   ]
  },
  {
   "cell_type": "code",
   "execution_count": 37,
   "id": "0c89916f",
   "metadata": {},
   "outputs": [
    {
     "data": {
      "text/plain": [
       "23"
      ]
     },
     "execution_count": 37,
     "metadata": {},
     "output_type": "execute_result"
    }
   ],
   "source": [
    "import math as m\n",
    "a=23.65\n",
    "\n",
    "m.floor(a)\n",
    "\n"
   ]
  },
  {
   "cell_type": "code",
   "execution_count": 38,
   "id": "d1680bfb",
   "metadata": {},
   "outputs": [
    {
     "data": {
      "text/plain": [
       "24"
      ]
     },
     "execution_count": 38,
     "metadata": {},
     "output_type": "execute_result"
    }
   ],
   "source": [
    "m.ceil(a)"
   ]
  },
  {
   "cell_type": "code",
   "execution_count": 40,
   "id": "9a7e3424",
   "metadata": {},
   "outputs": [],
   "source": [
    "from math import floor,ceil \n",
    "floor"
   ]
  },
  {
   "cell_type": "markdown",
   "id": "0c12b9bb",
   "metadata": {},
   "source": [
    "# Python Function Recursion\n",
    "Python also accepts function recursion, which means a defined function can call itself."
   ]
  },
  {
   "cell_type": "code",
   "execution_count": 41,
   "id": "eee21307",
   "metadata": {},
   "outputs": [],
   "source": [
    "# Recursive function for factorial\n",
    "\n",
    "def fact(n):\n",
    "    f=1\n",
    "    for i in range(n,0,-1):\n",
    "        f*=i\n",
    "    return f    "
   ]
  },
  {
   "cell_type": "code",
   "execution_count": 42,
   "id": "91bcc85f",
   "metadata": {},
   "outputs": [
    {
     "data": {
      "text/plain": [
       "120"
      ]
     },
     "execution_count": 42,
     "metadata": {},
     "output_type": "execute_result"
    }
   ],
   "source": [
    "fact(5)"
   ]
  },
  {
   "cell_type": "code",
   "execution_count": 1,
   "id": "4c7930bf",
   "metadata": {},
   "outputs": [],
   "source": [
    "def fact_recursive(n):\n",
    "    if n==1:\n",
    "        return n\n",
    "    else:\n",
    "        return n*fact_recursive(n-1)\n",
    "    "
   ]
  },
  {
   "cell_type": "code",
   "execution_count": 3,
   "id": "9886f31c",
   "metadata": {},
   "outputs": [
    {
     "data": {
      "text/plain": [
       "24"
      ]
     },
     "execution_count": 3,
     "metadata": {},
     "output_type": "execute_result"
    }
   ],
   "source": [
    "fact_recursive(4)"
   ]
  },
  {
   "cell_type": "code",
   "execution_count": null,
   "id": "c3f4291f",
   "metadata": {},
   "outputs": [],
   "source": [
    "#Recursive function for fibonacci"
   ]
  },
  {
   "cell_type": "code",
   "execution_count": null,
   "id": "f2557056",
   "metadata": {},
   "outputs": [],
   "source": []
  },
  {
   "cell_type": "code",
   "execution_count": null,
   "id": "d6311424",
   "metadata": {},
   "outputs": [],
   "source": [
    "0 1 1 2 3"
   ]
  },
  {
   "cell_type": "raw",
   "id": "aed3141e",
   "metadata": {},
   "source": [
    "1.Write the recursive function to find the sum of numbers in given list.\n",
    "2.Write a recursive function that accepts a number as its argument and returns the sum of digits."
   ]
  },
  {
   "cell_type": "raw",
   "id": "6edd79cc",
   "metadata": {},
   "source": [
    "1.Write the recursive function to find the sum of numbers in given list.\n"
   ]
  },
  {
   "cell_type": "code",
   "execution_count": 63,
   "id": "b743ee42",
   "metadata": {},
   "outputs": [],
   "source": [
    "def sum_lst(l):\n",
    "    i=0\n",
    "    if len(l)==1:\n",
    "        return l[i]\n",
    "    else:\n",
    "        return l[i] + sum_lst(l[1:])\n",
    "       \n",
    "        \n",
    "        "
   ]
  },
  {
   "cell_type": "code",
   "execution_count": 64,
   "id": "6bc2f44f",
   "metadata": {},
   "outputs": [
    {
     "data": {
      "text/plain": [
       "[3, 10, 7, 6]"
      ]
     },
     "execution_count": 64,
     "metadata": {},
     "output_type": "execute_result"
    }
   ],
   "source": [
    "l"
   ]
  },
  {
   "cell_type": "code",
   "execution_count": 65,
   "id": "069126f2",
   "metadata": {},
   "outputs": [
    {
     "name": "stdout",
     "output_type": "stream",
     "text": [
      "26\n"
     ]
    }
   ],
   "source": [
    "print(sum_lst(l))"
   ]
  },
  {
   "cell_type": "code",
   "execution_count": null,
   "id": "0377bd3c",
   "metadata": {},
   "outputs": [],
   "source": []
  }
 ],
 "metadata": {
  "kernelspec": {
   "display_name": "Python 3 (ipykernel)",
   "language": "python",
   "name": "python3"
  },
  "language_info": {
   "codemirror_mode": {
    "name": "ipython",
    "version": 3
   },
   "file_extension": ".py",
   "mimetype": "text/x-python",
   "name": "python",
   "nbconvert_exporter": "python",
   "pygments_lexer": "ipython3",
   "version": "3.11.5"
  }
 },
 "nbformat": 4,
 "nbformat_minor": 5
}

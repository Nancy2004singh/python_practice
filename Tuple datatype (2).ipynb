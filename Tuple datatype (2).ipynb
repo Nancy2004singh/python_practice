{
 "cells": [
  {
   "cell_type": "markdown",
   "id": "0b940c84",
   "metadata": {},
   "source": [
    "# Tuples\n",
    "    - similar to lists ( but read-only )\n",
    "    - ordered,  collections of items\n",
    "    - indexable/slicing\n",
    "    - immutable\n",
    "    - allow duplicate values\n",
    "    - Tuples are written with round brackets.\n",
    "    - allow Heterogenous elements"
   ]
  },
  {
   "cell_type": "code",
   "execution_count": 1,
   "id": "25a21bb6",
   "metadata": {},
   "outputs": [],
   "source": [
    "# creating empty tuple"
   ]
  },
  {
   "cell_type": "code",
   "execution_count": 1,
   "id": "914ee535",
   "metadata": {},
   "outputs": [],
   "source": [
    "t = tuple()"
   ]
  },
  {
   "cell_type": "code",
   "execution_count": 2,
   "id": "e2d20c82",
   "metadata": {},
   "outputs": [
    {
     "data": {
      "text/plain": [
       "tuple"
      ]
     },
     "execution_count": 2,
     "metadata": {},
     "output_type": "execute_result"
    }
   ],
   "source": [
    "type(t)"
   ]
  },
  {
   "cell_type": "code",
   "execution_count": 3,
   "id": "6d97326e",
   "metadata": {},
   "outputs": [],
   "source": [
    "t = ()"
   ]
  },
  {
   "cell_type": "code",
   "execution_count": 4,
   "id": "02136ca6",
   "metadata": {},
   "outputs": [
    {
     "data": {
      "text/plain": [
       "tuple"
      ]
     },
     "execution_count": 4,
     "metadata": {},
     "output_type": "execute_result"
    }
   ],
   "source": [
    "type(t)"
   ]
  },
  {
   "cell_type": "code",
   "execution_count": 5,
   "id": "d8838a44",
   "metadata": {},
   "outputs": [],
   "source": [
    "t = (2,4,6,7)"
   ]
  },
  {
   "cell_type": "code",
   "execution_count": 6,
   "id": "7b8fc885",
   "metadata": {},
   "outputs": [
    {
     "data": {
      "text/plain": [
       "tuple"
      ]
     },
     "execution_count": 6,
     "metadata": {},
     "output_type": "execute_result"
    }
   ],
   "source": [
    "type(t)"
   ]
  },
  {
   "cell_type": "code",
   "execution_count": null,
   "id": "c8d9d288",
   "metadata": {},
   "outputs": [],
   "source": []
  },
  {
   "cell_type": "code",
   "execution_count": null,
   "id": "b768ca3d",
   "metadata": {},
   "outputs": [],
   "source": []
  },
  {
   "cell_type": "markdown",
   "id": "74809881",
   "metadata": {},
   "source": [
    "# Create Tuple With One Item"
   ]
  },
  {
   "cell_type": "code",
   "execution_count": 11,
   "id": "da6aac0a",
   "metadata": {},
   "outputs": [],
   "source": [
    "t = (True)"
   ]
  },
  {
   "cell_type": "code",
   "execution_count": 12,
   "id": "39c120fd",
   "metadata": {},
   "outputs": [
    {
     "data": {
      "text/plain": [
       "bool"
      ]
     },
     "execution_count": 12,
     "metadata": {},
     "output_type": "execute_result"
    }
   ],
   "source": [
    "type(t)"
   ]
  },
  {
   "cell_type": "code",
   "execution_count": 14,
   "id": "19e290e7",
   "metadata": {},
   "outputs": [],
   "source": [
    "t = (4)"
   ]
  },
  {
   "cell_type": "code",
   "execution_count": 15,
   "id": "0334befa",
   "metadata": {},
   "outputs": [
    {
     "data": {
      "text/plain": [
       "int"
      ]
     },
     "execution_count": 15,
     "metadata": {},
     "output_type": "execute_result"
    }
   ],
   "source": [
    "type(t)"
   ]
  },
  {
   "cell_type": "code",
   "execution_count": 3,
   "id": "47d2fb0a",
   "metadata": {},
   "outputs": [],
   "source": [
    "# for one element : comma is mandatory"
   ]
  },
  {
   "cell_type": "code",
   "execution_count": 16,
   "id": "00d8700e",
   "metadata": {},
   "outputs": [],
   "source": [
    "t = (4,)"
   ]
  },
  {
   "cell_type": "code",
   "execution_count": 17,
   "id": "418716d4",
   "metadata": {},
   "outputs": [
    {
     "data": {
      "text/plain": [
       "tuple"
      ]
     },
     "execution_count": 17,
     "metadata": {},
     "output_type": "execute_result"
    }
   ],
   "source": [
    "type(t)"
   ]
  },
  {
   "cell_type": "markdown",
   "id": "d9757077",
   "metadata": {},
   "source": [
    "# A tuple can contain different data types:"
   ]
  },
  {
   "cell_type": "code",
   "execution_count": 18,
   "id": "aeed9468",
   "metadata": {},
   "outputs": [],
   "source": [
    "tup = (2,6,\"Hello\",[2,3,4],False,(2,8))"
   ]
  },
  {
   "cell_type": "code",
   "execution_count": 19,
   "id": "db05c7aa",
   "metadata": {},
   "outputs": [
    {
     "data": {
      "text/plain": [
       "(2, 6, 'Hello', [2, 3, 4], False, (2, 8))"
      ]
     },
     "execution_count": 19,
     "metadata": {},
     "output_type": "execute_result"
    }
   ],
   "source": [
    "tup"
   ]
  },
  {
   "cell_type": "markdown",
   "id": "971950f8",
   "metadata": {},
   "source": [
    "# Access elements in tuples"
   ]
  },
  {
   "cell_type": "code",
   "execution_count": 20,
   "id": "fa8c598f",
   "metadata": {},
   "outputs": [
    {
     "data": {
      "text/plain": [
       "[2, 3, 4]"
      ]
     },
     "execution_count": 20,
     "metadata": {},
     "output_type": "execute_result"
    }
   ],
   "source": [
    "tup[3]"
   ]
  },
  {
   "cell_type": "code",
   "execution_count": 21,
   "id": "896f10bd",
   "metadata": {},
   "outputs": [
    {
     "data": {
      "text/plain": [
       "(2, 8)"
      ]
     },
     "execution_count": 21,
     "metadata": {},
     "output_type": "execute_result"
    }
   ],
   "source": [
    "tup[-1]"
   ]
  },
  {
   "cell_type": "code",
   "execution_count": 22,
   "id": "58626b57",
   "metadata": {},
   "outputs": [
    {
     "data": {
      "text/plain": [
       "('Hello', [2, 3, 4], False)"
      ]
     },
     "execution_count": 22,
     "metadata": {},
     "output_type": "execute_result"
    }
   ],
   "source": [
    "tup[2:5]"
   ]
  },
  {
   "cell_type": "code",
   "execution_count": 23,
   "id": "e6367c83",
   "metadata": {},
   "outputs": [
    {
     "data": {
      "text/plain": [
       "((2, 8), False, [2, 3, 4], 'Hello', 6, 2)"
      ]
     },
     "execution_count": 23,
     "metadata": {},
     "output_type": "execute_result"
    }
   ],
   "source": [
    "tup[::-1]"
   ]
  },
  {
   "cell_type": "code",
   "execution_count": null,
   "id": "4d453acc",
   "metadata": {},
   "outputs": [],
   "source": []
  },
  {
   "cell_type": "code",
   "execution_count": null,
   "id": "f794290e",
   "metadata": {},
   "outputs": [],
   "source": []
  },
  {
   "cell_type": "markdown",
   "id": "930eb421",
   "metadata": {},
   "source": [
    "# Changing a Tuple"
   ]
  },
  {
   "cell_type": "code",
   "execution_count": 4,
   "id": "8b895355",
   "metadata": {},
   "outputs": [],
   "source": [
    "# typeError . This is not possible? bcoz of immutability"
   ]
  },
  {
   "cell_type": "code",
   "execution_count": 24,
   "id": "143fc27a",
   "metadata": {},
   "outputs": [
    {
     "ename": "TypeError",
     "evalue": "'tuple' object does not support item assignment",
     "output_type": "error",
     "traceback": [
      "\u001b[1;31m---------------------------------------------------------------------------\u001b[0m",
      "\u001b[1;31mTypeError\u001b[0m                                 Traceback (most recent call last)",
      "Cell \u001b[1;32mIn[24], line 1\u001b[0m\n\u001b[1;32m----> 1\u001b[0m tup[\u001b[38;5;241m0\u001b[39m]\u001b[38;5;241m=\u001b[39m\u001b[38;5;241m10\u001b[39m\n",
      "\u001b[1;31mTypeError\u001b[0m: 'tuple' object does not support item assignment"
     ]
    }
   ],
   "source": [
    "tup[0]=10"
   ]
  },
  {
   "cell_type": "code",
   "execution_count": 25,
   "id": "c6e209d7",
   "metadata": {},
   "outputs": [],
   "source": [
    "tup = list(tup)"
   ]
  },
  {
   "cell_type": "code",
   "execution_count": 26,
   "id": "f6800a77",
   "metadata": {},
   "outputs": [
    {
     "data": {
      "text/plain": [
       "list"
      ]
     },
     "execution_count": 26,
     "metadata": {},
     "output_type": "execute_result"
    }
   ],
   "source": [
    "type(tup)"
   ]
  },
  {
   "cell_type": "code",
   "execution_count": 27,
   "id": "5e044237",
   "metadata": {},
   "outputs": [],
   "source": [
    "tup[0] = 10"
   ]
  },
  {
   "cell_type": "code",
   "execution_count": 28,
   "id": "064fa4ce",
   "metadata": {},
   "outputs": [
    {
     "data": {
      "text/plain": [
       "[10, 6, 'Hello', [2, 3, 4], False, (2, 8)]"
      ]
     },
     "execution_count": 28,
     "metadata": {},
     "output_type": "execute_result"
    }
   ],
   "source": [
    "tup"
   ]
  },
  {
   "cell_type": "code",
   "execution_count": 30,
   "id": "6020e3d1",
   "metadata": {},
   "outputs": [],
   "source": [
    "tup = tuple(tup)"
   ]
  },
  {
   "cell_type": "code",
   "execution_count": 31,
   "id": "1dcff79f",
   "metadata": {},
   "outputs": [
    {
     "data": {
      "text/plain": [
       "tuple"
      ]
     },
     "execution_count": 31,
     "metadata": {},
     "output_type": "execute_result"
    }
   ],
   "source": [
    "type(tup)"
   ]
  },
  {
   "cell_type": "code",
   "execution_count": 32,
   "id": "2e3da912",
   "metadata": {},
   "outputs": [
    {
     "data": {
      "text/plain": [
       "(10, 6, 'Hello', [2, 3, 4], False, (2, 8))"
      ]
     },
     "execution_count": 32,
     "metadata": {},
     "output_type": "execute_result"
    }
   ],
   "source": [
    "tup"
   ]
  },
  {
   "cell_type": "code",
   "execution_count": null,
   "id": "b13273a7",
   "metadata": {},
   "outputs": [],
   "source": []
  },
  {
   "cell_type": "markdown",
   "id": "2622f2fc",
   "metadata": {},
   "source": [
    "# Solution:can convert the tuple into a list, change the list, and convert the list back into a tuple."
   ]
  },
  {
   "cell_type": "code",
   "execution_count": null,
   "id": "083d446d",
   "metadata": {},
   "outputs": [],
   "source": []
  },
  {
   "cell_type": "code",
   "execution_count": null,
   "id": "ef18fa9a",
   "metadata": {},
   "outputs": [],
   "source": []
  },
  {
   "cell_type": "code",
   "execution_count": null,
   "id": "60d47f81",
   "metadata": {},
   "outputs": [],
   "source": []
  },
  {
   "cell_type": "markdown",
   "id": "536803ee",
   "metadata": {},
   "source": [
    "# Join Two Tuples (Concatination)"
   ]
  },
  {
   "cell_type": "code",
   "execution_count": 33,
   "id": "77c024ca",
   "metadata": {},
   "outputs": [],
   "source": [
    "tup1 = (5,6,7)\n",
    "tup2 = (True,False)"
   ]
  },
  {
   "cell_type": "code",
   "execution_count": 35,
   "id": "6b27ff05",
   "metadata": {},
   "outputs": [],
   "source": [
    "tup3 = tup1 +tup2"
   ]
  },
  {
   "cell_type": "code",
   "execution_count": 36,
   "id": "890e738c",
   "metadata": {},
   "outputs": [
    {
     "data": {
      "text/plain": [
       "(5, 6, 7, True, False)"
      ]
     },
     "execution_count": 36,
     "metadata": {},
     "output_type": "execute_result"
    }
   ],
   "source": [
    "tup3"
   ]
  },
  {
   "cell_type": "markdown",
   "id": "d9a3923a",
   "metadata": {},
   "source": [
    "# Unpacking a Tuple"
   ]
  },
  {
   "cell_type": "code",
   "execution_count": 37,
   "id": "844c1732",
   "metadata": {},
   "outputs": [],
   "source": [
    "a,b,c = tup1"
   ]
  },
  {
   "cell_type": "code",
   "execution_count": 38,
   "id": "4b5b3537",
   "metadata": {},
   "outputs": [
    {
     "data": {
      "text/plain": [
       "(5, 6, 7)"
      ]
     },
     "execution_count": 38,
     "metadata": {},
     "output_type": "execute_result"
    }
   ],
   "source": [
    "a,b,c"
   ]
  },
  {
   "cell_type": "code",
   "execution_count": 40,
   "id": "1b605f08",
   "metadata": {},
   "outputs": [],
   "source": [
    "a = tup1[0]"
   ]
  },
  {
   "cell_type": "code",
   "execution_count": 41,
   "id": "ce498b19",
   "metadata": {},
   "outputs": [
    {
     "data": {
      "text/plain": [
       "5"
      ]
     },
     "execution_count": 41,
     "metadata": {},
     "output_type": "execute_result"
    }
   ],
   "source": [
    "a"
   ]
  },
  {
   "cell_type": "code",
   "execution_count": 42,
   "id": "a64a5e77",
   "metadata": {},
   "outputs": [
    {
     "ename": "TypeError",
     "evalue": "'tuple' object does not support item assignment",
     "output_type": "error",
     "traceback": [
      "\u001b[1;31m---------------------------------------------------------------------------\u001b[0m",
      "\u001b[1;31mTypeError\u001b[0m                                 Traceback (most recent call last)",
      "Cell \u001b[1;32mIn[42], line 1\u001b[0m\n\u001b[1;32m----> 1\u001b[0m tup1[\u001b[38;5;241m0\u001b[39m] \u001b[38;5;241m=\u001b[39ma\n",
      "\u001b[1;31mTypeError\u001b[0m: 'tuple' object does not support item assignment"
     ]
    }
   ],
   "source": [
    "tup1[0] =a"
   ]
  },
  {
   "cell_type": "code",
   "execution_count": null,
   "id": "c2275128",
   "metadata": {},
   "outputs": [],
   "source": [
    "tup3"
   ]
  },
  {
   "cell_type": "code",
   "execution_count": null,
   "id": "afc5f333",
   "metadata": {},
   "outputs": [],
   "source": []
  },
  {
   "cell_type": "code",
   "execution_count": null,
   "id": "5e084874",
   "metadata": {},
   "outputs": [],
   "source": []
  },
  {
   "cell_type": "markdown",
   "id": "3d9f995d",
   "metadata": {},
   "source": [
    "# Using Asterisk*\n",
    "If the number of variables is less than the number of values, you can add an * to the variable name and the values will be assigned to the variable as a list:"
   ]
  },
  {
   "cell_type": "code",
   "execution_count": 43,
   "id": "28ee7d1c",
   "metadata": {},
   "outputs": [],
   "source": [
    "a,b,c,*d=tup3"
   ]
  },
  {
   "cell_type": "code",
   "execution_count": 44,
   "id": "8cb89ee2",
   "metadata": {},
   "outputs": [
    {
     "data": {
      "text/plain": [
       "(5, 6, 7, True, False)"
      ]
     },
     "execution_count": 44,
     "metadata": {},
     "output_type": "execute_result"
    }
   ],
   "source": [
    "tup3"
   ]
  },
  {
   "cell_type": "code",
   "execution_count": 48,
   "id": "f7a1467b",
   "metadata": {},
   "outputs": [
    {
     "data": {
      "text/plain": [
       "[True, False]"
      ]
     },
     "execution_count": 48,
     "metadata": {},
     "output_type": "execute_result"
    }
   ],
   "source": [
    "d"
   ]
  },
  {
   "cell_type": "code",
   "execution_count": 46,
   "id": "9167b3f5",
   "metadata": {},
   "outputs": [
    {
     "data": {
      "text/plain": [
       "5"
      ]
     },
     "execution_count": 46,
     "metadata": {},
     "output_type": "execute_result"
    }
   ],
   "source": [
    "a"
   ]
  },
  {
   "cell_type": "code",
   "execution_count": 49,
   "id": "299a3b81",
   "metadata": {},
   "outputs": [],
   "source": [
    "*a,b,c = tup3"
   ]
  },
  {
   "cell_type": "code",
   "execution_count": 50,
   "id": "d5e8e18c",
   "metadata": {},
   "outputs": [
    {
     "data": {
      "text/plain": [
       "[5, 6, 7]"
      ]
     },
     "execution_count": 50,
     "metadata": {},
     "output_type": "execute_result"
    }
   ],
   "source": [
    "a"
   ]
  },
  {
   "cell_type": "code",
   "execution_count": 51,
   "id": "1592cb1a",
   "metadata": {},
   "outputs": [
    {
     "data": {
      "text/plain": [
       "True"
      ]
     },
     "execution_count": 51,
     "metadata": {},
     "output_type": "execute_result"
    }
   ],
   "source": [
    "b"
   ]
  },
  {
   "cell_type": "code",
   "execution_count": 52,
   "id": "7dd4c229",
   "metadata": {},
   "outputs": [
    {
     "data": {
      "text/plain": [
       "False"
      ]
     },
     "execution_count": 52,
     "metadata": {},
     "output_type": "execute_result"
    }
   ],
   "source": [
    "c\n"
   ]
  },
  {
   "cell_type": "code",
   "execution_count": null,
   "id": "8473c5aa",
   "metadata": {},
   "outputs": [],
   "source": []
  },
  {
   "cell_type": "markdown",
   "id": "4f1c26b3",
   "metadata": {},
   "source": [
    "# Tuple Deletion\n",
    "-- we cannot change/delete an elements in a tuple. \n",
    "-- But we can delete entire tuple using del keyword"
   ]
  },
  {
   "cell_type": "code",
   "execution_count": 53,
   "id": "e1bea953",
   "metadata": {},
   "outputs": [],
   "source": [
    "del tup2"
   ]
  },
  {
   "cell_type": "code",
   "execution_count": 54,
   "id": "0d31447c",
   "metadata": {},
   "outputs": [
    {
     "ename": "NameError",
     "evalue": "name 'tup2' is not defined",
     "output_type": "error",
     "traceback": [
      "\u001b[1;31m---------------------------------------------------------------------------\u001b[0m",
      "\u001b[1;31mNameError\u001b[0m                                 Traceback (most recent call last)",
      "Cell \u001b[1;32mIn[54], line 1\u001b[0m\n\u001b[1;32m----> 1\u001b[0m \u001b[43mtup2\u001b[49m\n",
      "\u001b[1;31mNameError\u001b[0m: name 'tup2' is not defined"
     ]
    }
   ],
   "source": [
    "tup2"
   ]
  },
  {
   "cell_type": "code",
   "execution_count": null,
   "id": "548ffc7e",
   "metadata": {},
   "outputs": [],
   "source": []
  },
  {
   "cell_type": "code",
   "execution_count": null,
   "id": "01f6a9db",
   "metadata": {},
   "outputs": [],
   "source": []
  },
  {
   "cell_type": "markdown",
   "id": "0b5ef122",
   "metadata": {},
   "source": [
    "# Tuple Methods\n",
    "Python has two built-in methods that you can use on tuples.\n",
    "\n",
    "\n",
    "-- count()\tReturns the number of times a specified value occurs in a tuple\n",
    "-- index()\tSearches the tuple for a specified value and returns the position of where it was found\n"
   ]
  },
  {
   "cell_type": "code",
   "execution_count": 55,
   "id": "58c33773",
   "metadata": {},
   "outputs": [],
   "source": [
    "_tup4 = (2,4,2,5,4,'Hello')"
   ]
  },
  {
   "cell_type": "code",
   "execution_count": 56,
   "id": "b5ab6318",
   "metadata": {},
   "outputs": [
    {
     "data": {
      "text/plain": [
       "5"
      ]
     },
     "execution_count": 56,
     "metadata": {},
     "output_type": "execute_result"
    }
   ],
   "source": [
    "_tup4.index('Hello')"
   ]
  },
  {
   "cell_type": "code",
   "execution_count": 57,
   "id": "984080d5",
   "metadata": {},
   "outputs": [
    {
     "data": {
      "text/plain": [
       "2"
      ]
     },
     "execution_count": 57,
     "metadata": {},
     "output_type": "execute_result"
    }
   ],
   "source": [
    "_tup4.count(4)"
   ]
  },
  {
   "cell_type": "code",
   "execution_count": null,
   "id": "b026d406",
   "metadata": {},
   "outputs": [],
   "source": []
  },
  {
   "cell_type": "markdown",
   "id": "084c94e1",
   "metadata": {},
   "source": [
    "# Tuple Membership: in /not in"
   ]
  },
  {
   "cell_type": "code",
   "execution_count": 58,
   "id": "7d0ac6f8",
   "metadata": {},
   "outputs": [
    {
     "data": {
      "text/plain": [
       "True"
      ]
     },
     "execution_count": 58,
     "metadata": {},
     "output_type": "execute_result"
    }
   ],
   "source": [
    "'Hello' in _tup4"
   ]
  },
  {
   "cell_type": "code",
   "execution_count": 59,
   "id": "5a60b3b6",
   "metadata": {},
   "outputs": [
    {
     "data": {
      "text/plain": [
       "True"
      ]
     },
     "execution_count": 59,
     "metadata": {},
     "output_type": "execute_result"
    }
   ],
   "source": [
    "'10' not in _tup4"
   ]
  },
  {
   "cell_type": "code",
   "execution_count": null,
   "id": "feee65f1",
   "metadata": {},
   "outputs": [],
   "source": []
  },
  {
   "cell_type": "code",
   "execution_count": 60,
   "id": "cb13dcc0",
   "metadata": {},
   "outputs": [],
   "source": [
    "lst = [2,6,7,(7,8,9)]"
   ]
  },
  {
   "cell_type": "code",
   "execution_count": 61,
   "id": "587e8954",
   "metadata": {},
   "outputs": [],
   "source": [
    "lst[3]= 55"
   ]
  },
  {
   "cell_type": "code",
   "execution_count": 62,
   "id": "1f181079",
   "metadata": {},
   "outputs": [
    {
     "data": {
      "text/plain": [
       "[2, 6, 7, 55]"
      ]
     },
     "execution_count": 62,
     "metadata": {},
     "output_type": "execute_result"
    }
   ],
   "source": [
    "lst"
   ]
  },
  {
   "cell_type": "code",
   "execution_count": 67,
   "id": "0089132a",
   "metadata": {},
   "outputs": [],
   "source": []
  },
  {
   "cell_type": "code",
   "execution_count": 70,
   "id": "b0e06410",
   "metadata": {},
   "outputs": [],
   "source": [
    "lst = [2,6,7,(7,8,9)]"
   ]
  },
  {
   "cell_type": "code",
   "execution_count": 71,
   "id": "0bfb6078",
   "metadata": {},
   "outputs": [],
   "source": [
    "l1=lst[3]"
   ]
  },
  {
   "cell_type": "code",
   "execution_count": 73,
   "id": "4b5ec291",
   "metadata": {},
   "outputs": [],
   "source": [
    "l1=list(l1)"
   ]
  },
  {
   "cell_type": "code",
   "execution_count": 74,
   "id": "40c92624",
   "metadata": {},
   "outputs": [],
   "source": [
    "l1[1]=5"
   ]
  },
  {
   "cell_type": "code",
   "execution_count": 75,
   "id": "227456cd",
   "metadata": {},
   "outputs": [
    {
     "data": {
      "text/plain": [
       "[7, 5, 9]"
      ]
     },
     "execution_count": 75,
     "metadata": {},
     "output_type": "execute_result"
    }
   ],
   "source": [
    "l1\n"
   ]
  },
  {
   "cell_type": "code",
   "execution_count": 76,
   "id": "208c32f9",
   "metadata": {},
   "outputs": [],
   "source": [
    "l1=tuple(l1)"
   ]
  },
  {
   "cell_type": "code",
   "execution_count": 77,
   "id": "997647e7",
   "metadata": {},
   "outputs": [],
   "source": [
    "lst[3]=l1"
   ]
  },
  {
   "cell_type": "code",
   "execution_count": 78,
   "id": "39ed32d4",
   "metadata": {},
   "outputs": [
    {
     "data": {
      "text/plain": [
       "[2, 6, 7, (7, 5, 9)]"
      ]
     },
     "execution_count": 78,
     "metadata": {},
     "output_type": "execute_result"
    }
   ],
   "source": [
    "lst"
   ]
  },
  {
   "cell_type": "code",
   "execution_count": null,
   "id": "a2d32ef0",
   "metadata": {},
   "outputs": [],
   "source": []
  }
 ],
 "metadata": {
  "kernelspec": {
   "display_name": "Python 3 (ipykernel)",
   "language": "python",
   "name": "python3"
  },
  "language_info": {
   "codemirror_mode": {
    "name": "ipython",
    "version": 3
   },
   "file_extension": ".py",
   "mimetype": "text/x-python",
   "name": "python",
   "nbconvert_exporter": "python",
   "pygments_lexer": "ipython3",
   "version": "3.10.9"
  }
 },
 "nbformat": 4,
 "nbformat_minor": 5
}

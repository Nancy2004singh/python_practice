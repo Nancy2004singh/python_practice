{
 "cells": [
  {
   "cell_type": "markdown",
   "id": "c2d02567",
   "metadata": {},
   "source": [
    "Q1 : Given a list of tuples representing (name, age), use the map function and a lambda function to extract just the names into a new list.\n",
    "\n",
    "people = [(\"Alice\", 25), (\"Bob\", 30), (\"Claire\", 22)]"
   ]
  },
  {
   "cell_type": "code",
   "execution_count": 1,
   "id": "fd4613d7",
   "metadata": {},
   "outputs": [
    {
     "data": {
      "text/plain": [
       "['Alice', 'Bob', 'Claire']"
      ]
     },
     "execution_count": 1,
     "metadata": {},
     "output_type": "execute_result"
    }
   ],
   "source": [
    "people = [(\"Alice\", 25), (\"Bob\", 30), (\"Claire\", 22)]\n",
    "list(map(lambda x: x[0],people))"
   ]
  },
  {
   "cell_type": "markdown",
   "id": "65398242",
   "metadata": {},
   "source": [
    "Q2 : Use the map function and lambda function to find the sum of the corresponding elements of two lists."
   ]
  },
  {
   "cell_type": "code",
   "execution_count": 2,
   "id": "facbb285",
   "metadata": {},
   "outputs": [
    {
     "name": "stdout",
     "output_type": "stream",
     "text": [
      "enter the numbers1,2,3\n",
      "enter the numbers4,5,6\n"
     ]
    },
    {
     "data": {
      "text/plain": [
       "[5, 7, 9]"
      ]
     },
     "execution_count": 2,
     "metadata": {},
     "output_type": "execute_result"
    }
   ],
   "source": [
    "l1 = list(map(int,input(\"enter the numbers\").split(\",\")))\n",
    "l2 = list(map(int,input(\"enter the numbers\").split(\",\")))\n",
    "\n",
    "list(map(lambda x,y: x+y,l1,l2))"
   ]
  },
  {
   "cell_type": "markdown",
   "id": "fbad3796",
   "metadata": {},
   "source": [
    "Q3 : Given two lists, use the map function and a lambda function to find the maximum of corresponding elements of the two lists."
   ]
  },
  {
   "cell_type": "code",
   "execution_count": 3,
   "id": "f1ec202e",
   "metadata": {},
   "outputs": [
    {
     "data": {
      "text/plain": [
       "[4, 8, 6, 7]"
      ]
     },
     "execution_count": 3,
     "metadata": {},
     "output_type": "execute_result"
    }
   ],
   "source": [
    "l1=[2,8,4,5]\n",
    "l2=[4,5,6,7]\n",
    "list(map(lambda x,y : max(x,y) ,l1,l2))"
   ]
  },
  {
   "cell_type": "markdown",
   "id": "ed01354f",
   "metadata": {},
   "source": [
    "Q4 :Use the map function and a lambda function to perform element-wise addition of multiple lists."
   ]
  },
  {
   "cell_type": "code",
   "execution_count": null,
   "id": "ee4e4a36",
   "metadata": {},
   "outputs": [],
   "source": [
    "l1 = list(map(int,input(\"enter the numbers\").split(\",\")))\n",
    "l2 = list(map(int,input(\"enter the numbers\").split(\",\")))\n",
    "l3 = list(map(int,input(\"enter the numbers\").split(\",\")))\n",
    "l4 = list(map(int,input(\"enter the numbers\").split(\",\")))\n",
    "list(map(lambda w,x,y,z: w+x+y+z,l1,l2,l3,l4))"
   ]
  },
  {
   "cell_type": "markdown",
   "id": "dafc8809",
   "metadata": {},
   "source": [
    "Q5 : Given a list of strings, use the map function and a lambda function to find the longest word in each string."
   ]
  },
  {
   "cell_type": "code",
   "execution_count": null,
   "id": "87267032",
   "metadata": {},
   "outputs": [],
   "source": [
    "lst = list(input(\"Enter the sentence\").split(\",\"))\n",
    "list(map(lambda x: max(x.split(),key=len),lst))"
   ]
  },
  {
   "cell_type": "markdown",
   "id": "58e10b40",
   "metadata": {},
   "source": [
    "Q6: Given a list of names ['Alice', 'Bob', 'Charlie', 'David'], write a lambda function and use the map() function to convert each name to uppercase."
   ]
  },
  {
   "cell_type": "code",
   "execution_count": 4,
   "id": "d586f328",
   "metadata": {},
   "outputs": [
    {
     "data": {
      "text/plain": [
       "['ALICE', 'BOB', 'CHARLIE', 'DAVID']"
      ]
     },
     "execution_count": 4,
     "metadata": {},
     "output_type": "execute_result"
    }
   ],
   "source": [
    "_name = ['Alice', 'Bob', 'Charlie', 'David']\n",
    "list(map(lambda x: x.upper(),_name))"
   ]
  },
  {
   "cell_type": "markdown",
   "id": "184469ad",
   "metadata": {},
   "source": [
    "Q7: Given a list of names ['Alice', 'Bob', 'Charlie', 'David'], write a lambda function and use the map() function to create a new list that contains the length of each name."
   ]
  },
  {
   "cell_type": "code",
   "execution_count": 5,
   "id": "3ce5cfd3",
   "metadata": {},
   "outputs": [
    {
     "data": {
      "text/plain": [
       "[5, 3, 7, 5]"
      ]
     },
     "execution_count": 5,
     "metadata": {},
     "output_type": "execute_result"
    }
   ],
   "source": [
    "list(map(lambda x: len(x),_name))"
   ]
  },
  {
   "cell_type": "code",
   "execution_count": null,
   "id": "aaac5f67",
   "metadata": {},
   "outputs": [],
   "source": []
  }
 ],
 "metadata": {
  "kernelspec": {
   "display_name": "Python 3 (ipykernel)",
   "language": "python",
   "name": "python3"
  },
  "language_info": {
   "codemirror_mode": {
    "name": "ipython",
    "version": 3
   },
   "file_extension": ".py",
   "mimetype": "text/x-python",
   "name": "python",
   "nbconvert_exporter": "python",
   "pygments_lexer": "ipython3",
   "version": "3.11.5"
  }
 },
 "nbformat": 4,
 "nbformat_minor": 5
}

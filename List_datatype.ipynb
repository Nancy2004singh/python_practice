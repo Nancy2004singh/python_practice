{
 "cells": [
  {
   "cell_type": "markdown",
   "id": "e9017ace",
   "metadata": {},
   "source": [
    "# Lists\n",
    "     - ordered/sequence collection of elements\n",
    "     - indexable\n",
    "     - mutable/Changable\n",
    "     - List allow duplicate values.\n",
    "     - can store heterogenous elements"
   ]
  },
  {
   "cell_type": "code",
   "execution_count": 1,
   "id": "3279bce6",
   "metadata": {},
   "outputs": [],
   "source": [
    "lst = list()"
   ]
  },
  {
   "cell_type": "code",
   "execution_count": 2,
   "id": "ccbb005e",
   "metadata": {},
   "outputs": [
    {
     "data": {
      "text/plain": [
       "list"
      ]
     },
     "execution_count": 2,
     "metadata": {},
     "output_type": "execute_result"
    }
   ],
   "source": [
    "type(lst)"
   ]
  },
  {
   "cell_type": "code",
   "execution_count": 3,
   "id": "1f90a47d",
   "metadata": {},
   "outputs": [],
   "source": [
    "lst1 = []"
   ]
  },
  {
   "cell_type": "code",
   "execution_count": 4,
   "id": "05a1bd74",
   "metadata": {},
   "outputs": [
    {
     "data": {
      "text/plain": [
       "list"
      ]
     },
     "execution_count": 4,
     "metadata": {},
     "output_type": "execute_result"
    }
   ],
   "source": [
    "type(lst1)"
   ]
  },
  {
   "cell_type": "code",
   "execution_count": null,
   "id": "24b9cdd6",
   "metadata": {},
   "outputs": [],
   "source": []
  },
  {
   "cell_type": "markdown",
   "id": "6de01a83",
   "metadata": {},
   "source": [
    "# Indexing/Slicing of List works same way as Strings"
   ]
  },
  {
   "cell_type": "code",
   "execution_count": 5,
   "id": "d4cf9e7a",
   "metadata": {},
   "outputs": [],
   "source": [
    "lst =[3,7,8,9]"
   ]
  },
  {
   "cell_type": "code",
   "execution_count": 6,
   "id": "fe7e5d2c",
   "metadata": {},
   "outputs": [
    {
     "data": {
      "text/plain": [
       "3"
      ]
     },
     "execution_count": 6,
     "metadata": {},
     "output_type": "execute_result"
    }
   ],
   "source": [
    "lst[0]"
   ]
  },
  {
   "cell_type": "code",
   "execution_count": 7,
   "id": "7f5b625b",
   "metadata": {},
   "outputs": [
    {
     "data": {
      "text/plain": [
       "9"
      ]
     },
     "execution_count": 7,
     "metadata": {},
     "output_type": "execute_result"
    }
   ],
   "source": [
    "lst[-1]"
   ]
  },
  {
   "cell_type": "code",
   "execution_count": 8,
   "id": "e1b4139d",
   "metadata": {},
   "outputs": [
    {
     "data": {
      "text/plain": [
       "9"
      ]
     },
     "execution_count": 8,
     "metadata": {},
     "output_type": "execute_result"
    }
   ],
   "source": [
    "lst[len(lst)-1]"
   ]
  },
  {
   "cell_type": "code",
   "execution_count": 9,
   "id": "f389a7aa",
   "metadata": {},
   "outputs": [
    {
     "data": {
      "text/plain": [
       "[3, 7, 8]"
      ]
     },
     "execution_count": 9,
     "metadata": {},
     "output_type": "execute_result"
    }
   ],
   "source": [
    "lst[0:3]"
   ]
  },
  {
   "cell_type": "code",
   "execution_count": 10,
   "id": "d585a457",
   "metadata": {},
   "outputs": [
    {
     "data": {
      "text/plain": [
       "[3, 7, 8]"
      ]
     },
     "execution_count": 10,
     "metadata": {},
     "output_type": "execute_result"
    }
   ],
   "source": [
    "lst[-4:-1]"
   ]
  },
  {
   "cell_type": "code",
   "execution_count": 12,
   "id": "1805298d",
   "metadata": {},
   "outputs": [
    {
     "data": {
      "text/plain": [
       "[9, 8, 7, 3]"
      ]
     },
     "execution_count": 12,
     "metadata": {},
     "output_type": "execute_result"
    }
   ],
   "source": [
    "lst[::-1]"
   ]
  },
  {
   "cell_type": "code",
   "execution_count": null,
   "id": "5580302f",
   "metadata": {},
   "outputs": [],
   "source": []
  },
  {
   "cell_type": "code",
   "execution_count": null,
   "id": "9b92e1e2",
   "metadata": {},
   "outputs": [],
   "source": []
  },
  {
   "cell_type": "code",
   "execution_count": null,
   "id": "5f2da9d5",
   "metadata": {},
   "outputs": [],
   "source": []
  },
  {
   "cell_type": "raw",
   "id": "fd7ca30e",
   "metadata": {},
   "source": [
    "# changing elements\n",
    "# list is mutable"
   ]
  },
  {
   "cell_type": "code",
   "execution_count": 13,
   "id": "1f1f4a5e",
   "metadata": {},
   "outputs": [
    {
     "data": {
      "text/plain": [
       "[3, 7, 8, 9]"
      ]
     },
     "execution_count": 13,
     "metadata": {},
     "output_type": "execute_result"
    }
   ],
   "source": [
    "lst"
   ]
  },
  {
   "cell_type": "code",
   "execution_count": 14,
   "id": "93796276",
   "metadata": {},
   "outputs": [],
   "source": [
    "lst[0]=5"
   ]
  },
  {
   "cell_type": "code",
   "execution_count": 15,
   "id": "87ccf4ae",
   "metadata": {},
   "outputs": [
    {
     "data": {
      "text/plain": [
       "[5, 7, 8, 9]"
      ]
     },
     "execution_count": 15,
     "metadata": {},
     "output_type": "execute_result"
    }
   ],
   "source": [
    "lst"
   ]
  },
  {
   "cell_type": "code",
   "execution_count": 16,
   "id": "d3499da2",
   "metadata": {},
   "outputs": [
    {
     "ename": "IndexError",
     "evalue": "list assignment index out of range",
     "output_type": "error",
     "traceback": [
      "\u001b[1;31m---------------------------------------------------------------------------\u001b[0m",
      "\u001b[1;31mIndexError\u001b[0m                                Traceback (most recent call last)",
      "Cell \u001b[1;32mIn[16], line 1\u001b[0m\n\u001b[1;32m----> 1\u001b[0m lst[\u001b[38;5;241m4\u001b[39m]\u001b[38;5;241m=\u001b[39m\u001b[38;5;241m8\u001b[39m\n",
      "\u001b[1;31mIndexError\u001b[0m: list assignment index out of range"
     ]
    }
   ],
   "source": [
    "lst[4]=8"
   ]
  },
  {
   "cell_type": "code",
   "execution_count": null,
   "id": "6d418cc9",
   "metadata": {},
   "outputs": [],
   "source": []
  },
  {
   "cell_type": "markdown",
   "id": "0290a4d7",
   "metadata": {},
   "source": [
    "# Some Important Methods for lists\n",
    "- copy\n",
    "- count\n",
    "- append\n",
    "- insert\n",
    "- pop\n",
    "- remove\n",
    "- reverse\n",
    "- sort\n",
    "- extend"
   ]
  },
  {
   "cell_type": "code",
   "execution_count": 17,
   "id": "f87bbb55",
   "metadata": {},
   "outputs": [],
   "source": [
    "lst1 = lst.copy()"
   ]
  },
  {
   "cell_type": "code",
   "execution_count": 20,
   "id": "e625c9e2",
   "metadata": {},
   "outputs": [],
   "source": [
    "lst1 = [2,5,7,9,7,6,7]"
   ]
  },
  {
   "cell_type": "code",
   "execution_count": 21,
   "id": "b0cfbdcf",
   "metadata": {},
   "outputs": [
    {
     "data": {
      "text/plain": [
       "3"
      ]
     },
     "execution_count": 21,
     "metadata": {},
     "output_type": "execute_result"
    }
   ],
   "source": [
    "lst1.count(7)"
   ]
  },
  {
   "cell_type": "code",
   "execution_count": 22,
   "id": "d30d4a06",
   "metadata": {},
   "outputs": [],
   "source": [
    "lst1.append(4)"
   ]
  },
  {
   "cell_type": "code",
   "execution_count": 23,
   "id": "9d599c43",
   "metadata": {},
   "outputs": [
    {
     "data": {
      "text/plain": [
       "[2, 5, 7, 9, 7, 6, 7, 4]"
      ]
     },
     "execution_count": 23,
     "metadata": {},
     "output_type": "execute_result"
    }
   ],
   "source": [
    "lst1"
   ]
  },
  {
   "cell_type": "code",
   "execution_count": 24,
   "id": "6227f433",
   "metadata": {},
   "outputs": [],
   "source": [
    "lst1.append([10,11])"
   ]
  },
  {
   "cell_type": "code",
   "execution_count": 25,
   "id": "dbc7d0b8",
   "metadata": {},
   "outputs": [
    {
     "data": {
      "text/plain": [
       "[2, 5, 7, 9, 7, 6, 7, 4, [10, 11]]"
      ]
     },
     "execution_count": 25,
     "metadata": {},
     "output_type": "execute_result"
    }
   ],
   "source": [
    "lst1"
   ]
  },
  {
   "cell_type": "code",
   "execution_count": 26,
   "id": "fad7ce42",
   "metadata": {},
   "outputs": [],
   "source": [
    "lst1.append((2,3))"
   ]
  },
  {
   "cell_type": "code",
   "execution_count": 27,
   "id": "857b5a11",
   "metadata": {},
   "outputs": [
    {
     "data": {
      "text/plain": [
       "[2, 5, 7, 9, 7, 6, 7, 4, [10, 11], (2, 3)]"
      ]
     },
     "execution_count": 27,
     "metadata": {},
     "output_type": "execute_result"
    }
   ],
   "source": [
    "lst1"
   ]
  },
  {
   "cell_type": "markdown",
   "id": "f4bc1f36",
   "metadata": {},
   "source": [
    "in operator"
   ]
  },
  {
   "cell_type": "code",
   "execution_count": 28,
   "id": "e85c36c9",
   "metadata": {},
   "outputs": [
    {
     "ename": "TypeError",
     "evalue": "list.append() takes exactly one argument (2 given)",
     "output_type": "error",
     "traceback": [
      "\u001b[1;31m---------------------------------------------------------------------------\u001b[0m",
      "\u001b[1;31mTypeError\u001b[0m                                 Traceback (most recent call last)",
      "Cell \u001b[1;32mIn[28], line 1\u001b[0m\n\u001b[1;32m----> 1\u001b[0m lst1\u001b[38;5;241m.\u001b[39mappend(\u001b[38;5;241m6\u001b[39m,\u001b[38;5;241m7\u001b[39m)\n",
      "\u001b[1;31mTypeError\u001b[0m: list.append() takes exactly one argument (2 given)"
     ]
    }
   ],
   "source": [
    "lst1.append(6,7)"
   ]
  },
  {
   "cell_type": "code",
   "execution_count": null,
   "id": "3e40234e",
   "metadata": {},
   "outputs": [],
   "source": []
  },
  {
   "cell_type": "markdown",
   "id": "c8dde7c9",
   "metadata": {},
   "source": [
    "# Append Vs Extend"
   ]
  },
  {
   "cell_type": "code",
   "execution_count": 29,
   "id": "dd85f128",
   "metadata": {},
   "outputs": [],
   "source": [
    "lst1.extend([2,34,8])"
   ]
  },
  {
   "cell_type": "code",
   "execution_count": 30,
   "id": "a84009b7",
   "metadata": {},
   "outputs": [
    {
     "data": {
      "text/plain": [
       "[2, 5, 7, 9, 7, 6, 7, 4, [10, 11], (2, 3), 2, 34, 8]"
      ]
     },
     "execution_count": 30,
     "metadata": {},
     "output_type": "execute_result"
    }
   ],
   "source": [
    "lst1"
   ]
  },
  {
   "cell_type": "code",
   "execution_count": null,
   "id": "bce1b080",
   "metadata": {},
   "outputs": [],
   "source": []
  },
  {
   "cell_type": "code",
   "execution_count": null,
   "id": "13f3a1ca",
   "metadata": {},
   "outputs": [],
   "source": []
  },
  {
   "cell_type": "markdown",
   "id": "c3ba3987",
   "metadata": {},
   "source": [
    "# Extend using +"
   ]
  },
  {
   "cell_type": "code",
   "execution_count": 32,
   "id": "a23265ec",
   "metadata": {},
   "outputs": [],
   "source": [
    "lst1 =lst1 + [0,0,0]"
   ]
  },
  {
   "cell_type": "code",
   "execution_count": 33,
   "id": "e1c87e8c",
   "metadata": {},
   "outputs": [
    {
     "data": {
      "text/plain": [
       "[2, 5, 7, 9, 7, 6, 7, 4, [10, 11], (2, 3), 2, 34, 8, 0, 0, 0]"
      ]
     },
     "execution_count": 33,
     "metadata": {},
     "output_type": "execute_result"
    }
   ],
   "source": [
    "lst1"
   ]
  },
  {
   "cell_type": "markdown",
   "id": "0ced7dbe",
   "metadata": {},
   "source": [
    "# Heterogenous Lists\n"
   ]
  },
  {
   "cell_type": "code",
   "execution_count": 34,
   "id": "b6785d79",
   "metadata": {},
   "outputs": [],
   "source": [
    "# e.g of heterogenous list\n",
    "my_lst2 = [4, True, 98.6, [3,6,9] , \"Python\", 100 ]"
   ]
  },
  {
   "cell_type": "code",
   "execution_count": 35,
   "id": "e29b6006",
   "metadata": {},
   "outputs": [
    {
     "data": {
      "text/plain": [
       "[4, True, 98.6, [3, 6, 9], 'Python', 100]"
      ]
     },
     "execution_count": 35,
     "metadata": {},
     "output_type": "execute_result"
    }
   ],
   "source": [
    "my_lst2"
   ]
  },
  {
   "cell_type": "code",
   "execution_count": 36,
   "id": "bdae7f9b",
   "metadata": {},
   "outputs": [],
   "source": [
    "my_lst2.insert(1,False)"
   ]
  },
  {
   "cell_type": "code",
   "execution_count": 37,
   "id": "5be0372e",
   "metadata": {},
   "outputs": [
    {
     "data": {
      "text/plain": [
       "[4, False, True, 98.6, [3, 6, 9], 'Python', 100]"
      ]
     },
     "execution_count": 37,
     "metadata": {},
     "output_type": "execute_result"
    }
   ],
   "source": [
    "my_lst2"
   ]
  },
  {
   "cell_type": "code",
   "execution_count": 38,
   "id": "e6655bac",
   "metadata": {},
   "outputs": [
    {
     "data": {
      "text/plain": [
       "100"
      ]
     },
     "execution_count": 38,
     "metadata": {},
     "output_type": "execute_result"
    }
   ],
   "source": [
    "my_lst2.pop()"
   ]
  },
  {
   "cell_type": "code",
   "execution_count": 39,
   "id": "d5990052",
   "metadata": {},
   "outputs": [
    {
     "data": {
      "text/plain": [
       "[4, False, True, 98.6, [3, 6, 9], 'Python']"
      ]
     },
     "execution_count": 39,
     "metadata": {},
     "output_type": "execute_result"
    }
   ],
   "source": [
    "my_lst2"
   ]
  },
  {
   "cell_type": "code",
   "execution_count": 40,
   "id": "d03b3b43",
   "metadata": {},
   "outputs": [
    {
     "data": {
      "text/plain": [
       "98.6"
      ]
     },
     "execution_count": 40,
     "metadata": {},
     "output_type": "execute_result"
    }
   ],
   "source": [
    "my_lst2.pop(3)"
   ]
  },
  {
   "cell_type": "code",
   "execution_count": 41,
   "id": "babb5cb5",
   "metadata": {},
   "outputs": [
    {
     "data": {
      "text/plain": [
       "[4, False, True, [3, 6, 9], 'Python']"
      ]
     },
     "execution_count": 41,
     "metadata": {},
     "output_type": "execute_result"
    }
   ],
   "source": [
    "my_lst2"
   ]
  },
  {
   "cell_type": "code",
   "execution_count": 44,
   "id": "efff9a4e",
   "metadata": {},
   "outputs": [],
   "source": [
    "my_lst2.remove(True)"
   ]
  },
  {
   "cell_type": "code",
   "execution_count": 45,
   "id": "64f39820",
   "metadata": {},
   "outputs": [],
   "source": [
    "lst1.remove(7)"
   ]
  },
  {
   "cell_type": "code",
   "execution_count": 4,
   "id": "36d8e6ed",
   "metadata": {},
   "outputs": [],
   "source": [
    "lst1 =[2, 5, 7, 9, 7, 6, 7, 4, [10, 11], (2, 3), 2, 34, 8, 0, 0, 0]"
   ]
  },
  {
   "cell_type": "code",
   "execution_count": 5,
   "id": "c0346f44",
   "metadata": {},
   "outputs": [],
   "source": [
    "lst1.reverse()"
   ]
  },
  {
   "cell_type": "code",
   "execution_count": 6,
   "id": "7af8dcb4",
   "metadata": {},
   "outputs": [
    {
     "data": {
      "text/plain": [
       "[0, 0, 0, 8, 34, 2, (2, 3), [10, 11], 4, 7, 6, 7, 9, 7, 5, 2]"
      ]
     },
     "execution_count": 6,
     "metadata": {},
     "output_type": "execute_result"
    }
   ],
   "source": [
    "lst1"
   ]
  },
  {
   "cell_type": "code",
   "execution_count": 8,
   "id": "56a2c6a2",
   "metadata": {},
   "outputs": [],
   "source": [
    "lst1 = [6,23,57,10,0]"
   ]
  },
  {
   "cell_type": "code",
   "execution_count": 9,
   "id": "495c6165",
   "metadata": {},
   "outputs": [],
   "source": [
    "lst1.sort()"
   ]
  },
  {
   "cell_type": "code",
   "execution_count": 10,
   "id": "48cfc717",
   "metadata": {},
   "outputs": [
    {
     "data": {
      "text/plain": [
       "[0, 6, 10, 23, 57]"
      ]
     },
     "execution_count": 10,
     "metadata": {},
     "output_type": "execute_result"
    }
   ],
   "source": [
    "lst1"
   ]
  },
  {
   "cell_type": "code",
   "execution_count": 11,
   "id": "c46e9e53",
   "metadata": {},
   "outputs": [],
   "source": [
    "lst1.sort(reverse=True)"
   ]
  },
  {
   "cell_type": "code",
   "execution_count": 12,
   "id": "2faf12d5",
   "metadata": {},
   "outputs": [
    {
     "data": {
      "text/plain": [
       "[57, 23, 10, 6, 0]"
      ]
     },
     "execution_count": 12,
     "metadata": {},
     "output_type": "execute_result"
    }
   ],
   "source": [
    "lst1"
   ]
  },
  {
   "cell_type": "code",
   "execution_count": null,
   "id": "443a93ed",
   "metadata": {},
   "outputs": [],
   "source": [
    "# list=str.split()\n",
    "#\"separator\".join(list)"
   ]
  },
  {
   "cell_type": "code",
   "execution_count": 15,
   "id": "4405e6e1",
   "metadata": {},
   "outputs": [],
   "source": [
    "_str = \"Hello,Friends,!\".split(\",\")"
   ]
  },
  {
   "cell_type": "code",
   "execution_count": 16,
   "id": "8d54128d",
   "metadata": {},
   "outputs": [
    {
     "data": {
      "text/plain": [
       "['Hello', 'Friends', '!']"
      ]
     },
     "execution_count": 16,
     "metadata": {},
     "output_type": "execute_result"
    }
   ],
   "source": [
    "_str"
   ]
  },
  {
   "cell_type": "code",
   "execution_count": 17,
   "id": "3b58e60f",
   "metadata": {},
   "outputs": [],
   "source": [
    "s = \" \".join(_str)"
   ]
  },
  {
   "cell_type": "code",
   "execution_count": 18,
   "id": "59b92956",
   "metadata": {},
   "outputs": [
    {
     "data": {
      "text/plain": [
       "'Hello Friends !'"
      ]
     },
     "execution_count": 18,
     "metadata": {},
     "output_type": "execute_result"
    }
   ],
   "source": [
    "s"
   ]
  },
  {
   "cell_type": "code",
   "execution_count": 19,
   "id": "e1b82a32",
   "metadata": {},
   "outputs": [
    {
     "data": {
      "text/plain": [
       "\"['Hello', 'Friends', '!']\""
      ]
     },
     "execution_count": 19,
     "metadata": {},
     "output_type": "execute_result"
    }
   ],
   "source": [
    "str(_str)"
   ]
  },
  {
   "cell_type": "markdown",
   "id": "6803b6d4",
   "metadata": {},
   "source": [
    "# MultiDimensional Lists"
   ]
  },
  {
   "cell_type": "code",
   "execution_count": 20,
   "id": "47d012ba",
   "metadata": {},
   "outputs": [],
   "source": [
    "lst = [[1,2,3],[4,5,6],[7,8,9]]"
   ]
  },
  {
   "cell_type": "code",
   "execution_count": 23,
   "id": "1527ca12",
   "metadata": {},
   "outputs": [
    {
     "data": {
      "text/plain": [
       "[7, 8, 9]"
      ]
     },
     "execution_count": 23,
     "metadata": {},
     "output_type": "execute_result"
    }
   ],
   "source": [
    "lst[2]"
   ]
  },
  {
   "cell_type": "code",
   "execution_count": 24,
   "id": "f9e1f1d0",
   "metadata": {},
   "outputs": [
    {
     "data": {
      "text/plain": [
       "3"
      ]
     },
     "execution_count": 24,
     "metadata": {},
     "output_type": "execute_result"
    }
   ],
   "source": [
    "lst[0][-1]"
   ]
  },
  {
   "cell_type": "code",
   "execution_count": null,
   "id": "3a34a571",
   "metadata": {},
   "outputs": [],
   "source": []
  }
 ],
 "metadata": {
  "kernelspec": {
   "display_name": "Python 3 (ipykernel)",
   "language": "python",
   "name": "python3"
  },
  "language_info": {
   "codemirror_mode": {
    "name": "ipython",
    "version": 3
   },
   "file_extension": ".py",
   "mimetype": "text/x-python",
   "name": "python",
   "nbconvert_exporter": "python",
   "pygments_lexer": "ipython3",
   "version": "3.11.5"
  }
 },
 "nbformat": 4,
 "nbformat_minor": 5
}

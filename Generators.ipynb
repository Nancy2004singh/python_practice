{
 "cells": [
  {
   "cell_type": "markdown",
   "id": "964ffaef",
   "metadata": {},
   "source": [
    "# Python Generators\n",
    "\n",
    "\n",
    "<img src=\"https://media.giphy.com/media/l0MYwrucQ9amOkFHO/giphy.gif\" width = 400>\n",
    "\n",
    "- Python generator is kind of a function only. It generates a sequence of values that we can iterate on.\n",
    "- Unlike functions, generators doesn't terminate after returning a value.\n",
    "- **yield** keyword is used in Generators.\n",
    "- Like a list or a tuple, Generator is also an iterable.\n",
    "\n"
   ]
  },
  {
   "cell_type": "code",
   "execution_count": 4,
   "id": "acd2b7fa",
   "metadata": {},
   "outputs": [],
   "source": [
    "def my_generator():\n",
    "    n = 1\n",
    "    \n",
    "    print(\"First time\")\n",
    "    yield n\n",
    "    \n",
    "    n+=1\n",
    "    \n",
    "    print(\"Second time\")\n",
    "    yield n\n",
    "    \n",
    "    n+=1\n",
    "    \n",
    "    print(\"Third time\")\n",
    "    yield n"
   ]
  },
  {
   "cell_type": "code",
   "execution_count": 16,
   "id": "aa967da3",
   "metadata": {},
   "outputs": [],
   "source": [
    "my_gen = my_generator()"
   ]
  },
  {
   "cell_type": "code",
   "execution_count": 21,
   "id": "e66d6ebf",
   "metadata": {},
   "outputs": [
    {
     "name": "stdout",
     "output_type": "stream",
     "text": [
      "First time\n",
      "1\n",
      "Second time\n",
      "2\n",
      "Third time\n",
      "3\n"
     ]
    }
   ],
   "source": [
    "for i in my_generator():\n",
    "    print(i)"
   ]
  },
  {
   "cell_type": "code",
   "execution_count": 6,
   "id": "a5bc63bb",
   "metadata": {},
   "outputs": [
    {
     "data": {
      "text/plain": [
       "generator"
      ]
     },
     "execution_count": 6,
     "metadata": {},
     "output_type": "execute_result"
    }
   ],
   "source": [
    "type(my_gen)"
   ]
  },
  {
   "cell_type": "code",
   "execution_count": 20,
   "id": "1763a710",
   "metadata": {},
   "outputs": [
    {
     "ename": "StopIteration",
     "evalue": "",
     "output_type": "error",
     "traceback": [
      "\u001b[1;31m---------------------------------------------------------------------------\u001b[0m",
      "\u001b[1;31mStopIteration\u001b[0m                             Traceback (most recent call last)",
      "Cell \u001b[1;32mIn[20], line 1\u001b[0m\n\u001b[1;32m----> 1\u001b[0m \u001b[38;5;28mnext\u001b[39m(my_gen)\n",
      "\u001b[1;31mStopIteration\u001b[0m: "
     ]
    }
   ],
   "source": [
    "next(my_gen)"
   ]
  },
  {
   "cell_type": "code",
   "execution_count": 8,
   "id": "765f769b",
   "metadata": {},
   "outputs": [
    {
     "name": "stdout",
     "output_type": "stream",
     "text": [
      "Second time\n"
     ]
    },
    {
     "data": {
      "text/plain": [
       "2"
      ]
     },
     "execution_count": 8,
     "metadata": {},
     "output_type": "execute_result"
    }
   ],
   "source": [
    "next(my_gen)"
   ]
  },
  {
   "cell_type": "code",
   "execution_count": 9,
   "id": "e16f03bf",
   "metadata": {},
   "outputs": [
    {
     "name": "stdout",
     "output_type": "stream",
     "text": [
      "Third time\n"
     ]
    },
    {
     "data": {
      "text/plain": [
       "3"
      ]
     },
     "execution_count": 9,
     "metadata": {},
     "output_type": "execute_result"
    }
   ],
   "source": [
    "next(my_gen)"
   ]
  },
  {
   "cell_type": "code",
   "execution_count": 8,
   "id": "16964d57",
   "metadata": {},
   "outputs": [
    {
     "ename": "StopIteration",
     "evalue": "",
     "output_type": "error",
     "traceback": [
      "\u001b[0;31m---------------------------------------------------------------------------\u001b[0m",
      "\u001b[0;31mStopIteration\u001b[0m                             Traceback (most recent call last)",
      "\u001b[0;32m<ipython-input-8-78dc05d55b31>\u001b[0m in \u001b[0;36m<module>\u001b[0;34m\u001b[0m\n\u001b[0;32m----> 1\u001b[0;31m \u001b[0mnext\u001b[0m\u001b[0;34m(\u001b[0m\u001b[0mmy_gen\u001b[0m\u001b[0;34m)\u001b[0m\u001b[0;34m\u001b[0m\u001b[0;34m\u001b[0m\u001b[0m\n\u001b[0m",
      "\u001b[0;31mStopIteration\u001b[0m: "
     ]
    }
   ],
   "source": [
    "next(my_gen)"
   ]
  },
  {
   "cell_type": "code",
   "execution_count": null,
   "id": "b54fce3f",
   "metadata": {},
   "outputs": [],
   "source": []
  },
  {
   "cell_type": "markdown",
   "id": "19a507cc",
   "metadata": {},
   "source": [
    "## Return vs. Yield\n",
    "- **yield** returns a value and pauses the execution while maintaining the internal states.\n",
    "- **return** statement returns a value and terminates the execution of the function.\n",
    "\n",
    "\n",
    "- When a generator is called, it returns an object (iterator) but does not start execution immediately.\n",
    "- Local variables and their states are remembered between successive calls.\n",
    "\n",
    "<img src=\"https://media.giphy.com/media/EmMWgjxt6HqXC/giphy.gif\" width = 400>"
   ]
  },
  {
   "cell_type": "code",
   "execution_count": 24,
   "id": "15a13fc8",
   "metadata": {},
   "outputs": [],
   "source": [
    "def counter_func(n):\n",
    "    i = 1\n",
    "    while (i <= n):\n",
    "        return i\n",
    "        i+=1"
   ]
  },
  {
   "cell_type": "code",
   "execution_count": 26,
   "id": "70f40b6d",
   "metadata": {},
   "outputs": [],
   "source": [
    "p=counter_func(4)"
   ]
  },
  {
   "cell_type": "code",
   "execution_count": 27,
   "id": "1bf9068c",
   "metadata": {},
   "outputs": [
    {
     "data": {
      "text/plain": [
       "1"
      ]
     },
     "execution_count": 27,
     "metadata": {},
     "output_type": "execute_result"
    }
   ],
   "source": [
    "p"
   ]
  },
  {
   "cell_type": "code",
   "execution_count": 19,
   "id": "1f0a5f9c",
   "metadata": {},
   "outputs": [],
   "source": [
    "def counter_gen(n):\n",
    "    i = 1\n",
    "    while (i <= n):\n",
    "        yield i\n",
    "        i+=1"
   ]
  },
  {
   "cell_type": "code",
   "execution_count": 21,
   "id": "deb0ee78",
   "metadata": {},
   "outputs": [],
   "source": [
    "gen = counter_gen(5)"
   ]
  },
  {
   "cell_type": "code",
   "execution_count": 22,
   "id": "c47406f9",
   "metadata": {},
   "outputs": [
    {
     "data": {
      "text/plain": [
       "1"
      ]
     },
     "execution_count": 22,
     "metadata": {},
     "output_type": "execute_result"
    }
   ],
   "source": [
    "next(gen)"
   ]
  },
  {
   "cell_type": "code",
   "execution_count": 23,
   "id": "07d0a5d0",
   "metadata": {},
   "outputs": [
    {
     "data": {
      "text/plain": [
       "2"
      ]
     },
     "execution_count": 23,
     "metadata": {},
     "output_type": "execute_result"
    }
   ],
   "source": [
    "next(gen)"
   ]
  },
  {
   "cell_type": "code",
   "execution_count": 24,
   "id": "29082f95",
   "metadata": {},
   "outputs": [
    {
     "data": {
      "text/plain": [
       "3"
      ]
     },
     "execution_count": 24,
     "metadata": {},
     "output_type": "execute_result"
    }
   ],
   "source": [
    "next(gen)"
   ]
  },
  {
   "cell_type": "code",
   "execution_count": 25,
   "id": "7dbb884f",
   "metadata": {},
   "outputs": [
    {
     "data": {
      "text/plain": [
       "4"
      ]
     },
     "execution_count": 25,
     "metadata": {},
     "output_type": "execute_result"
    }
   ],
   "source": [
    "next(gen)"
   ]
  },
  {
   "cell_type": "code",
   "execution_count": 26,
   "id": "a7c9bb53",
   "metadata": {},
   "outputs": [
    {
     "data": {
      "text/plain": [
       "5"
      ]
     },
     "execution_count": 26,
     "metadata": {},
     "output_type": "execute_result"
    }
   ],
   "source": [
    "next(gen)"
   ]
  },
  {
   "cell_type": "code",
   "execution_count": 27,
   "id": "65e89701",
   "metadata": {},
   "outputs": [
    {
     "ename": "StopIteration",
     "evalue": "",
     "output_type": "error",
     "traceback": [
      "\u001b[0;31m---------------------------------------------------------------------------\u001b[0m",
      "\u001b[0;31mStopIteration\u001b[0m                             Traceback (most recent call last)",
      "\u001b[0;32m<ipython-input-27-6e72e47198db>\u001b[0m in \u001b[0;36m<module>\u001b[0;34m\u001b[0m\n\u001b[0;32m----> 1\u001b[0;31m \u001b[0mnext\u001b[0m\u001b[0;34m(\u001b[0m\u001b[0mgen\u001b[0m\u001b[0;34m)\u001b[0m\u001b[0;34m\u001b[0m\u001b[0;34m\u001b[0m\u001b[0m\n\u001b[0m",
      "\u001b[0;31mStopIteration\u001b[0m: "
     ]
    }
   ],
   "source": [
    "next(gen)"
   ]
  },
  {
   "cell_type": "code",
   "execution_count": null,
   "id": "133e54f4",
   "metadata": {},
   "outputs": [],
   "source": []
  },
  {
   "cell_type": "code",
   "execution_count": null,
   "id": "cc102b15",
   "metadata": {},
   "outputs": [],
   "source": []
  },
  {
   "cell_type": "markdown",
   "id": "d485b206",
   "metadata": {},
   "source": [
    "## Generator with a loop\n",
    "\n",
    "- We can use the for loop to traverse the elements over the generator. \n",
    "- The next() function is called implicitly and the StopIteration is also automatically taken care of."
   ]
  },
  {
   "cell_type": "code",
   "execution_count": 29,
   "id": "ef4bc0ab",
   "metadata": {},
   "outputs": [
    {
     "name": "stdout",
     "output_type": "stream",
     "text": [
      "1\n",
      "2\n",
      "3\n",
      "4\n",
      "5\n"
     ]
    }
   ],
   "source": [
    "for ele in counter_gen(5):\n",
    "    print(ele)"
   ]
  },
  {
   "cell_type": "code",
   "execution_count": 28,
   "id": "22b50da2",
   "metadata": {},
   "outputs": [],
   "source": [
    "def reverse_string(string):\n",
    "    for i in range(len(string)-1, -1, -1):\n",
    "        yield string[i]"
   ]
  },
  {
   "cell_type": "code",
   "execution_count": 30,
   "id": "50d0df75",
   "metadata": {},
   "outputs": [
    {
     "name": "stdout",
     "output_type": "stream",
     "text": [
      "tihoM"
     ]
    }
   ],
   "source": [
    "for ele in reverse_string(\"Mohit\"):\n",
    "    print(ele,end=\"\")"
   ]
  },
  {
   "cell_type": "code",
   "execution_count": null,
   "id": "5aa71e7c",
   "metadata": {},
   "outputs": [],
   "source": []
  },
  {
   "cell_type": "code",
   "execution_count": null,
   "id": "a9735ae3",
   "metadata": {},
   "outputs": [],
   "source": []
  },
  {
   "cell_type": "markdown",
   "id": "2ad2a03f",
   "metadata": {},
   "source": [
    "# Generator Expressions"
   ]
  },
  {
   "cell_type": "markdown",
   "id": "dae34857",
   "metadata": {},
   "source": [
    "- Python also provides a generator expression, which is a shorter way of defining simple generator functions. The generator expression is an anonymous generator function.\n",
    "\n",
    "\n",
    "- The major difference between a list comprehension and a generator expression is that a list comprehension produces the entire list while the generator expression produces one item at a time.\n",
    "\n",
    "\n",
    "- They have lazy execution ( producing items only when asked for ). For this reason, a generator expression is much more memory efficient than an equivalent list comprehension.\n"
   ]
  },
  {
   "cell_type": "markdown",
   "id": "1ad2cd71",
   "metadata": {},
   "source": [
    "#### Advantage\n",
    "- Memory efficient\n",
    "- Represent Infinite Stream"
   ]
  },
  {
   "cell_type": "code",
   "execution_count": 35,
   "id": "ab654f67",
   "metadata": {},
   "outputs": [],
   "source": [
    "squares_list = [i**2 for i in range(100) if i%2==0]"
   ]
  },
  {
   "cell_type": "code",
   "execution_count": 36,
   "id": "38462d77",
   "metadata": {},
   "outputs": [
    {
     "name": "stdout",
     "output_type": "stream",
     "text": [
      "[0, 4, 16, 36, 64, 100, 144, 196, 256, 324, 400, 484, 576, 676, 784, 900, 1024, 1156, 1296, 1444, 1600, 1764, 1936, 2116, 2304, 2500, 2704, 2916, 3136, 3364, 3600, 3844, 4096, 4356, 4624, 4900, 5184, 5476, 5776, 6084, 6400, 6724, 7056, 7396, 7744, 8100, 8464, 8836, 9216, 9604]\n"
     ]
    }
   ],
   "source": [
    "print(squares_list)"
   ]
  },
  {
   "cell_type": "code",
   "execution_count": 38,
   "id": "802edef1",
   "metadata": {},
   "outputs": [],
   "source": [
    "squares_gen = (i**2 for i in range(1000) if i%2==0)"
   ]
  },
  {
   "cell_type": "code",
   "execution_count": 40,
   "id": "0580185b",
   "metadata": {},
   "outputs": [
    {
     "name": "stdout",
     "output_type": "stream",
     "text": [
      "0\n",
      "4\n",
      "16\n",
      "36\n",
      "64\n",
      "100\n",
      "144\n",
      "196\n",
      "256\n",
      "324\n",
      "400\n",
      "484\n",
      "576\n",
      "676\n",
      "784\n",
      "900\n",
      "1024\n",
      "1156\n",
      "1296\n",
      "1444\n",
      "1600\n",
      "1764\n",
      "1936\n",
      "2116\n",
      "2304\n",
      "2500\n",
      "2704\n",
      "2916\n",
      "3136\n",
      "3364\n",
      "3600\n",
      "3844\n",
      "4096\n",
      "4356\n",
      "4624\n",
      "4900\n",
      "5184\n",
      "5476\n",
      "5776\n",
      "6084\n",
      "6400\n",
      "6724\n",
      "7056\n",
      "7396\n",
      "7744\n",
      "8100\n",
      "8464\n",
      "8836\n",
      "9216\n",
      "9604\n",
      "10000\n",
      "10404\n",
      "10816\n",
      "11236\n",
      "11664\n",
      "12100\n",
      "12544\n",
      "12996\n",
      "13456\n",
      "13924\n",
      "14400\n",
      "14884\n",
      "15376\n",
      "15876\n",
      "16384\n",
      "16900\n",
      "17424\n",
      "17956\n",
      "18496\n",
      "19044\n",
      "19600\n",
      "20164\n",
      "20736\n",
      "21316\n",
      "21904\n",
      "22500\n",
      "23104\n",
      "23716\n",
      "24336\n",
      "24964\n",
      "25600\n",
      "26244\n",
      "26896\n",
      "27556\n",
      "28224\n",
      "28900\n",
      "29584\n",
      "30276\n",
      "30976\n",
      "31684\n",
      "32400\n",
      "33124\n",
      "33856\n",
      "34596\n",
      "35344\n",
      "36100\n",
      "36864\n",
      "37636\n",
      "38416\n",
      "39204\n",
      "40000\n",
      "40804\n",
      "41616\n",
      "42436\n",
      "43264\n",
      "44100\n",
      "44944\n",
      "45796\n",
      "46656\n",
      "47524\n",
      "48400\n",
      "49284\n",
      "50176\n",
      "51076\n",
      "51984\n",
      "52900\n",
      "53824\n",
      "54756\n",
      "55696\n",
      "56644\n",
      "57600\n",
      "58564\n",
      "59536\n",
      "60516\n",
      "61504\n",
      "62500\n",
      "63504\n",
      "64516\n",
      "65536\n",
      "66564\n",
      "67600\n",
      "68644\n",
      "69696\n",
      "70756\n",
      "71824\n",
      "72900\n",
      "73984\n",
      "75076\n",
      "76176\n",
      "77284\n",
      "78400\n",
      "79524\n",
      "80656\n",
      "81796\n",
      "82944\n",
      "84100\n",
      "85264\n",
      "86436\n",
      "87616\n",
      "88804\n",
      "90000\n",
      "91204\n",
      "92416\n",
      "93636\n",
      "94864\n",
      "96100\n",
      "97344\n",
      "98596\n",
      "99856\n",
      "101124\n",
      "102400\n",
      "103684\n",
      "104976\n",
      "106276\n",
      "107584\n",
      "108900\n",
      "110224\n",
      "111556\n",
      "112896\n",
      "114244\n",
      "115600\n",
      "116964\n",
      "118336\n",
      "119716\n",
      "121104\n",
      "122500\n",
      "123904\n",
      "125316\n",
      "126736\n",
      "128164\n",
      "129600\n",
      "131044\n",
      "132496\n",
      "133956\n",
      "135424\n",
      "136900\n",
      "138384\n",
      "139876\n",
      "141376\n",
      "142884\n",
      "144400\n",
      "145924\n",
      "147456\n",
      "148996\n",
      "150544\n",
      "152100\n",
      "153664\n",
      "155236\n",
      "156816\n",
      "158404\n",
      "160000\n",
      "161604\n",
      "163216\n",
      "164836\n",
      "166464\n",
      "168100\n",
      "169744\n",
      "171396\n",
      "173056\n",
      "174724\n",
      "176400\n",
      "178084\n",
      "179776\n",
      "181476\n",
      "183184\n",
      "184900\n",
      "186624\n",
      "188356\n",
      "190096\n",
      "191844\n",
      "193600\n",
      "195364\n",
      "197136\n",
      "198916\n",
      "200704\n",
      "202500\n",
      "204304\n",
      "206116\n",
      "207936\n",
      "209764\n",
      "211600\n",
      "213444\n",
      "215296\n",
      "217156\n",
      "219024\n",
      "220900\n",
      "222784\n",
      "224676\n",
      "226576\n",
      "228484\n",
      "230400\n",
      "232324\n",
      "234256\n",
      "236196\n",
      "238144\n",
      "240100\n",
      "242064\n",
      "244036\n",
      "246016\n",
      "248004\n",
      "250000\n",
      "252004\n",
      "254016\n",
      "256036\n",
      "258064\n",
      "260100\n",
      "262144\n",
      "264196\n",
      "266256\n",
      "268324\n",
      "270400\n",
      "272484\n",
      "274576\n",
      "276676\n",
      "278784\n",
      "280900\n",
      "283024\n",
      "285156\n",
      "287296\n",
      "289444\n",
      "291600\n",
      "293764\n",
      "295936\n",
      "298116\n",
      "300304\n",
      "302500\n",
      "304704\n",
      "306916\n",
      "309136\n",
      "311364\n",
      "313600\n",
      "315844\n",
      "318096\n",
      "320356\n",
      "322624\n",
      "324900\n",
      "327184\n",
      "329476\n",
      "331776\n",
      "334084\n",
      "336400\n",
      "338724\n",
      "341056\n",
      "343396\n",
      "345744\n",
      "348100\n",
      "350464\n",
      "352836\n",
      "355216\n",
      "357604\n",
      "360000\n",
      "362404\n",
      "364816\n",
      "367236\n",
      "369664\n",
      "372100\n",
      "374544\n",
      "376996\n",
      "379456\n",
      "381924\n",
      "384400\n",
      "386884\n",
      "389376\n",
      "391876\n",
      "394384\n",
      "396900\n",
      "399424\n",
      "401956\n",
      "404496\n",
      "407044\n",
      "409600\n",
      "412164\n",
      "414736\n",
      "417316\n",
      "419904\n",
      "422500\n",
      "425104\n",
      "427716\n",
      "430336\n",
      "432964\n",
      "435600\n",
      "438244\n",
      "440896\n",
      "443556\n",
      "446224\n",
      "448900\n",
      "451584\n",
      "454276\n",
      "456976\n",
      "459684\n",
      "462400\n",
      "465124\n",
      "467856\n",
      "470596\n",
      "473344\n",
      "476100\n",
      "478864\n",
      "481636\n",
      "484416\n",
      "487204\n",
      "490000\n",
      "492804\n",
      "495616\n",
      "498436\n",
      "501264\n",
      "504100\n",
      "506944\n",
      "509796\n",
      "512656\n",
      "515524\n",
      "518400\n",
      "521284\n",
      "524176\n",
      "527076\n",
      "529984\n",
      "532900\n",
      "535824\n",
      "538756\n",
      "541696\n",
      "544644\n",
      "547600\n",
      "550564\n",
      "553536\n",
      "556516\n",
      "559504\n",
      "562500\n",
      "565504\n",
      "568516\n",
      "571536\n",
      "574564\n",
      "577600\n",
      "580644\n",
      "583696\n",
      "586756\n",
      "589824\n",
      "592900\n",
      "595984\n",
      "599076\n",
      "602176\n",
      "605284\n",
      "608400\n",
      "611524\n",
      "614656\n",
      "617796\n",
      "620944\n",
      "624100\n",
      "627264\n",
      "630436\n",
      "633616\n",
      "636804\n",
      "640000\n",
      "643204\n",
      "646416\n",
      "649636\n",
      "652864\n",
      "656100\n",
      "659344\n",
      "662596\n",
      "665856\n",
      "669124\n",
      "672400\n",
      "675684\n",
      "678976\n",
      "682276\n",
      "685584\n",
      "688900\n",
      "692224\n",
      "695556\n",
      "698896\n",
      "702244\n",
      "705600\n",
      "708964\n",
      "712336\n",
      "715716\n",
      "719104\n",
      "722500\n",
      "725904\n",
      "729316\n",
      "732736\n",
      "736164\n",
      "739600\n",
      "743044\n",
      "746496\n",
      "749956\n",
      "753424\n",
      "756900\n",
      "760384\n",
      "763876\n",
      "767376\n",
      "770884\n",
      "774400\n",
      "777924\n",
      "781456\n",
      "784996\n",
      "788544\n",
      "792100\n",
      "795664\n",
      "799236\n",
      "802816\n",
      "806404\n",
      "810000\n",
      "813604\n",
      "817216\n",
      "820836\n",
      "824464\n",
      "828100\n",
      "831744\n",
      "835396\n",
      "839056\n",
      "842724\n",
      "846400\n",
      "850084\n",
      "853776\n",
      "857476\n",
      "861184\n",
      "864900\n",
      "868624\n",
      "872356\n",
      "876096\n",
      "879844\n",
      "883600\n",
      "887364\n",
      "891136\n",
      "894916\n",
      "898704\n",
      "902500\n",
      "906304\n",
      "910116\n",
      "913936\n",
      "917764\n",
      "921600\n",
      "925444\n",
      "929296\n",
      "933156\n",
      "937024\n",
      "940900\n",
      "944784\n",
      "948676\n",
      "952576\n",
      "956484\n",
      "960400\n",
      "964324\n",
      "968256\n",
      "972196\n",
      "976144\n",
      "980100\n",
      "984064\n",
      "988036\n",
      "992016\n",
      "996004\n"
     ]
    }
   ],
   "source": [
    "for i in squares_gen:\n",
    "    print(i)"
   ]
  },
  {
   "cell_type": "code",
   "execution_count": 56,
   "id": "d95b7a79",
   "metadata": {},
   "outputs": [
    {
     "name": "stdout",
     "output_type": "stream",
     "text": [
      "0\n",
      "4\n",
      "16\n",
      "36\n",
      "64\n",
      "100\n",
      "144\n",
      "196\n",
      "256\n",
      "324\n"
     ]
    }
   ],
   "source": [
    "idx = 0\n",
    "for i in squares_gen:\n",
    "    if idx == 10:\n",
    "        break\n",
    "    print(i)\n",
    "    idx +=1"
   ]
  },
  {
   "cell_type": "code",
   "execution_count": 57,
   "id": "65910975",
   "metadata": {},
   "outputs": [
    {
     "name": "stdout",
     "output_type": "stream",
     "text": [
      "0\n",
      "4\n",
      "16\n",
      "36\n",
      "64\n",
      "100\n",
      "144\n",
      "196\n",
      "256\n",
      "324\n"
     ]
    }
   ],
   "source": [
    "idx = 0\n",
    "for i in squares_list:\n",
    "    if idx == 10:\n",
    "        break\n",
    "    print(i)\n",
    "    idx +=1"
   ]
  },
  {
   "cell_type": "code",
   "execution_count": 1,
   "id": "0954a925",
   "metadata": {},
   "outputs": [
    {
     "data": {
      "text/plain": [
       "range(0, 100)"
      ]
     },
     "execution_count": 1,
     "metadata": {},
     "output_type": "execute_result"
    }
   ],
   "source": [
    "range(100)"
   ]
  },
  {
   "cell_type": "code",
   "execution_count": 3,
   "id": "0aa1a9f2",
   "metadata": {},
   "outputs": [
    {
     "name": "stdout",
     "output_type": "stream",
     "text": [
      "[0, 1, 2, 3, 4, 5, 6, 7, 8, 9, 10, 11, 12, 13, 14, 15, 16, 17, 18, 19, 20, 21, 22, 23, 24, 25, 26, 27, 28, 29, 30, 31, 32, 33, 34, 35, 36, 37, 38, 39, 40, 41, 42, 43, 44, 45, 46, 47, 48, 49, 50, 51, 52, 53, 54, 55, 56, 57, 58, 59, 60, 61, 62, 63, 64, 65, 66, 67, 68, 69, 70, 71, 72, 73, 74, 75, 76, 77, 78, 79, 80, 81, 82, 83, 84, 85, 86, 87, 88, 89, 90, 91, 92, 93, 94, 95, 96, 97, 98, 99]\n"
     ]
    }
   ],
   "source": [
    "print(list(range(100)))"
   ]
  },
  {
   "cell_type": "code",
   "execution_count": null,
   "id": "1284b3ca",
   "metadata": {},
   "outputs": [],
   "source": [
    "def my_generator(start, end):\n",
    "    current = start\n",
    "    while current < end:\n",
    "        yield current\n",
    "        current += 1\n",
    "\n",
    "# Usage:\n",
    "gen = my_generator(1, 5)\n",
    "for value in gen:\n",
    "    print(value)\n"
   ]
  },
  {
   "cell_type": "code",
   "execution_count": 23,
   "id": "811dc053",
   "metadata": {},
   "outputs": [
    {
     "data": {
      "text/plain": [
       "[0, 1, 2, 3, 4, 5, 6, 7, 8, 9]"
      ]
     },
     "execution_count": 23,
     "metadata": {},
     "output_type": "execute_result"
    }
   ],
   "source": [
    "list(range(0,10))"
   ]
  },
  {
   "cell_type": "code",
   "execution_count": null,
   "id": "2068cbb5",
   "metadata": {},
   "outputs": [],
   "source": []
  }
 ],
 "metadata": {
  "kernelspec": {
   "display_name": "Python 3 (ipykernel)",
   "language": "python",
   "name": "python3"
  },
  "language_info": {
   "codemirror_mode": {
    "name": "ipython",
    "version": 3
   },
   "file_extension": ".py",
   "mimetype": "text/x-python",
   "name": "python",
   "nbconvert_exporter": "python",
   "pygments_lexer": "ipython3",
   "version": "3.11.5"
  }
 },
 "nbformat": 4,
 "nbformat_minor": 5
}

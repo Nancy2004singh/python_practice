{
 "cells": [
  {
   "cell_type": "markdown",
   "id": "7b392d57",
   "metadata": {},
   "source": [
    "# Filter:\n",
    "The filter function is used to filter out elements from a sequence based on a certain condition. It takes two parameters: the first parameter is the condition and the second parameter is the sequence to be filtered."
   ]
  },
  {
   "cell_type": "code",
   "execution_count": 11,
   "id": "36927c2f",
   "metadata": {},
   "outputs": [
    {
     "data": {
      "text/plain": [
       "['apple', 'banana', 'strawberry', 'watermelon']"
      ]
     },
     "execution_count": 11,
     "metadata": {},
     "output_type": "execute_result"
    }
   ],
   "source": [
    "#Filter all the fruits name having 'a' in the name\n",
    "\n",
    "fruits=['apple','banana','cherry','strawberry','watermelon']\n",
    "list(filter(lambda x: 'a' in x,fruits))\n"
   ]
  },
  {
   "cell_type": "code",
   "execution_count": 8,
   "id": "99873f2b",
   "metadata": {},
   "outputs": [
    {
     "name": "stdout",
     "output_type": "stream",
     "text": [
      "a is not present in cherry\n"
     ]
    }
   ],
   "source": [
    "y=lambda x: print(f\"a is present in {x}\") if 'a' in x  else print(f\"a is not present in {x}\")\n",
    "y(\"cherry\")"
   ]
  },
  {
   "cell_type": "code",
   "execution_count": 9,
   "id": "5f964162",
   "metadata": {},
   "outputs": [
    {
     "name": "stdout",
     "output_type": "stream",
     "text": [
      "a is present in apple\n",
      "a is present in banana\n",
      "a is not present in cherry\n",
      "a is present in strawberry\n",
      "a is present in watermelon\n"
     ]
    },
    {
     "data": {
      "text/plain": [
       "[None, None, None, None, None]"
      ]
     },
     "execution_count": 9,
     "metadata": {},
     "output_type": "execute_result"
    }
   ],
   "source": [
    "list(map(lambda x: print(f\"a is present in {x}\") if 'a' in x  else print(f\"a is not present in {x}\"),fruits))"
   ]
  },
  {
   "cell_type": "code",
   "execution_count": 12,
   "id": "e8eccdfe",
   "metadata": {},
   "outputs": [
    {
     "name": "stdout",
     "output_type": "stream",
     "text": [
      "Enter the numbers2,3,4,8,11,17\n"
     ]
    },
    {
     "data": {
      "text/plain": [
       "[2, 4, 8]"
      ]
     },
     "execution_count": 12,
     "metadata": {},
     "output_type": "execute_result"
    }
   ],
   "source": [
    "#filter all the even number from the list\n",
    "num = list(map(int,input(\"Enter the numbers\").split(\",\")))\n",
    "\n",
    "list(filter(lambda x: x%2==0,num))"
   ]
  },
  {
   "cell_type": "markdown",
   "id": "1af5c62f",
   "metadata": {},
   "source": [
    "# MAP + Filter"
   ]
  },
  {
   "cell_type": "code",
   "execution_count": 13,
   "id": "626a0bdf",
   "metadata": {},
   "outputs": [
    {
     "data": {
      "text/plain": [
       "['APPLE', 'BANANA', 'STRAWBERRY', 'WATERMELON']"
      ]
     },
     "execution_count": 13,
     "metadata": {},
     "output_type": "execute_result"
    }
   ],
   "source": [
    "#Write the name in upper case having 'a' in its name\n",
    "\n",
    "fruits=['apple','banana','cherry','strawberry','watermelon']\n",
    "\n",
    "list(map(lambda x : x.upper(),list(filter(lambda x: 'a' in x,fruits))))"
   ]
  },
  {
   "cell_type": "raw",
   "id": "70382fd3",
   "metadata": {},
   "source": [
    "# Questions for homework\n",
    "\n",
    "Given a list of names ['Alice', 'Bob', 'Charlie', 'David'], write a lambda function and \n",
    "use the map() function to convert each name to uppercase.\n",
    "\n",
    "Given a list of strings ['apple', 'banana', 'cherry', 'date'], write a lambda function and use the filter() function to return only the strings that have more than 5 characters.\n",
    "\n",
    "Given a list of numbers [1, 2, 3, 4, 5, 6, 7, 8, 9, 10], write a lambda function and use the filter() function to return only the numbers that are perfect squares.\n",
    "\n",
    "Given a list of names ['Alice', 'Bob', 'Charlie', 'David'], write a lambda function and use the map() function to create a new list that contains the length of each name.\n",
    "\n",
    "Given a list of numbers [1, 2, 3, 4, 5], use a lambda function and both map() and filter() functions to create a new list that contains the squares of even numbers."
   ]
  },
  {
   "cell_type": "code",
   "execution_count": 4,
   "id": "619d3e6e",
   "metadata": {},
   "outputs": [],
   "source": [
    "#enumerate()"
   ]
  },
  {
   "cell_type": "code",
   "execution_count": 5,
   "id": "d077627d",
   "metadata": {},
   "outputs": [],
   "source": [
    "#Aggregation functions : sum(), max(), min()"
   ]
  },
  {
   "cell_type": "code",
   "execution_count": 6,
   "id": "bc6c397d",
   "metadata": {},
   "outputs": [],
   "source": [
    "#round(),floor(),ceil()"
   ]
  },
  {
   "cell_type": "markdown",
   "id": "0c12b9bb",
   "metadata": {},
   "source": [
    "# Python Function Recursion\n",
    "Python also accepts function recursion, which means a defined function can call itself."
   ]
  },
  {
   "cell_type": "code",
   "execution_count": null,
   "id": "eee21307",
   "metadata": {},
   "outputs": [],
   "source": [
    "# Recursive function for factorial"
   ]
  },
  {
   "cell_type": "code",
   "execution_count": null,
   "id": "c3f4291f",
   "metadata": {},
   "outputs": [],
   "source": [
    "#Recursive function for fibonacci"
   ]
  },
  {
   "cell_type": "code",
   "execution_count": null,
   "id": "f2557056",
   "metadata": {},
   "outputs": [],
   "source": []
  },
  {
   "cell_type": "code",
   "execution_count": null,
   "id": "d6311424",
   "metadata": {},
   "outputs": [],
   "source": []
  },
  {
   "cell_type": "raw",
   "id": "aed3141e",
   "metadata": {},
   "source": [
    "1.Write the recursive function to find the sum of numbers in given list.\n",
    "2.Write a recursive function that accepts a number as its argument and returns the sum of digits."
   ]
  },
  {
   "cell_type": "code",
   "execution_count": null,
   "id": "8183c9c3",
   "metadata": {},
   "outputs": [],
   "source": [
    "\n"
   ]
  }
 ],
 "metadata": {
  "kernelspec": {
   "display_name": "Python 3 (ipykernel)",
   "language": "python",
   "name": "python3"
  },
  "language_info": {
   "codemirror_mode": {
    "name": "ipython",
    "version": 3
   },
   "file_extension": ".py",
   "mimetype": "text/x-python",
   "name": "python",
   "nbconvert_exporter": "python",
   "pygments_lexer": "ipython3",
   "version": "3.11.5"
  }
 },
 "nbformat": 4,
 "nbformat_minor": 5
}

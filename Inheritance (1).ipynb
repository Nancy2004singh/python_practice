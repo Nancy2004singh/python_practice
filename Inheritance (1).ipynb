{
 "cells": [
  {
   "cell_type": "code",
   "execution_count": 71,
   "id": "4e575a2e",
   "metadata": {},
   "outputs": [],
   "source": [
    "class product():\n",
    "    database=[]\n",
    "    def __init__(self,name,quant):\n",
    "        self.name = name\n",
    "        self.quant = quant\n",
    "        product.database.append(self)\n",
    "        \n",
    "    def details(self):\n",
    "        print(self.name,self.quant)\n",
    "       \n",
    "    def __repr__(self):\n",
    "        return f\"[{self.name},{self.quant}]\"\n",
    "    \n"
   ]
  },
  {
   "cell_type": "code",
   "execution_count": 72,
   "id": "186b75a6",
   "metadata": {},
   "outputs": [],
   "source": [
    "class inventory(product):\n",
    "    def __init__(self,price):\n",
    "        self.price= price\n",
    "        \n",
    "    def total_value(self):\n",
    "        return sum(p.quant * self.price for p in product.database)"
   ]
  },
  {
   "cell_type": "code",
   "execution_count": 73,
   "id": "81d604d0",
   "metadata": {},
   "outputs": [],
   "source": [
    "p1= product('pen',2)"
   ]
  },
  {
   "cell_type": "code",
   "execution_count": 74,
   "id": "11098561",
   "metadata": {},
   "outputs": [],
   "source": [
    "p2= product('pencil',5)"
   ]
  },
  {
   "cell_type": "code",
   "execution_count": 75,
   "id": "2b65c025",
   "metadata": {},
   "outputs": [],
   "source": [
    "i = inventory(10)"
   ]
  },
  {
   "cell_type": "code",
   "execution_count": 76,
   "id": "2ef98d75",
   "metadata": {},
   "outputs": [
    {
     "data": {
      "text/plain": [
       "[[pen,2], [pencil,5]]"
      ]
     },
     "execution_count": 76,
     "metadata": {},
     "output_type": "execute_result"
    }
   ],
   "source": [
    "i.database"
   ]
  },
  {
   "cell_type": "code",
   "execution_count": null,
   "id": "c36e41dd",
   "metadata": {},
   "outputs": [],
   "source": []
  },
  {
   "cell_type": "code",
   "execution_count": 77,
   "id": "83ef608b",
   "metadata": {},
   "outputs": [
    {
     "name": "stdout",
     "output_type": "stream",
     "text": [
      "pen 2\n"
     ]
    }
   ],
   "source": [
    "p1.details()"
   ]
  },
  {
   "cell_type": "code",
   "execution_count": 78,
   "id": "af58cdd1",
   "metadata": {},
   "outputs": [
    {
     "name": "stdout",
     "output_type": "stream",
     "text": [
      "pencil 5\n"
     ]
    }
   ],
   "source": [
    "p2.details()"
   ]
  },
  {
   "cell_type": "code",
   "execution_count": 79,
   "id": "f9ef4844",
   "metadata": {},
   "outputs": [
    {
     "data": {
      "text/plain": [
       "70"
      ]
     },
     "execution_count": 79,
     "metadata": {},
     "output_type": "execute_result"
    }
   ],
   "source": [
    "i.total_value()"
   ]
  },
  {
   "cell_type": "code",
   "execution_count": 2,
   "id": "75ba60af",
   "metadata": {},
   "outputs": [],
   "source": [
    "class product():\n",
    "    database=[]\n",
    "    def __init__(self,name,quant):\n",
    "        self.name = name\n",
    "        self.quant = quant\n",
    "        product.database.append(self)\n",
    "        \n",
    "    def details(self):\n",
    "        print(self.name,self.quant)\n",
    "       \n",
    "    def __repr__(self):\n",
    "        return f\"[{self.name},{self.quant}]\""
   ]
  },
  {
   "cell_type": "code",
   "execution_count": 6,
   "id": "02d70cd2",
   "metadata": {},
   "outputs": [],
   "source": [
    "class inventory(product):\n",
    "    def __init__(self,name,quant,price):\n",
    "        super().__init__(name,quant)\n",
    "  \n",
    "        self.price = price\n",
    "    "
   ]
  },
  {
   "cell_type": "code",
   "execution_count": 8,
   "id": "c7a066eb",
   "metadata": {},
   "outputs": [],
   "source": [
    "i1 = inventory('pooja',2,10)"
   ]
  },
  {
   "cell_type": "code",
   "execution_count": 10,
   "id": "505b1a28",
   "metadata": {},
   "outputs": [
    {
     "data": {
      "text/plain": [
       "2"
      ]
     },
     "execution_count": 10,
     "metadata": {},
     "output_type": "execute_result"
    }
   ],
   "source": [
    "i1.quant"
   ]
  },
  {
   "cell_type": "markdown",
   "id": "178b1d15",
   "metadata": {},
   "source": [
    "# In Python, there are several types of inheritance that can be used in classes. These include:\n",
    "\n",
    "- Single inheritance: A derived class inherits from only one base class.\n",
    "- Multiple inheritance: A derived class inherits from multiple base classes.\n",
    "- Multilevel inheritance: A derived class is created from another derived class."
   ]
  },
  {
   "cell_type": "markdown",
   "id": "ca66b8d0",
   "metadata": {},
   "source": [
    "# Single Inheritance"
   ]
  },
  {
   "cell_type": "code",
   "execution_count": 11,
   "id": "3e8d8beb",
   "metadata": {},
   "outputs": [],
   "source": [
    "class Animal:\n",
    "    def speak(self):\n",
    "        print(\"Animal speaks\")\n",
    "\n",
    "class Dog(Animal):\n",
    "    def bark(self):\n",
    "        print(\"Dog barks\")\n",
    "\n",
    "\n"
   ]
  },
  {
   "cell_type": "code",
   "execution_count": 12,
   "id": "3af0d41c",
   "metadata": {},
   "outputs": [
    {
     "name": "stdout",
     "output_type": "stream",
     "text": [
      "Animal speaks\n",
      "Dog barks\n"
     ]
    }
   ],
   "source": [
    "dog = Dog()\n",
    "dog.speak()  # Output: \"Animal speaks\"\n",
    "dog.bark()   # Output: \"Dog barks\""
   ]
  },
  {
   "cell_type": "code",
   "execution_count": 16,
   "id": "8fa81c46",
   "metadata": {},
   "outputs": [],
   "source": [
    "class Shape:\n",
    "    def area(self):\n",
    "        pass\n",
    "\n",
    "class Square(Shape):\n",
    "    def __init__(self, side_length):\n",
    "        self.side_length = side_length\n",
    "    \n",
    "    def area(self):\n",
    "        return self.side_length ** 2\n",
    "\n",
    "\n"
   ]
  },
  {
   "cell_type": "code",
   "execution_count": 17,
   "id": "20caacde",
   "metadata": {},
   "outputs": [],
   "source": [
    "sq = Square(5)\n"
   ]
  },
  {
   "cell_type": "code",
   "execution_count": 19,
   "id": "6d932ad7",
   "metadata": {},
   "outputs": [
    {
     "data": {
      "text/plain": [
       "25"
      ]
     },
     "execution_count": 19,
     "metadata": {},
     "output_type": "execute_result"
    }
   ],
   "source": [
    "sq.area()"
   ]
  },
  {
   "cell_type": "code",
   "execution_count": 20,
   "id": "751a2923",
   "metadata": {},
   "outputs": [],
   "source": [
    "s = Shape()"
   ]
  },
  {
   "cell_type": "code",
   "execution_count": 21,
   "id": "5131c040",
   "metadata": {},
   "outputs": [],
   "source": [
    "s.area()"
   ]
  },
  {
   "cell_type": "markdown",
   "id": "f7bb0767",
   "metadata": {},
   "source": [
    "# Multiple Inheritance "
   ]
  },
  {
   "cell_type": "code",
   "execution_count": 22,
   "id": "a0dddb82",
   "metadata": {},
   "outputs": [],
   "source": [
    "class A:\n",
    "    def method_a(self):\n",
    "        print(\"Method A\")\n",
    "\n",
    "class B:\n",
    "    def method_b(self):\n",
    "        print(\"Method B\")\n",
    "\n",
    "class C(A, B):\n",
    "    def method_c(self):\n",
    "        print(\"Method C\")\n",
    "\n",
    "\n"
   ]
  },
  {
   "cell_type": "code",
   "execution_count": 23,
   "id": "5a9febd2",
   "metadata": {},
   "outputs": [],
   "source": [
    "c = C()\n"
   ]
  },
  {
   "cell_type": "code",
   "execution_count": 25,
   "id": "5d1a97a4",
   "metadata": {},
   "outputs": [
    {
     "name": "stdout",
     "output_type": "stream",
     "text": [
      "Method B\n"
     ]
    }
   ],
   "source": [
    "c.method_b()"
   ]
  },
  {
   "cell_type": "code",
   "execution_count": 26,
   "id": "f1230d55",
   "metadata": {},
   "outputs": [],
   "source": [
    "class Engine:\n",
    "    def start(self):\n",
    "        print(\"Engine started\")\n",
    "\n",
    "class Electric:\n",
    "    def charge(self):\n",
    "        print(\"Electric charged\")\n",
    "\n",
    "class HybridCar(Engine, Electric):\n",
    "    def drive(self):\n",
    "        print(\"Hybrid car driving\")\n",
    "\n"
   ]
  },
  {
   "cell_type": "code",
   "execution_count": 27,
   "id": "9339213e",
   "metadata": {},
   "outputs": [
    {
     "name": "stdout",
     "output_type": "stream",
     "text": [
      "Engine started\n",
      "Electric charged\n",
      "Hybrid car driving\n"
     ]
    }
   ],
   "source": [
    "car = HybridCar()\n",
    "car.start()   # Output: \"Engine started\"\n",
    "car.charge()  # Output: \"Electric charged\"\n",
    "car.drive()   # Output: \"Hybrid car driving\"\n"
   ]
  },
  {
   "cell_type": "markdown",
   "id": "1ed6cfcb",
   "metadata": {},
   "source": [
    "# Multilevel Inheritance"
   ]
  },
  {
   "cell_type": "code",
   "execution_count": 28,
   "id": "487114a6",
   "metadata": {},
   "outputs": [],
   "source": [
    "class A:\n",
    "    def method_a(self):\n",
    "        print(\"Method A\")\n",
    "    def test(self):\n",
    "        print(\"Hello\")\n",
    "\n",
    "class B(A):\n",
    "    def method_b(self):\n",
    "        print(\"Method B\")\n",
    "    def test(self):\n",
    "        print(\"Bye\")\n",
    "\n",
    "class C(B):\n",
    "    def method_c(self):\n",
    "        print(\"Method C\")\n",
    "\n",
    "\n"
   ]
  },
  {
   "cell_type": "code",
   "execution_count": 29,
   "id": "3ad8b7e1",
   "metadata": {},
   "outputs": [],
   "source": [
    "c = C()\n"
   ]
  },
  {
   "cell_type": "code",
   "execution_count": 30,
   "id": "c7476099",
   "metadata": {},
   "outputs": [
    {
     "name": "stdout",
     "output_type": "stream",
     "text": [
      "Bye\n"
     ]
    }
   ],
   "source": [
    "c.test()"
   ]
  },
  {
   "cell_type": "code",
   "execution_count": 31,
   "id": "1ed95260",
   "metadata": {},
   "outputs": [],
   "source": [
    "class Vehicle:\n",
    "    def move(self):\n",
    "        print(\"Vehicle is moving\")\n",
    "\n",
    "class Car(Vehicle):\n",
    "    def stop(self):\n",
    "        print(\"Car stopped\")\n",
    "\n",
    "class SportsCar(Car):\n",
    "    def accelerate(self):\n",
    "        print(\"Sports car accelerating\")\n",
    "\n",
    "\n"
   ]
  },
  {
   "cell_type": "code",
   "execution_count": 32,
   "id": "1ecb815f",
   "metadata": {},
   "outputs": [
    {
     "name": "stdout",
     "output_type": "stream",
     "text": [
      "Vehicle is moving\n",
      "Car stopped\n",
      "Sports car accelerating\n"
     ]
    }
   ],
   "source": [
    "my_car = SportsCar()\n",
    "my_car.move()      # Output: \"Vehicle is moving\"\n",
    "my_car.stop()      # Output: \"Car stopped\"\n",
    "my_car.accelerate()  # Output: \"Sports car accelerating\""
   ]
  },
  {
   "cell_type": "code",
   "execution_count": 41,
   "id": "83e6dde4",
   "metadata": {},
   "outputs": [],
   "source": [
    "class Human():\n",
    "    id_seq = 101\n",
    "    database = []\n",
    "    population = 0\n",
    "\n",
    "    def __init__(self, name, age, is_alive=True):\n",
    "        self.name = name\n",
    "        self.age = age\n",
    "        self.is_alive = is_alive\n",
    "        # adding id of object\n",
    "        self.id = Human.id_seq\n",
    "        Human.id_seq += 1\n",
    "        Human.database.append(self)\n",
    "        Human.population +=1\n",
    "    \n",
    "    def introduce(self):\n",
    "        print(\"Hi, My name is\", self.name, \"My age is \", self.age)\n",
    "        \n",
    "    def die(self):\n",
    "        if self.is_alive:\n",
    "            print(self.name, \"is dying...\")\n",
    "            self.is_alive = False\n",
    "            Human.population -=1\n",
    "        else:\n",
    "            print(\"{} is already dead.\".format(self.name))\n",
    "        \n",
    "    #magic function    \n",
    "    def __repr__(self):\n",
    "        \"\"\"\n",
    "        this function needs to return a string\n",
    "        \"\"\"\n",
    "        return \"[{}, {}, {}, {}]\".format(self.id, self.name, self.age, self.is_alive)"
   ]
  },
  {
   "cell_type": "code",
   "execution_count": 42,
   "id": "b9c8aea6",
   "metadata": {},
   "outputs": [],
   "source": [
    "# Derived Class\n",
    "class Hitman(Human):\n",
    "    \n",
    "    # re-initialise constructor\n",
    "    def __init__(self, name, age):\n",
    "        super().__init__(name, age)   \n",
    "        # additional hitman properties\n",
    "        self.kills = 0\n",
    "        self.kill_list = []\n",
    "        \n",
    "    # adding kill method\n",
    "    def kill(self, person):\n",
    "        \"\"\"person : object of human\"\"\"\n",
    "        \n",
    "        if(person.is_alive):\n",
    "            print(\"{} is killing {}\".format(self.name, person.name))\n",
    "            person.die()\n",
    "            self.kills += 1\n",
    "            self.kill_list.append(person)\n",
    "        else:\n",
    "            print(\"{} is already dead.\".format(person.name))"
   ]
  },
  {
   "cell_type": "code",
   "execution_count": 43,
   "id": "871427da",
   "metadata": {},
   "outputs": [],
   "source": [
    "h1 = Human(\"pooja\",36)"
   ]
  },
  {
   "cell_type": "code",
   "execution_count": 44,
   "id": "dc2b89d9",
   "metadata": {},
   "outputs": [],
   "source": [
    "h2= Human(\"meghna\",21)\n",
    "h3= Human(\"Nancy\",21)"
   ]
  },
  {
   "cell_type": "code",
   "execution_count": 45,
   "id": "b0145d85",
   "metadata": {},
   "outputs": [],
   "source": [
    "h4 = Hitman(\"Ravi\",21)"
   ]
  },
  {
   "cell_type": "code",
   "execution_count": 46,
   "id": "aca0474b",
   "metadata": {},
   "outputs": [
    {
     "data": {
      "text/plain": [
       "[[101, pooja, 36, True],\n",
       " [102, meghna, 21, True],\n",
       " [103, Nancy, 21, True],\n",
       " [104, Ravi, 21, True]]"
      ]
     },
     "execution_count": 46,
     "metadata": {},
     "output_type": "execute_result"
    }
   ],
   "source": [
    "h4.database"
   ]
  },
  {
   "cell_type": "code",
   "execution_count": 48,
   "id": "ca75b1c4",
   "metadata": {},
   "outputs": [
    {
     "name": "stdout",
     "output_type": "stream",
     "text": [
      "Ravi is killing pooja\n",
      "pooja is dying...\n"
     ]
    }
   ],
   "source": [
    "h4.kill(h1)"
   ]
  },
  {
   "cell_type": "code",
   "execution_count": null,
   "id": "753cd257",
   "metadata": {},
   "outputs": [],
   "source": []
  }
 ],
 "metadata": {
  "kernelspec": {
   "display_name": "Python 3 (ipykernel)",
   "language": "python",
   "name": "python3"
  },
  "language_info": {
   "codemirror_mode": {
    "name": "ipython",
    "version": 3
   },
   "file_extension": ".py",
   "mimetype": "text/x-python",
   "name": "python",
   "nbconvert_exporter": "python",
   "pygments_lexer": "ipython3",
   "version": "3.11.5"
  }
 },
 "nbformat": 4,
 "nbformat_minor": 5
}

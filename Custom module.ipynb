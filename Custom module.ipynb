{
 "cells": [
  {
   "cell_type": "code",
   "execution_count": 11,
   "id": "96868a45",
   "metadata": {},
   "outputs": [
    {
     "ename": "ModuleNotFoundError",
     "evalue": "No module named 'calci'",
     "output_type": "error",
     "traceback": [
      "\u001b[1;31m---------------------------------------------------------------------------\u001b[0m",
      "\u001b[1;31mModuleNotFoundError\u001b[0m                       Traceback (most recent call last)",
      "Cell \u001b[1;32mIn[11], line 1\u001b[0m\n\u001b[1;32m----> 1\u001b[0m \u001b[38;5;28;01mimport\u001b[39;00m \u001b[38;5;21;01mcalci\u001b[39;00m \u001b[38;5;28;01mas\u001b[39;00m \u001b[38;5;21;01mc\u001b[39;00m\n",
      "\u001b[1;31mModuleNotFoundError\u001b[0m: No module named 'calci'"
     ]
    }
   ],
   "source": [
    "import calci as c"
   ]
  },
  {
   "cell_type": "code",
   "execution_count": 1,
   "id": "d8097221",
   "metadata": {},
   "outputs": [
    {
     "name": "stdout",
     "output_type": "stream",
     "text": [
      "******************WELCOME TO COUNTRY INN HOTEL****************\n",
      " \n",
      "Please choose any one option\n",
      "1 .  Enter customer data \n",
      "2 .  Calculate roomrent\n",
      "3 .  Calculate restaurant bill\n",
      "4 .  Calculate laundry bill\n",
      "5 .  calculate game bill\n",
      "6 .  Show total cost\n",
      "7 .  Exit\n",
      "Enter the choice from 1 to 7 : 1\n",
      "Room no  :   100\n",
      "Customer_name  :   nancy\n",
      "Address         :   pv\n",
      "Phone no.  :   11234567\n",
      "Checkin date :   1\n",
      "Checkout date:   6\n",
      "File has created\n",
      "More booking of rooms (Y/N)? : n\n",
      "Do you want to continue Y or N ? y\n",
      "******************WELCOME TO COUNTRY INN HOTEL****************\n",
      " \n",
      "Please choose any one option\n",
      "1 .  Enter customer data \n",
      "2 .  Calculate roomrent\n",
      "3 .  Calculate restaurant bill\n",
      "4 .  Calculate laundry bill\n",
      "5 .  calculate game bill\n",
      "6 .  Show total cost\n",
      "7 .  Exit\n",
      "Enter the choice from 1 to 7 : 2\n",
      "Room no  :   100\n",
      "Record found. Customer name :  nancy\n",
      "1 .  Type A (Rs 6000 per night)\n",
      "2 .  Type B (Rs 5000 per night)\n",
      "3 .  Type C (Rs 4000 per night)\n",
      "4 .  Type D (Rs 3000 per night)\n",
      "Enter the choice : hv\n"
     ]
    },
    {
     "ename": "ValueError",
     "evalue": "invalid literal for int() with base 10: 'hv'",
     "output_type": "error",
     "traceback": [
      "\u001b[1;31m---------------------------------------------------------------------------\u001b[0m",
      "\u001b[1;31mValueError\u001b[0m                                Traceback (most recent call last)",
      "Cell \u001b[1;32mIn[1], line 257\u001b[0m\n\u001b[0;32m    253\u001b[0m         b \u001b[38;5;241m=\u001b[39m \u001b[38;5;28minput\u001b[39m(\u001b[38;5;124m\"\u001b[39m\u001b[38;5;124mDo you want to continue Y or N ? \u001b[39m\u001b[38;5;124m\"\u001b[39m)\n\u001b[0;32m    254\u001b[0m         again(b)\n\u001b[1;32m--> 257\u001b[0m main()\n",
      "Cell \u001b[1;32mIn[1], line 14\u001b[0m, in \u001b[0;36mmain\u001b[1;34m()\u001b[0m\n\u001b[0;32m     12\u001b[0m     \u001b[38;5;28mprint\u001b[39m(i,\u001b[38;5;124m\"\u001b[39m\u001b[38;5;124m. \u001b[39m\u001b[38;5;124m\"\u001b[39m,j)\n\u001b[0;32m     13\u001b[0m op\u001b[38;5;241m=\u001b[39m\u001b[38;5;28mint\u001b[39m(\u001b[38;5;28minput\u001b[39m(\u001b[38;5;124m\"\u001b[39m\u001b[38;5;124mEnter the choice from 1 to 7 : \u001b[39m\u001b[38;5;124m\"\u001b[39m))\n\u001b[1;32m---> 14\u001b[0m services(op)\n",
      "Cell \u001b[1;32mIn[1], line 244\u001b[0m, in \u001b[0;36mservices\u001b[1;34m(n)\u001b[0m\n\u001b[0;32m    240\u001b[0m     \u001b[38;5;28mprint\u001b[39m(\u001b[38;5;124m\"\u001b[39m\u001b[38;5;124mPlease enter the valid option\u001b[39m\u001b[38;5;124m\"\u001b[39m)\n\u001b[0;32m    243\u001b[0m c \u001b[38;5;241m=\u001b[39m \u001b[38;5;28minput\u001b[39m(\u001b[38;5;124m\"\u001b[39m\u001b[38;5;124mDo you want to continue Y or N ? \u001b[39m\u001b[38;5;124m\"\u001b[39m)\n\u001b[1;32m--> 244\u001b[0m again(c)\n",
      "Cell \u001b[1;32mIn[1], line 248\u001b[0m, in \u001b[0;36magain\u001b[1;34m(a)\u001b[0m\n\u001b[0;32m    246\u001b[0m \u001b[38;5;28;01mdef\u001b[39;00m \u001b[38;5;21magain\u001b[39m(a):    \n\u001b[0;32m    247\u001b[0m     \u001b[38;5;28;01mif\u001b[39;00m a\u001b[38;5;241m.\u001b[39mupper()\u001b[38;5;241m==\u001b[39m \u001b[38;5;124m'\u001b[39m\u001b[38;5;124mY\u001b[39m\u001b[38;5;124m'\u001b[39m:\n\u001b[1;32m--> 248\u001b[0m         main()\n\u001b[0;32m    249\u001b[0m     \u001b[38;5;28;01melif\u001b[39;00m a\u001b[38;5;241m.\u001b[39mupper()\u001b[38;5;241m==\u001b[39m \u001b[38;5;124m'\u001b[39m\u001b[38;5;124mN\u001b[39m\u001b[38;5;124m'\u001b[39m:\n\u001b[0;32m    250\u001b[0m         exit()\n",
      "Cell \u001b[1;32mIn[1], line 14\u001b[0m, in \u001b[0;36mmain\u001b[1;34m()\u001b[0m\n\u001b[0;32m     12\u001b[0m     \u001b[38;5;28mprint\u001b[39m(i,\u001b[38;5;124m\"\u001b[39m\u001b[38;5;124m. \u001b[39m\u001b[38;5;124m\"\u001b[39m,j)\n\u001b[0;32m     13\u001b[0m op\u001b[38;5;241m=\u001b[39m\u001b[38;5;28mint\u001b[39m(\u001b[38;5;28minput\u001b[39m(\u001b[38;5;124m\"\u001b[39m\u001b[38;5;124mEnter the choice from 1 to 7 : \u001b[39m\u001b[38;5;124m\"\u001b[39m))\n\u001b[1;32m---> 14\u001b[0m services(op)\n",
      "Cell \u001b[1;32mIn[1], line 228\u001b[0m, in \u001b[0;36mservices\u001b[1;34m(n)\u001b[0m\n\u001b[0;32m    226\u001b[0m     customer()             \n\u001b[0;32m    227\u001b[0m \u001b[38;5;28;01mif\u001b[39;00m n\u001b[38;5;241m==\u001b[39m\u001b[38;5;241m2\u001b[39m:\n\u001b[1;32m--> 228\u001b[0m     roomrent()\n\u001b[0;32m    229\u001b[0m \u001b[38;5;28;01mif\u001b[39;00m n\u001b[38;5;241m==\u001b[39m\u001b[38;5;241m3\u001b[39m:\n\u001b[0;32m    230\u001b[0m     restaurant_bill()\n",
      "Cell \u001b[1;32mIn[1], line 51\u001b[0m, in \u001b[0;36mroomrent\u001b[1;34m()\u001b[0m\n\u001b[0;32m     49\u001b[0m \u001b[38;5;28;01mfor\u001b[39;00m i,j \u001b[38;5;129;01min\u001b[39;00m option1\u001b[38;5;241m.\u001b[39mitems():\n\u001b[0;32m     50\u001b[0m     \u001b[38;5;28mprint\u001b[39m(i,\u001b[38;5;124m\"\u001b[39m\u001b[38;5;124m. \u001b[39m\u001b[38;5;124m\"\u001b[39m,j)\n\u001b[1;32m---> 51\u001b[0m op1\u001b[38;5;241m=\u001b[39m\u001b[38;5;28mint\u001b[39m(\u001b[38;5;28minput\u001b[39m(\u001b[38;5;124m\"\u001b[39m\u001b[38;5;124mEnter the choice : \u001b[39m\u001b[38;5;124m\"\u001b[39m))\n\u001b[0;32m     52\u001b[0m \u001b[38;5;28;01mif\u001b[39;00m op1 \u001b[38;5;241m==\u001b[39m \u001b[38;5;241m1\u001b[39m:\n\u001b[0;32m     53\u001b[0m     day \u001b[38;5;241m=\u001b[39m \u001b[38;5;28mint\u001b[39m(\u001b[38;5;28minput\u001b[39m(\u001b[38;5;124m\"\u001b[39m\u001b[38;5;124mNo of nights did you stay : \u001b[39m\u001b[38;5;124m\"\u001b[39m))\n",
      "\u001b[1;31mValueError\u001b[0m: invalid literal for int() with base 10: 'hv'"
     ]
    }
   ],
   "source": [
    "import os\n",
    "\n",
    "def main():\n",
    "   \n",
    "    print(\"******************WELCOME TO COUNTRY INN HOTEL****************\")\n",
    "    print(\" \")\n",
    "    option={1:'Enter customer data ',2:'Calculate roomrent',\n",
    "            3:'Calculate restaurant bill',4:'Calculate laundry bill',\n",
    "            5:'calculate game bill',6:'Show total cost',7:'Exit'}\n",
    "    print(\"Please choose any one option\")\n",
    "    for i,j in option.items():\n",
    "        print(i,\". \",j)\n",
    "    op=int(input(\"Enter the choice from 1 to 7 : \"))\n",
    "    services(op)\n",
    "    \n",
    "def customer():\n",
    "    rm = input(\"Room no  :   \")\n",
    "    file = rm + '.txt'\n",
    "    if os.path.isfile(file) == True:\n",
    "        print(\"Room number already booked\")\n",
    "    else:    \n",
    "        f=open(file,'a')\n",
    "        name = input(\"Customer_name  :   \")\n",
    "        add = input(\"Address         :   \")\n",
    "        ph_no= int(input(\"Phone no.  :   \"))        \n",
    "        chk_in = input(\"Checkin date :   \")         \n",
    "        chk_out= input(\"Checkout date:   \")       \n",
    "        data ={rm:{'name':name,'address':add,'ph_no':ph_no,'Chk_in':chk_in,\n",
    "                   'chk_out':chk_out,'rm_rent':0,'res_bill':0,'laund_bill':0\n",
    "                   ,'game_bill':0,'tot_bill':0}}\n",
    "        f.write(str(data))\n",
    "        f.close()\n",
    "        print(\"File has created\") \n",
    "        ch = input(\"More booking of rooms (Y/N)? : \")\n",
    "        if ch.upper()=='Y':\n",
    "            customer()\n",
    "           \n",
    "def roomrent():\n",
    "    rm = input(\"Room no  :   \")\n",
    "    file = rm + '.txt'\n",
    "    if os.path.isfile(file) == True:\n",
    "        f=open(file,'r')\n",
    "        data =f.read()\n",
    "        data1=eval(data)\n",
    "        f.close()\n",
    "        print(\"Record found. Customer name : \",data1[rm]['name'])\n",
    "        option1={1:'Type A (Rs 6000 per night)',2:'Type B (Rs 5000 per night)',\n",
    "        3:'Type C (Rs 4000 per night)',4:'Type D (Rs 3000 per night)'}\n",
    "        for i,j in option1.items():\n",
    "            print(i,\". \",j)\n",
    "        op1=int(input(\"Enter the choice : \"))\n",
    "        if op1 == 1:\n",
    "            day = int(input(\"No of nights did you stay : \"))\n",
    "            rm_rent = day * 6000\n",
    "        if op1 == 2:\n",
    "            day = int(input(\"No of nights did you stay : \"))\n",
    "            rm_rent = day * 5000\n",
    "        if op1 == 3:\n",
    "            day = int(input(\"No of nights did you stay : \"))\n",
    "            rm_rent = day * 4000\n",
    "        if op1 == 4:\n",
    "            day = int(input(\"No of nights did you stay : \"))\n",
    "            rm_rent = day * 3000    \n",
    "        print(\"Room rent of room no \",rm,\" is Rs \",rm_rent)          \n",
    "        data1[rm]['rm_rent']= rm_rent    \n",
    "        os.remove(file)\n",
    "        f=open(file,'a')\n",
    "        f.write(str(data1))\n",
    "        f.close()    \n",
    "    else:\n",
    "        print(\"Room is not booked\")\n",
    "               \n",
    "def laundary_bill():\n",
    "    rm = input(\"Room no  :   \")\n",
    "    file = rm + '.txt'\n",
    "    if os.path.isfile(file) == True:\n",
    "        f=open(file,'r')\n",
    "        data =f.read()\n",
    "        data1=eval(data)\n",
    "        f.close()\n",
    "        print(\"Record found. Customer name : \",data1[rm]['name'])\n",
    "        print(\"***************Laundary Menu*******************\")\n",
    "        option1={1:'shorts (Rs 3)',2:'Trousers (Rs 4)',\n",
    "        3:'Shirt (Rs 5)',4:'Jeans (Rs 7)',\n",
    "        5:'Girl Suit (Rs 8)',6:'Exit'}\n",
    "        for i,j in option1.items():\n",
    "            print(i,\". \",j)    \n",
    "        op1=0\n",
    "        l_bill =data1[rm]['laund_bill']\n",
    "        while op1 <6 and op1!=6:\n",
    "            op1=int(input(\"Enter the choice : \"))\n",
    "            if op1<6:\n",
    "                q = int(input(\"Enter the quantity : \"))\n",
    "                if op1 == 1:\n",
    "                    l_bill += 3*q\n",
    "                if op1 == 2:    \n",
    "                    l_bill += 4*q\n",
    "                if op1 == 3:\n",
    "                    l_bill += 5*q\n",
    "                if op1 == 4:    \n",
    "                    l_bill += 7*q\n",
    "                if op1 == 5:\n",
    "                    l_bill += 8*q\n",
    "\n",
    "        print(\"Laundary bill of room no \",rm,\" is Rs \",l_bill)          \n",
    "        data1[rm]['laund_bill']= l_bill    \n",
    "        os.remove(file)\n",
    "        f=open(file,'a')\n",
    "        f.write(str(data1))\n",
    "        f.close()          \n",
    "            \n",
    "    else:\n",
    "        print(\"Room is not booked\")    \n",
    "def restaurant_bill():\n",
    "    rm = input(\"Room no  :   \")\n",
    "    file = rm + '.txt'\n",
    "    if os.path.isfile(file) == True:\n",
    "        f=open(file,'r')\n",
    "        data =f.read()\n",
    "        data1=eval(data)\n",
    "        f.close()\n",
    "        print(\"Record found. Customer name : \",data1[rm]['name'])\n",
    "        print(\"***************Restaurant Menu*******************\")\n",
    "        option1={1:'Water (Rs 20)',2:'Tea (Rs 10)',\n",
    "        3:'Breakfast combo (Rs 90)',4:'Lunch (Rs 110)',\n",
    "        5:'Dinner (Rs 150)',6:'Exit'}\n",
    "        for i,j in option1.items():\n",
    "            print(i,\". \",j)    \n",
    "        op1=0\n",
    "        r_bill =data1[rm]['res_bill']\n",
    "        while op1 <6 and op1!=6:\n",
    "            op1=int(input(\"Enter the choice : \"))\n",
    "            if op1<6:\n",
    "                q = int(input(\"Enter the quantity : \"))\n",
    "                if op1 == 1:\n",
    "                    r_bill += 20*q\n",
    "                if op1 == 2:    \n",
    "                    r_bill += 10*q\n",
    "                if op1 == 3:\n",
    "                    r_bill += 90*q\n",
    "                if op1 == 4:    \n",
    "                    r_bill += 110*q\n",
    "                if op1 == 5:\n",
    "                  r_bill += 150*q\n",
    "            \n",
    "        print(\"Restaurant bill of room no \",rm,\" is Rs \",r_bill)          \n",
    "        data1[rm]['res_bill']= r_bill    \n",
    "        os.remove(file)\n",
    "        f=open(file,'a')\n",
    "        f.write(str(data1))\n",
    "        f.close()          \n",
    "            \n",
    "    else:\n",
    "        print(\"Room is not booked\")    \n",
    "def game_bill():\n",
    "    rm = input(\"Room no  :   \")\n",
    "    file = rm + '.txt'\n",
    "    if os.path.isfile(file) == True:\n",
    "        f=open(file,'r')\n",
    "        data =f.read()\n",
    "        data1=eval(data)\n",
    "        f.close()\n",
    "        print(\"Record found. Customer name : \",data1[rm]['name'])\n",
    "        print(\"***************Game Menu*******************\")\n",
    "        option1={1:'Table Tennis (Rs 60)',2:'Bowling (Rs 80)',\n",
    "        3:'Snooker (Rs 70)',4:'Video games (Rs 90)',\n",
    "        5:'Pool (Rs 50)',6:'Exit'}\n",
    "        for i,j in option1.items():\n",
    "            print(i,\". \",j)    \n",
    "        op1=0\n",
    "        g_bill =data1[rm]['game_bill']\n",
    "        while op1 <6 and op1!=6:\n",
    "            op1=int(input(\"Enter the choice : \"))\n",
    "            if op1<6:\n",
    "                q = int(input(\"No of hours : \"))\n",
    "                if op1 == 1:\n",
    "                    g_bill += 60*q\n",
    "                if op1 == 2:    \n",
    "                    g_bill += 80*q\n",
    "                if op1 == 3:\n",
    "                    g_bill += 70*q\n",
    "                if op1 == 4:    \n",
    "                    g_bill += 90*q\n",
    "                if op1 == 5:\n",
    "                  g_bill += 50*q\n",
    "\n",
    "        print(\"Gaming bill of room no \",rm,\" is Rs \",g_bill)          \n",
    "        data1[rm]['game_bill']= g_bill    \n",
    "        os.remove(file)\n",
    "        f=open(file,'a')\n",
    "        f.write(str(data1))\n",
    "        f.close()          \n",
    "            \n",
    "    else:\n",
    "        print(\"Room is not booked\")    \n",
    "def Total_cost():\n",
    "    rm = input(\"Room no  :   \")\n",
    "    file = rm + '.txt'\n",
    "    if os.path.isfile(file) == True:\n",
    "        f=open(file,'r')\n",
    "        data =f.read()\n",
    "        data1=eval(data)\n",
    "        f.close()\n",
    "        t_bill =data1[rm]['game_bill'] +data1[rm]['laund_bill']+ data1[rm]['res_bill'] + data1[rm]['rm_rent']\n",
    "        gst = 0.18*t_bill\n",
    "        t_bill1 =t_bill + gst\n",
    "        print(\"********************Hotel Bill********************\")\n",
    "        print(\"CUSTOMER DETAILS\")\n",
    "        print(\"Room no : \",rm)\n",
    "        print(\"Customer name : \",data1[rm]['name'])\n",
    "        print(\"Customer address : \",data1[rm]['address'])\n",
    "        print(\"Checking date : \",data1[rm]['Chk_in'])\n",
    "        print(\"Checkout date : \",data1[rm]['chk_out'])\n",
    "        print(\"Room rent : Rs \",data1[rm]['rm_rent'])\n",
    "        print(\"Food bill : Rs \",data1[rm]['res_bill'])\n",
    "        print(\"Laundry bill : Rs \",data1[rm]['laund_bill'])\n",
    "        print(\"Gaming bill : Rs \",data1[rm]['game_bill'])\n",
    "        print(\"Sub total bill : Rs \",t_bill)\n",
    "        print(\"Additional Service charges(18%) : Rs \",gst)\n",
    "        print(\"Grand total bill : Rs \",t_bill1)\n",
    "    else:\n",
    "        print(\"Room is not booked\")     \n",
    "   \n",
    "def services(n):\n",
    "    if n ==1:\n",
    "        customer()             \n",
    "    if n==2:\n",
    "        roomrent()\n",
    "    if n==3:\n",
    "        restaurant_bill()\n",
    "    if n==4:\n",
    "        laundary_bill()\n",
    "    if n==5:\n",
    "        game_bill()\n",
    "    if n==6:\n",
    "        Total_cost()     \n",
    "    if n==7:\n",
    "        exit()\n",
    "    if n>7:\n",
    "        print(\"Please enter the valid option\")\n",
    "        \n",
    "    \n",
    "    c = input(\"Do you want to continue Y or N ? \")\n",
    "    again(c)\n",
    "    \n",
    "def again(a):    \n",
    "    if a.upper()== 'Y':\n",
    "        main()\n",
    "    elif a.upper()== 'N':\n",
    "        exit()\n",
    "    else:\n",
    "        print(\"Please enter the valid option\")\n",
    "        b = input(\"Do you want to continue Y or N ? \")\n",
    "        again(b)\n",
    "        \n",
    "\n",
    "main()\n",
    "\n",
    "\n",
    "\n",
    "\n"
   ]
  },
  {
   "cell_type": "code",
   "execution_count": 4,
   "id": "96d900a7",
   "metadata": {},
   "outputs": [
    {
     "name": "stdout",
     "output_type": "stream",
     "text": [
      "Enter the numbers5 8\n"
     ]
    }
   ],
   "source": [
    "a,b = map(int,input(\"Enter the numbers\").split(\" \"))"
   ]
  },
  {
   "cell_type": "code",
   "execution_count": 5,
   "id": "f66d1028",
   "metadata": {},
   "outputs": [
    {
     "data": {
      "text/plain": [
       "3"
      ]
     },
     "execution_count": 5,
     "metadata": {},
     "output_type": "execute_result"
    }
   ],
   "source": [
    "c.sub(a,b)"
   ]
  },
  {
   "cell_type": "code",
   "execution_count": 6,
   "id": "8c808694",
   "metadata": {},
   "outputs": [],
   "source": [
    "from calci import sqroot,division"
   ]
  },
  {
   "cell_type": "code",
   "execution_count": 8,
   "id": "93658ebf",
   "metadata": {},
   "outputs": [
    {
     "name": "stdout",
     "output_type": "stream",
     "text": [
      "Enter the numbers36 2\n",
      "Square root of 36 is 6.0\n"
     ]
    }
   ],
   "source": [
    "a,b = map(int,input(\"Enter the numbers\").split(\" \"))\n",
    "print(f\"Square root of {a} is {sqroot(a)}\")"
   ]
  },
  {
   "cell_type": "code",
   "execution_count": 9,
   "id": "6aab3a28",
   "metadata": {},
   "outputs": [
    {
     "data": {
      "text/plain": [
       "(18.0, 0, 18)"
      ]
     },
     "execution_count": 9,
     "metadata": {},
     "output_type": "execute_result"
    }
   ],
   "source": [
    "division(a,b)"
   ]
  },
  {
   "cell_type": "code",
   "execution_count": null,
   "id": "b5e31908",
   "metadata": {},
   "outputs": [],
   "source": [
    "division()"
   ]
  },
  {
   "cell_type": "code",
   "execution_count": null,
   "id": "279b104f",
   "metadata": {},
   "outputs": [],
   "source": []
  },
  {
   "cell_type": "code",
   "execution_count": 10,
   "id": "f62724f3",
   "metadata": {},
   "outputs": [],
   "source": [
    "import package.eg.calci as c"
   ]
  },
  {
   "cell_type": "code",
   "execution_count": 1,
   "id": "8bd0db2d",
   "metadata": {},
   "outputs": [
    {
     "ename": "SyntaxError",
     "evalue": "invalid syntax (1195783164.py, line 1)",
     "output_type": "error",
     "traceback": [
      "\u001b[1;36m  Cell \u001b[1;32mIn[1], line 1\u001b[1;36m\u001b[0m\n\u001b[1;33m    c.\u001b[0m\n\u001b[1;37m      ^\u001b[0m\n\u001b[1;31mSyntaxError\u001b[0m\u001b[1;31m:\u001b[0m invalid syntax\n"
     ]
    }
   ],
   "source": [
    "c."
   ]
  },
  {
   "cell_type": "code",
   "execution_count": 9,
   "id": "6bfdb0be",
   "metadata": {},
   "outputs": [
    {
     "ename": "ModuleNotFoundError",
     "evalue": "No module named 'package'",
     "output_type": "error",
     "traceback": [
      "\u001b[1;31m---------------------------------------------------------------------------\u001b[0m",
      "\u001b[1;31mModuleNotFoundError\u001b[0m                       Traceback (most recent call last)",
      "Cell \u001b[1;32mIn[9], line 1\u001b[0m\n\u001b[1;32m----> 1\u001b[0m \u001b[38;5;28;01mimport\u001b[39;00m \u001b[38;5;21;01mpackage\u001b[39;00m\n",
      "\u001b[1;31mModuleNotFoundError\u001b[0m: No module named 'package'"
     ]
    }
   ],
   "source": [
    "import package"
   ]
  },
  {
   "cell_type": "code",
   "execution_count": 6,
   "id": "65c0452c",
   "metadata": {},
   "outputs": [
    {
     "ename": "NameError",
     "evalue": "name 'calci' is not defined",
     "output_type": "error",
     "traceback": [
      "\u001b[1;31m---------------------------------------------------------------------------\u001b[0m",
      "\u001b[1;31mNameError\u001b[0m                                 Traceback (most recent call last)",
      "Cell \u001b[1;32mIn[6], line 1\u001b[0m\n\u001b[1;32m----> 1\u001b[0m calci\u001b[38;5;241m.\u001b[39madd(\u001b[38;5;241m1\u001b[39m,\u001b[38;5;241m7\u001b[39m)\n",
      "\u001b[1;31mNameError\u001b[0m: name 'calci' is not defined"
     ]
    }
   ],
   "source": []
  }
 ],
 "metadata": {
  "kernelspec": {
   "display_name": "Python 3 (ipykernel)",
   "language": "python",
   "name": "python3"
  },
  "language_info": {
   "codemirror_mode": {
    "name": "ipython",
    "version": 3
   },
   "file_extension": ".py",
   "mimetype": "text/x-python",
   "name": "python",
   "nbconvert_exporter": "python",
   "pygments_lexer": "ipython3",
   "version": "3.11.5"
  }
 },
 "nbformat": 4,
 "nbformat_minor": 5
}

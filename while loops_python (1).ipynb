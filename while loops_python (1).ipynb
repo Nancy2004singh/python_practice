{
 "cells": [
  {
   "cell_type": "markdown",
   "id": "91beb2dc",
   "metadata": {},
   "source": [
    "# Control Flow : Python Loops\n",
    "- Python has two primitive loop commands:\n",
    "-  while loops\n",
    "-  for loops"
   ]
  },
  {
   "cell_type": "markdown",
   "id": "039f8de5",
   "metadata": {},
   "source": [
    "<img src=\"whileloop.jpg\">"
   ]
  },
  {
   "cell_type": "markdown",
   "id": "0c01256e",
   "metadata": {},
   "source": [
    "# The while Loop\n",
    "- With the while loop we can execute a set of statements as long as a condition is true.\n",
    "- while (test-expression): body of while"
   ]
  },
  {
   "cell_type": "code",
   "execution_count": null,
   "id": "7ca2902e",
   "metadata": {},
   "outputs": [],
   "source": []
  },
  {
   "cell_type": "code",
   "execution_count": 3,
   "id": "3761c4a4",
   "metadata": {},
   "outputs": [
    {
     "name": "stdout",
     "output_type": "stream",
     "text": [
      "1\n",
      "2\n",
      "3\n",
      "4\n",
      "5\n",
      "6\n",
      "7\n",
      "8\n",
      "9\n",
      "10\n"
     ]
    }
   ],
   "source": [
    "n=1\n",
    "while n<11:\n",
    "    print(n)\n",
    "    n+=1\n",
    "   "
   ]
  },
  {
   "cell_type": "code",
   "execution_count": 4,
   "id": "d12cd82d",
   "metadata": {},
   "outputs": [
    {
     "name": "stdout",
     "output_type": "stream",
     "text": [
      "10\n",
      "9\n",
      "8\n",
      "7\n",
      "6\n",
      "5\n",
      "4\n",
      "3\n",
      "2\n",
      "1\n"
     ]
    }
   ],
   "source": [
    "n=10\n",
    "while n>0:\n",
    "    print(n)\n",
    "    n-=1"
   ]
  },
  {
   "cell_type": "code",
   "execution_count": null,
   "id": "cf434153",
   "metadata": {},
   "outputs": [],
   "source": [
    "#Q - 1 Given a variable n, calculate the sum of first n numbers."
   ]
  },
  {
   "cell_type": "code",
   "execution_count": 6,
   "id": "88fe69f3",
   "metadata": {},
   "outputs": [
    {
     "name": "stdout",
     "output_type": "stream",
     "text": [
      "Enter the number5\n",
      "Sum = 15\n"
     ]
    }
   ],
   "source": [
    "n = int(input(\"Enter the number\"))\n",
    "sum =0\n",
    "while n>0:\n",
    "    sum +=n\n",
    "    n-=1\n",
    "print(\"Sum =\",sum)    "
   ]
  },
  {
   "cell_type": "code",
   "execution_count": null,
   "id": "1cae0b96",
   "metadata": {},
   "outputs": [],
   "source": []
  },
  {
   "cell_type": "markdown",
   "id": "4d3c84da",
   "metadata": {},
   "source": [
    "<h3>Note: remember to increment/decrement i, or else the loop will continue forever.</h3>"
   ]
  },
  {
   "cell_type": "code",
   "execution_count": null,
   "id": "fc2854ed",
   "metadata": {},
   "outputs": [],
   "source": []
  },
  {
   "cell_type": "markdown",
   "id": "d1b5d7c4",
   "metadata": {},
   "source": [
    "# The break Statement\n",
    "With the break statement we can stop the loop even if the while condition is true:"
   ]
  },
  {
   "cell_type": "code",
   "execution_count": 11,
   "id": "48fceff8",
   "metadata": {},
   "outputs": [
    {
     "name": "stdout",
     "output_type": "stream",
     "text": [
      "6\n"
     ]
    }
   ],
   "source": [
    "n=1\n",
    "while n<10:\n",
    "    if n%2==0 and n%3==0:\n",
    "        print(n)   \n",
    "    n+=1"
   ]
  },
  {
   "cell_type": "code",
   "execution_count": 14,
   "id": "b524a1b9",
   "metadata": {},
   "outputs": [
    {
     "name": "stdout",
     "output_type": "stream",
     "text": [
      "20\n"
     ]
    }
   ],
   "source": [
    "lst =[3,4,5,7,1,4]\n",
    "i=0\n",
    "sum=0\n",
    "while i<len(lst):\n",
    "    sum+=lst[i]\n",
    "    if sum==20:\n",
    "        break\n",
    "    i+=1\n",
    "print(sum)    \n"
   ]
  },
  {
   "cell_type": "code",
   "execution_count": null,
   "id": "b436e372",
   "metadata": {},
   "outputs": [],
   "source": []
  },
  {
   "cell_type": "markdown",
   "id": "7d867584",
   "metadata": {},
   "source": [
    "# The continue Statement\n",
    "With the continue statement we can stop the current iteration, and continue with the next:"
   ]
  },
  {
   "cell_type": "code",
   "execution_count": 2,
   "id": "91a257ac",
   "metadata": {},
   "outputs": [
    {
     "name": "stdout",
     "output_type": "stream",
     "text": [
      "8\n",
      "7\n",
      "6\n",
      "5\n",
      "4\n",
      "3\n",
      "1\n",
      "0\n"
     ]
    }
   ],
   "source": [
    "n=9\n",
    "while n>0:\n",
    "    \n",
    "    if n==3:\n",
    "        n-=1\n",
    "        continue\n",
    "    \n",
    "    n-=1\n",
    "    print(n)"
   ]
  },
  {
   "cell_type": "code",
   "execution_count": 2,
   "id": "82180546",
   "metadata": {},
   "outputs": [
    {
     "name": "stdout",
     "output_type": "stream",
     "text": [
      "1\n",
      "2\n",
      "4\n",
      "5\n",
      "6\n"
     ]
    }
   ],
   "source": [
    "i = 0\n",
    "while i < 6:\n",
    "  i += 1\n",
    "  if i == 3:\n",
    "    continue\n",
    "  print(i)"
   ]
  },
  {
   "cell_type": "code",
   "execution_count": null,
   "id": "95d3e701",
   "metadata": {},
   "outputs": [],
   "source": []
  },
  {
   "cell_type": "code",
   "execution_count": null,
   "id": "19c67c31",
   "metadata": {},
   "outputs": [],
   "source": []
  },
  {
   "cell_type": "markdown",
   "id": "88756161",
   "metadata": {},
   "source": [
    "# The else Statement\n",
    "With the else statement we can run a block of code once when the condition no longer is true:"
   ]
  },
  {
   "cell_type": "code",
   "execution_count": null,
   "id": "75b0731e",
   "metadata": {},
   "outputs": [],
   "source": [
    "i = 1\n",
    "while i < 6:\n",
    "  print(i)\n",
    "  i += 1\n",
    "else:    \n",
    "  print(i*2)"
   ]
  },
  {
   "cell_type": "code",
   "execution_count": null,
   "id": "f43e99b5",
   "metadata": {},
   "outputs": [],
   "source": []
  },
  {
   "cell_type": "code",
   "execution_count": null,
   "id": "c3f2f2d8",
   "metadata": {},
   "outputs": [],
   "source": []
  },
  {
   "cell_type": "code",
   "execution_count": null,
   "id": "313a852f",
   "metadata": {},
   "outputs": [],
   "source": []
  },
  {
   "cell_type": "code",
   "execution_count": null,
   "id": "48edb495",
   "metadata": {},
   "outputs": [],
   "source": []
  },
  {
   "cell_type": "code",
   "execution_count": null,
   "id": "b1f1b73d",
   "metadata": {},
   "outputs": [],
   "source": [
    "#Q - 2 Given a variable n, find if n is a prime number or not?(Homework)"
   ]
  },
  {
   "cell_type": "code",
   "execution_count": null,
   "id": "7f3eab32",
   "metadata": {},
   "outputs": [],
   "source": []
  },
  {
   "cell_type": "code",
   "execution_count": null,
   "id": "0fb9ac8b",
   "metadata": {},
   "outputs": [],
   "source": [
    "#Q- 3 Multiplication table of given number"
   ]
  },
  {
   "cell_type": "code",
   "execution_count": null,
   "id": "00ec2f10",
   "metadata": {},
   "outputs": [],
   "source": [
    "n= int(input(\"Enter the number\"))\n",
    "i=1\n",
    "while i<11:\n",
    "    print(f\"{n} x {i}={n*i}\")\n",
    "    i+=1"
   ]
  },
  {
   "cell_type": "code",
   "execution_count": null,
   "id": "e720b081",
   "metadata": {},
   "outputs": [],
   "source": []
  },
  {
   "cell_type": "code",
   "execution_count": 2,
   "id": "1185d9e4",
   "metadata": {},
   "outputs": [],
   "source": [
    "#Q-4 Take 10 integers from keyboard using loop and print their average value on the screen."
   ]
  },
  {
   "cell_type": "code",
   "execution_count": 3,
   "id": "1e502490",
   "metadata": {},
   "outputs": [
    {
     "name": "stdout",
     "output_type": "stream",
     "text": [
      "Enter the number4\n",
      "Enter the number4\n",
      "Enter the number6\n",
      "Enter the number1\n",
      "Enter the number2\n",
      "Enter the number3\n",
      "Enter the number4\n",
      "Enter the number5\n",
      "Enter the number6\n",
      "Enter the number7\n",
      "Average = 4.2\n"
     ]
    }
   ],
   "source": [
    "i=1\n",
    "_sum=0\n",
    "while i<11:\n",
    "    a=int(input(\"Enter the number\"))\n",
    "    _sum+=a\n",
    "    i+=1\n",
    "print(\"Average =\", _sum/10)\n"
   ]
  },
  {
   "cell_type": "markdown",
   "id": "71c0f511",
   "metadata": {},
   "source": [
    "# Python range() Function\n",
    "- Syntax: range(start, stop, step)\n",
    "- The range() function returns a sequence of numbers, starting from 0 by default, and increments by 1 (by default), and stops before a specified number."
   ]
  },
  {
   "cell_type": "code",
   "execution_count": null,
   "id": "b50c2c44",
   "metadata": {},
   "outputs": [],
   "source": []
  },
  {
   "cell_type": "code",
   "execution_count": null,
   "id": "424ee927",
   "metadata": {},
   "outputs": [],
   "source": []
  },
  {
   "cell_type": "code",
   "execution_count": null,
   "id": "47934e13",
   "metadata": {},
   "outputs": [],
   "source": []
  },
  {
   "cell_type": "code",
   "execution_count": null,
   "id": "3e411449",
   "metadata": {},
   "outputs": [],
   "source": []
  }
 ],
 "metadata": {
  "kernelspec": {
   "display_name": "Python 3 (ipykernel)",
   "language": "python",
   "name": "python3"
  },
  "language_info": {
   "codemirror_mode": {
    "name": "ipython",
    "version": 3
   },
   "file_extension": ".py",
   "mimetype": "text/x-python",
   "name": "python",
   "nbconvert_exporter": "python",
   "pygments_lexer": "ipython3",
   "version": "3.11.5"
  }
 },
 "nbformat": 4,
 "nbformat_minor": 5
}

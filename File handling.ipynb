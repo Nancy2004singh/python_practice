{
 "cells": [
  {
   "cell_type": "markdown",
   "id": "e8e6247e",
   "metadata": {},
   "source": [
    "# FILE Handling\n",
    "- File handling is an important part of any web application.\n",
    "\n",
    "- Python has several functions for creating, reading, updating, and deleting files.\n",
    "\n",
    "File operations:\n",
    "\n",
    "- Open a file\n",
    "\n",
    "- Read or write (perform operation)\n",
    "\n",
    "- Close the file\n"
   ]
  },
  {
   "cell_type": "markdown",
   "id": "d31d809d",
   "metadata": {},
   "source": [
    "# Opening a File\n",
    "- Python has a built-in function open() to open a file.\n",
    "- This function returns a file object, also called a file handle, as it is used to read or modify the file accordingly\n",
    "- The open() function takes two parameters; filename, and mode."
   ]
  },
  {
   "cell_type": "code",
   "execution_count": 8,
   "id": "965aa331",
   "metadata": {},
   "outputs": [],
   "source": [
    "f= open(\"test.txt\")"
   ]
  },
  {
   "cell_type": "code",
   "execution_count": 9,
   "id": "d9a8e93a",
   "metadata": {},
   "outputs": [],
   "source": [
    "f1=f.read()"
   ]
  },
  {
   "cell_type": "code",
   "execution_count": 10,
   "id": "7321b968",
   "metadata": {},
   "outputs": [
    {
     "data": {
      "text/plain": [
       "'Hello world.\\nI love python programming.\\nPython is very easy coding languagePython is very easy coding languagePython is very easy coding languagePython is very easy coding languagePython is very easy coding language'"
      ]
     },
     "execution_count": 10,
     "metadata": {},
     "output_type": "execute_result"
    }
   ],
   "source": [
    "f1"
   ]
  },
  {
   "cell_type": "code",
   "execution_count": 11,
   "id": "5fc64853",
   "metadata": {},
   "outputs": [
    {
     "data": {
      "text/plain": [
       "False"
      ]
     },
     "execution_count": 11,
     "metadata": {},
     "output_type": "execute_result"
    }
   ],
   "source": [
    "f.closed"
   ]
  },
  {
   "cell_type": "code",
   "execution_count": 12,
   "id": "4932011c",
   "metadata": {},
   "outputs": [],
   "source": [
    "f.close()"
   ]
  },
  {
   "cell_type": "code",
   "execution_count": 13,
   "id": "65cb2875",
   "metadata": {},
   "outputs": [
    {
     "data": {
      "text/plain": [
       "True"
      ]
     },
     "execution_count": 13,
     "metadata": {},
     "output_type": "execute_result"
    }
   ],
   "source": [
    "f.closed"
   ]
  },
  {
   "cell_type": "markdown",
   "id": "8845dcea",
   "metadata": {},
   "source": [
    "We can specify the mode while opening a file. \n",
    "In mode, we specify whether we want to read 'r', write 'w' or append 'a' to the file. \n",
    "We also specify if we want to open the file in text mode or binary mode.\n",
    "\n",
    "There are 2 types of Files:\n",
    "\n",
    "- Text Files\n",
    "- Binary Files\n",
    "\n"
   ]
  },
  {
   "cell_type": "markdown",
   "id": "a639df87",
   "metadata": {},
   "source": [
    "# Python File Modes\n",
    "\"x\" - Create - will create a file, returns an error if the file exist\n",
    "\n",
    "'r' Open a file for reading. (default)\n",
    "\n",
    "'w' Open a file for writing. Creates a new file if it does not exist or truncates the file if it exists.\n",
    "\n",
    "'a' Open for appending at the end of the file without truncating it. Creates a new file if it does not exist.\n",
    "\n",
    " r+:  To read and write data into the file. The previous data in the file will be overridden.\n",
    " \n",
    " w+: To write and read data. It will override existing data.\n",
    " \n",
    " a+: To append and read data from the file. It won’t override existing data.\n",
    " \n",
    "'t' Open in text mode. (default)\n",
    "'b' Open in binary mode.\n"
   ]
  },
  {
   "cell_type": "code",
   "execution_count": 15,
   "id": "feb36e77",
   "metadata": {},
   "outputs": [],
   "source": [
    "f = open(\"file.txt\",'w')"
   ]
  },
  {
   "cell_type": "code",
   "execution_count": 16,
   "id": "ee48366b",
   "metadata": {},
   "outputs": [
    {
     "data": {
      "text/plain": [
       "14"
      ]
     },
     "execution_count": 16,
     "metadata": {},
     "output_type": "execute_result"
    }
   ],
   "source": [
    "f.write(\"Hello Everyone\")"
   ]
  },
  {
   "cell_type": "code",
   "execution_count": 17,
   "id": "527dee6c",
   "metadata": {},
   "outputs": [],
   "source": [
    "f.close()"
   ]
  },
  {
   "cell_type": "code",
   "execution_count": 52,
   "id": "c43e3fb0",
   "metadata": {},
   "outputs": [],
   "source": [
    "f = open(\"file.txt\",'a')"
   ]
  },
  {
   "cell_type": "code",
   "execution_count": 53,
   "id": "0fd5975d",
   "metadata": {},
   "outputs": [
    {
     "data": {
      "text/plain": [
       "46"
      ]
     },
     "execution_count": 53,
     "metadata": {},
     "output_type": "execute_result"
    }
   ],
   "source": [
    "f.write(\"I love coding. \\n Python is very easy to learn \")"
   ]
  },
  {
   "cell_type": "code",
   "execution_count": 54,
   "id": "c031595b",
   "metadata": {},
   "outputs": [],
   "source": [
    "f.close()"
   ]
  },
  {
   "cell_type": "code",
   "execution_count": 25,
   "id": "d29eb75b",
   "metadata": {},
   "outputs": [],
   "source": [
    "f=  open(\"file.txt\")"
   ]
  },
  {
   "cell_type": "code",
   "execution_count": 26,
   "id": "e91f9932",
   "metadata": {},
   "outputs": [
    {
     "data": {
      "text/plain": [
       "'Hello EveryoneI love coding. /n Python is very easy to learn '"
      ]
     },
     "execution_count": 26,
     "metadata": {},
     "output_type": "execute_result"
    }
   ],
   "source": [
    "f.read()"
   ]
  },
  {
   "cell_type": "code",
   "execution_count": 27,
   "id": "f5a6cd12",
   "metadata": {},
   "outputs": [],
   "source": [
    "f.close()"
   ]
  },
  {
   "cell_type": "markdown",
   "id": "da0eeb1c",
   "metadata": {},
   "source": [
    "# Closing a File\n",
    "Closing a file will free up the resources that were tied with the file and is done using the close() method.\n",
    "\n",
    "Python has a garbage collector to clean up unreferenced objects but, we must not rely on it to close the file.\n",
    "Note: You should always close your files, in some cases, due to buffering, changes made to a file may not show until you close the file."
   ]
  },
  {
   "cell_type": "code",
   "execution_count": null,
   "id": "d988819e",
   "metadata": {},
   "outputs": [],
   "source": []
  },
  {
   "cell_type": "code",
   "execution_count": null,
   "id": "a023d507",
   "metadata": {},
   "outputs": [],
   "source": []
  },
  {
   "cell_type": "code",
   "execution_count": null,
   "id": "c8a57c8b",
   "metadata": {},
   "outputs": [],
   "source": []
  },
  {
   "cell_type": "markdown",
   "id": "0daee487",
   "metadata": {},
   "source": [
    "# Context Managers ( with )\n",
    "- In Python, deallocation of resources can be achieved by the usage of context managers which facilitate the             proper handling of resources. \n",
    "\n",
    "- The most common way of performing file operations is by using the with keyword."
   ]
  },
  {
   "cell_type": "code",
   "execution_count": 33,
   "id": "a0df757f",
   "metadata": {},
   "outputs": [
    {
     "name": "stdout",
     "output_type": "stream",
     "text": [
      "Hello EveryoneI love coding. /n Python is very easy to learn File handling in pythonFile handling in pythonFile handling in python\n"
     ]
    }
   ],
   "source": [
    "with open(\"file.txt\",'r+') as f:\n",
    "    print(f.read())\n",
    "    f.write(\"File handling in python\")\n",
    "     "
   ]
  },
  {
   "cell_type": "code",
   "execution_count": 34,
   "id": "dbd03b6a",
   "metadata": {},
   "outputs": [
    {
     "data": {
      "text/plain": [
       "True"
      ]
     },
     "execution_count": 34,
     "metadata": {},
     "output_type": "execute_result"
    }
   ],
   "source": [
    "f.closed"
   ]
  },
  {
   "cell_type": "code",
   "execution_count": 35,
   "id": "d1fd3503",
   "metadata": {},
   "outputs": [],
   "source": [
    "with open(\"file.txt\",'r+') as f:\n",
    "    f.write(\"File handling in python\")"
   ]
  },
  {
   "cell_type": "markdown",
   "id": "b7918ef8",
   "metadata": {},
   "source": [
    "# Writing to a file\n",
    "- In order to write some content to a file, we need to open file in 'w' or 'a' mode.\n",
    "- writing a string or sequence of bytes can be done using write()\n",
    "- Returns the number of characters written\n",
    "- file.writelines(list)"
   ]
  },
  {
   "cell_type": "code",
   "execution_count": 36,
   "id": "f07a1535",
   "metadata": {},
   "outputs": [],
   "source": [
    "with open(\"file.txt\",'w') as f:\n",
    "    f.write(\"File handling\")"
   ]
  },
  {
   "cell_type": "code",
   "execution_count": 37,
   "id": "291707ab",
   "metadata": {},
   "outputs": [],
   "source": [
    "with open(\"handling.txt\",'w+') as f:\n",
    "    f.write(\"python File handling\")"
   ]
  },
  {
   "cell_type": "code",
   "execution_count": 44,
   "id": "ec93c6b7",
   "metadata": {},
   "outputs": [
    {
     "name": "stdout",
     "output_type": "stream",
     "text": [
      "b'File handling'\n"
     ]
    }
   ],
   "source": [
    "with open(\"file.txt\",'rb') as f:\n",
    "    print(f.read())"
   ]
  },
  {
   "cell_type": "code",
   "execution_count": 50,
   "id": "23ec3bfc",
   "metadata": {},
   "outputs": [],
   "source": [
    "with open(\"file.txt\",'w') as f:\n",
    "    f.writelines(['My name is pooja.','\\nI am python trainer'])"
   ]
  },
  {
   "cell_type": "code",
   "execution_count": 51,
   "id": "719b1823",
   "metadata": {},
   "outputs": [
    {
     "name": "stdout",
     "output_type": "stream",
     "text": [
      "My name is pooja.\n",
      "I am python trainer\n"
     ]
    }
   ],
   "source": [
    "with open(\"file.txt\") as f:\n",
    "    print(f.read())"
   ]
  },
  {
   "cell_type": "code",
   "execution_count": null,
   "id": "0ed5db69",
   "metadata": {},
   "outputs": [],
   "source": []
  },
  {
   "cell_type": "code",
   "execution_count": null,
   "id": "789e023f",
   "metadata": {},
   "outputs": [],
   "source": []
  },
  {
   "cell_type": "code",
   "execution_count": null,
   "id": "1bf598c8",
   "metadata": {},
   "outputs": [],
   "source": []
  },
  {
   "cell_type": "markdown",
   "id": "5831fa84",
   "metadata": {},
   "source": [
    "Note: the \"w\" method will overwrite the entire file."
   ]
  },
  {
   "cell_type": "markdown",
   "id": "dad3eb6b",
   "metadata": {},
   "source": [
    "# Reading from a file\n",
    "- You can read the content from a file using a method called read() or readlines()."
   ]
  },
  {
   "cell_type": "markdown",
   "id": "03968638",
   "metadata": {},
   "source": [
    "Return the 5 first characters of the file:"
   ]
  },
  {
   "cell_type": "code",
   "execution_count": 58,
   "id": "b81278c5",
   "metadata": {},
   "outputs": [
    {
     "name": "stdout",
     "output_type": "stream",
     "text": [
      "Hello\n"
     ]
    }
   ],
   "source": [
    "with open(\"test.txt\") as f:\n",
    "    print(f.read(5))"
   ]
  },
  {
   "cell_type": "code",
   "execution_count": null,
   "id": "a5f6673b",
   "metadata": {},
   "outputs": [],
   "source": []
  },
  {
   "cell_type": "markdown",
   "id": "931cf013",
   "metadata": {},
   "source": [
    "Read one line of the file:readline()"
   ]
  },
  {
   "cell_type": "code",
   "execution_count": 59,
   "id": "8db5b997",
   "metadata": {},
   "outputs": [
    {
     "name": "stdout",
     "output_type": "stream",
     "text": [
      "My name is pooja.\n",
      "\n"
     ]
    }
   ],
   "source": [
    "with open(\"file.txt\") as f:\n",
    "    print(f.readline())"
   ]
  },
  {
   "cell_type": "code",
   "execution_count": null,
   "id": "de733f75",
   "metadata": {},
   "outputs": [],
   "source": []
  },
  {
   "cell_type": "markdown",
   "id": "3b5d6417",
   "metadata": {},
   "source": [
    "By looping through the lines of the file, you can read the whole file, line by line:"
   ]
  },
  {
   "cell_type": "code",
   "execution_count": 60,
   "id": "cbe9cddf",
   "metadata": {},
   "outputs": [
    {
     "name": "stdout",
     "output_type": "stream",
     "text": [
      "My name is pooja.\n",
      "I am python trainerI love coding. \n",
      " Python is very easy to learn "
     ]
    }
   ],
   "source": [
    "with open(\"file.txt\") as f:\n",
    "    for i in f.readlines():\n",
    "        print(i,end=\"\")"
   ]
  },
  {
   "cell_type": "code",
   "execution_count": 61,
   "id": "dac886ab",
   "metadata": {},
   "outputs": [
    {
     "name": "stdout",
     "output_type": "stream",
     "text": [
      "Hello world.\n",
      "I love python programming.\n",
      "Python is very easy coding languagePython is very easy coding languagePython is very easy coding languagePython is very easy coding languagePython is very easy coding language"
     ]
    }
   ],
   "source": [
    "with open(\"test.txt\") as f:\n",
    "    for i in f:\n",
    "        print(i,end=\"\")"
   ]
  },
  {
   "cell_type": "code",
   "execution_count": null,
   "id": "2987720e",
   "metadata": {},
   "outputs": [],
   "source": []
  },
  {
   "cell_type": "markdown",
   "id": "ed5171de",
   "metadata": {},
   "source": [
    "# The file handle\n",
    "\n",
    "- You can know the position of file handle with tell()\n",
    "- You can change the position of file handle as well, seek(index)."
   ]
  },
  {
   "cell_type": "code",
   "execution_count": 66,
   "id": "5bbd06b0",
   "metadata": {},
   "outputs": [
    {
     "name": "stdout",
     "output_type": "stream",
     "text": [
      "Hello world\n",
      "11\n",
      ".\n",
      "I love python programming.\n",
      "Python is very easy coding languagePython is very easy coding languagePython is very easy coding languagePython is very easy coding languagePython is very easy coding language\n"
     ]
    }
   ],
   "source": [
    "with open(\"test.txt\") as f:\n",
    "    print(f.read(11))\n",
    "    print(f.tell())\n",
    "    print(f.read())"
   ]
  },
  {
   "cell_type": "code",
   "execution_count": 67,
   "id": "ace3b88f",
   "metadata": {},
   "outputs": [
    {
     "name": "stdout",
     "output_type": "stream",
     "text": [
      "Hello world\n",
      "11\n",
      ".\n",
      "I love python programming.\n",
      "Python is very easy coding languagePython is very easy coding languagePython is very easy coding languagePython is very easy coding languagePython is very easy coding language\n",
      "217\n",
      "5\n",
      " world.\n",
      "I love python programming.\n",
      "Python is very easy coding languagePython is very easy coding languagePython is very easy coding languagePython is very easy coding languagePython is very easy coding language\n"
     ]
    }
   ],
   "source": [
    "with open(\"test.txt\") as f:\n",
    "    print(f.read(11))\n",
    "    print(f.tell())\n",
    "    print(f.read())\n",
    "    print(f.tell())\n",
    "    print(f.seek(5))\n",
    "    print(f.read())"
   ]
  },
  {
   "cell_type": "code",
   "execution_count": null,
   "id": "34c5411d",
   "metadata": {},
   "outputs": [],
   "source": []
  },
  {
   "cell_type": "code",
   "execution_count": null,
   "id": "5d071929",
   "metadata": {},
   "outputs": [],
   "source": []
  },
  {
   "cell_type": "code",
   "execution_count": null,
   "id": "e16b10d5",
   "metadata": {},
   "outputs": [],
   "source": []
  },
  {
   "cell_type": "markdown",
   "id": "151415a5",
   "metadata": {},
   "source": [
    "# Delete a File\n",
    "To delete a file, you must import the OS module, and run its os.remove() function:"
   ]
  },
  {
   "cell_type": "code",
   "execution_count": 68,
   "id": "1305943d",
   "metadata": {},
   "outputs": [],
   "source": [
    "import os"
   ]
  },
  {
   "cell_type": "code",
   "execution_count": 69,
   "id": "684672ec",
   "metadata": {},
   "outputs": [],
   "source": [
    "os.remove(\"file.txt\")"
   ]
  },
  {
   "cell_type": "code",
   "execution_count": 27,
   "id": "2c153c22",
   "metadata": {},
   "outputs": [],
   "source": []
  },
  {
   "cell_type": "code",
   "execution_count": null,
   "id": "f8398fa2",
   "metadata": {},
   "outputs": [],
   "source": [
    "# Rename the file, using os.rename()"
   ]
  },
  {
   "cell_type": "code",
   "execution_count": 70,
   "id": "390334b1",
   "metadata": {},
   "outputs": [],
   "source": [
    "os.rename(\"test.txt\",\"file.txt\")"
   ]
  },
  {
   "cell_type": "code",
   "execution_count": null,
   "id": "569fec3a",
   "metadata": {},
   "outputs": [],
   "source": []
  },
  {
   "cell_type": "markdown",
   "id": "b8d3e5c7",
   "metadata": {},
   "source": [
    "# Check if File exist:\n",
    "To avoid getting an error, you might want to check if the file exists before you try to delete it:\n"
   ]
  },
  {
   "cell_type": "code",
   "execution_count": 71,
   "id": "fe7b41c9",
   "metadata": {},
   "outputs": [],
   "source": [
    "#Check if file exists, then delete it:\n",
    "\n",
    "if os.path.exists(\"test.txt\"):\n",
    "    with open(\"test.txt\") as f:\n",
    "        print(f.read())\n"
   ]
  },
  {
   "cell_type": "code",
   "execution_count": 72,
   "id": "43a93a3a",
   "metadata": {},
   "outputs": [
    {
     "ename": "FileNotFoundError",
     "evalue": "[Errno 2] No such file or directory: 'test.txt'",
     "output_type": "error",
     "traceback": [
      "\u001b[1;31m---------------------------------------------------------------------------\u001b[0m",
      "\u001b[1;31mFileNotFoundError\u001b[0m                         Traceback (most recent call last)",
      "Cell \u001b[1;32mIn[72], line 1\u001b[0m\n\u001b[1;32m----> 1\u001b[0m \u001b[38;5;28;01mwith\u001b[39;00m \u001b[38;5;28mopen\u001b[39m(\u001b[38;5;124m\"\u001b[39m\u001b[38;5;124mtest.txt\u001b[39m\u001b[38;5;124m\"\u001b[39m) \u001b[38;5;28;01mas\u001b[39;00m f:\n\u001b[0;32m      2\u001b[0m     \u001b[38;5;28mprint\u001b[39m(f\u001b[38;5;241m.\u001b[39mread())\n",
      "File \u001b[1;32m~\\anaconda3\\Lib\\site-packages\\IPython\\core\\interactiveshell.py:286\u001b[0m, in \u001b[0;36m_modified_open\u001b[1;34m(file, *args, **kwargs)\u001b[0m\n\u001b[0;32m    279\u001b[0m \u001b[38;5;28;01mif\u001b[39;00m file \u001b[38;5;129;01min\u001b[39;00m {\u001b[38;5;241m0\u001b[39m, \u001b[38;5;241m1\u001b[39m, \u001b[38;5;241m2\u001b[39m}:\n\u001b[0;32m    280\u001b[0m     \u001b[38;5;28;01mraise\u001b[39;00m \u001b[38;5;167;01mValueError\u001b[39;00m(\n\u001b[0;32m    281\u001b[0m         \u001b[38;5;124mf\u001b[39m\u001b[38;5;124m\"\u001b[39m\u001b[38;5;124mIPython won\u001b[39m\u001b[38;5;124m'\u001b[39m\u001b[38;5;124mt let you open fd=\u001b[39m\u001b[38;5;132;01m{\u001b[39;00mfile\u001b[38;5;132;01m}\u001b[39;00m\u001b[38;5;124m by default \u001b[39m\u001b[38;5;124m\"\u001b[39m\n\u001b[0;32m    282\u001b[0m         \u001b[38;5;124m\"\u001b[39m\u001b[38;5;124mas it is likely to crash IPython. If you know what you are doing, \u001b[39m\u001b[38;5;124m\"\u001b[39m\n\u001b[0;32m    283\u001b[0m         \u001b[38;5;124m\"\u001b[39m\u001b[38;5;124myou can use builtins\u001b[39m\u001b[38;5;124m'\u001b[39m\u001b[38;5;124m open.\u001b[39m\u001b[38;5;124m\"\u001b[39m\n\u001b[0;32m    284\u001b[0m     )\n\u001b[1;32m--> 286\u001b[0m \u001b[38;5;28;01mreturn\u001b[39;00m io_open(file, \u001b[38;5;241m*\u001b[39margs, \u001b[38;5;241m*\u001b[39m\u001b[38;5;241m*\u001b[39mkwargs)\n",
      "\u001b[1;31mFileNotFoundError\u001b[0m: [Errno 2] No such file or directory: 'test.txt'"
     ]
    }
   ],
   "source": [
    "with open(\"test.txt\") as f:\n",
    "    print(f.read())"
   ]
  },
  {
   "cell_type": "code",
   "execution_count": 73,
   "id": "fe7723ab",
   "metadata": {},
   "outputs": [
    {
     "name": "stdout",
     "output_type": "stream",
     "text": [
      "Hello world.\n",
      "I love python programming.\n",
      "Python is very easy coding languagePython is very easy coding languagePython is very easy coding languagePython is very easy coding languagePython is very easy coding language\n"
     ]
    }
   ],
   "source": [
    "if os.path.exists(\"file.txt\"):\n",
    "    with open(\"file.txt\") as f:\n",
    "        print(f.read())"
   ]
  },
  {
   "cell_type": "code",
   "execution_count": 74,
   "id": "02c76c34",
   "metadata": {},
   "outputs": [
    {
     "name": "stdout",
     "output_type": "stream",
     "text": [
      "Does not exist\n"
     ]
    }
   ],
   "source": [
    "if os.path.exists(\"test.txt\"):\n",
    "    os.remove(\"test.txt\")\n",
    "else:\n",
    "    print(\"Does not exist\")"
   ]
  },
  {
   "cell_type": "markdown",
   "id": "1e997e15",
   "metadata": {},
   "source": [
    "https://csiplearninghub.com/python-file-handling-practice-questions/"
   ]
  },
  {
   "cell_type": "markdown",
   "id": "b40fc862",
   "metadata": {},
   "source": [
    "https://simplycoding.in/questions-on-text-file-handling-in-python/"
   ]
  },
  {
   "cell_type": "code",
   "execution_count": null,
   "id": "412457ec",
   "metadata": {},
   "outputs": [],
   "source": []
  }
 ],
 "metadata": {
  "kernelspec": {
   "display_name": "Python 3 (ipykernel)",
   "language": "python",
   "name": "python3"
  },
  "language_info": {
   "codemirror_mode": {
    "name": "ipython",
    "version": 3
   },
   "file_extension": ".py",
   "mimetype": "text/x-python",
   "name": "python",
   "nbconvert_exporter": "python",
   "pygments_lexer": "ipython3",
   "version": "3.11.5"
  }
 },
 "nbformat": 4,
 "nbformat_minor": 5
}

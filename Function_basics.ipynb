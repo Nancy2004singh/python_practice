{
 "cells": [
  {
   "cell_type": "code",
   "execution_count": null,
   "id": "b244ee3a",
   "metadata": {},
   "outputs": [],
   "source": [
    "#Function\n",
    "#Inbuilt\n",
    "#User defined function"
   ]
  },
  {
   "cell_type": "code",
   "execution_count": null,
   "id": "f3354945",
   "metadata": {},
   "outputs": [],
   "source": [
    "print()\n",
    "input()\n",
    "map()\n",
    "type()\n",
    "len()\n",
    "min()\n",
    "max()\n",
    "sum()\n",
    "range()\n",
    "round()"
   ]
  },
  {
   "cell_type": "code",
   "execution_count": 2,
   "id": "5e5f4424",
   "metadata": {},
   "outputs": [
    {
     "data": {
      "text/plain": [
       "10.22"
      ]
     },
     "execution_count": 2,
     "metadata": {},
     "output_type": "execute_result"
    }
   ],
   "source": [
    "a=10.21999\n",
    "round(a,2)"
   ]
  },
  {
   "cell_type": "code",
   "execution_count": 23,
   "id": "5efab990",
   "metadata": {},
   "outputs": [
    {
     "name": "stdout",
     "output_type": "stream",
     "text": [
      "My first function\n"
     ]
    }
   ],
   "source": [
    "def prnt():\n",
    "    print(\"My first function\")\n",
    "    \n",
    "prnt()"
   ]
  },
  {
   "cell_type": "code",
   "execution_count": 5,
   "id": "f32977d6",
   "metadata": {},
   "outputs": [],
   "source": [
    "def my_func(n):\n",
    "    print(f\"Hello {n}\")"
   ]
  },
  {
   "cell_type": "code",
   "execution_count": 8,
   "id": "53690361",
   "metadata": {},
   "outputs": [
    {
     "name": "stdout",
     "output_type": "stream",
     "text": [
      "Hello 8\n"
     ]
    }
   ],
   "source": [
    "my_func(8)"
   ]
  },
  {
   "cell_type": "code",
   "execution_count": 11,
   "id": "81be400e",
   "metadata": {},
   "outputs": [],
   "source": [
    "def calci(a):\n",
    "    '''Calculating the square of a number'''\n",
    "    print(f\"Square of {a} = {a**2} \")"
   ]
  },
  {
   "cell_type": "code",
   "execution_count": 12,
   "id": "89999e09",
   "metadata": {},
   "outputs": [
    {
     "name": "stdout",
     "output_type": "stream",
     "text": [
      "Enter the number6\n",
      "Square of 6 = 36 \n"
     ]
    }
   ],
   "source": [
    "n= int(input(\"Enter the number\"))\n",
    "calci(n)"
   ]
  },
  {
   "cell_type": "code",
   "execution_count": 13,
   "id": "8cb6f209",
   "metadata": {},
   "outputs": [
    {
     "name": "stdout",
     "output_type": "stream",
     "text": [
      "Calculating the square of a number\n"
     ]
    }
   ],
   "source": [
    "print(calci.__doc__)"
   ]
  },
  {
   "cell_type": "code",
   "execution_count": 20,
   "id": "a9e53c7a",
   "metadata": {},
   "outputs": [],
   "source": [
    "def calculator(a,b,o):\n",
    "    if o == '+':\n",
    "        print(a+b)\n",
    "    elif o== '*':\n",
    "        print(a*b)\n",
    "    else:\n",
    "        print(\"Pass the valid operator\")\n",
    "    "
   ]
  },
  {
   "cell_type": "code",
   "execution_count": 22,
   "id": "f0bf9db1",
   "metadata": {},
   "outputs": [
    {
     "name": "stdout",
     "output_type": "stream",
     "text": [
      "Enter the numbers5 6\n",
      "Enter the operator+\n",
      "11\n"
     ]
    }
   ],
   "source": [
    "a,b = map(int,input(\"Enter the numbers\").split(\" \"))\n",
    "c= input(\"Enter the operator\")\n",
    "calculator(a,b,c)"
   ]
  },
  {
   "cell_type": "code",
   "execution_count": 19,
   "id": "95d6bd32",
   "metadata": {},
   "outputs": [
    {
     "name": "stdout",
     "output_type": "stream",
     "text": [
      "5\n"
     ]
    }
   ],
   "source": [
    "calculator(2,3,'+')"
   ]
  },
  {
   "cell_type": "code",
   "execution_count": 24,
   "id": "eeedca94",
   "metadata": {},
   "outputs": [],
   "source": [
    "def sqr(a):\n",
    "    '''Calculating the square of a number'''\n",
    "    return a**2"
   ]
  },
  {
   "cell_type": "code",
   "execution_count": 27,
   "id": "bbf6cd39",
   "metadata": {},
   "outputs": [
    {
     "name": "stdout",
     "output_type": "stream",
     "text": [
      "100\n"
     ]
    }
   ],
   "source": [
    "c =sqr(10)\n",
    "print(c)"
   ]
  },
  {
   "cell_type": "code",
   "execution_count": 28,
   "id": "030f14e0",
   "metadata": {},
   "outputs": [],
   "source": [
    "def rect():\n",
    "    l,b = map(int,input(\"enter the length and width of rectangle\").split(\" \"))\n",
    "    return l*b\n",
    "    "
   ]
  },
  {
   "cell_type": "code",
   "execution_count": 29,
   "id": "95da9376",
   "metadata": {},
   "outputs": [
    {
     "name": "stdout",
     "output_type": "stream",
     "text": [
      "enter the length and width of rectangle6 3\n"
     ]
    }
   ],
   "source": [
    "Area=rect()"
   ]
  },
  {
   "cell_type": "code",
   "execution_count": 30,
   "id": "80773df0",
   "metadata": {},
   "outputs": [
    {
     "name": "stdout",
     "output_type": "stream",
     "text": [
      "18\n"
     ]
    }
   ],
   "source": [
    "print(Area)"
   ]
  },
  {
   "cell_type": "code",
   "execution_count": 33,
   "id": "82dead64",
   "metadata": {},
   "outputs": [
    {
     "name": "stdout",
     "output_type": "stream",
     "text": [
      "enter the length and width of rectangle5 7\n",
      "Area of rectangle=  35\n"
     ]
    }
   ],
   "source": [
    "print(\"Area of rectangle= \",rect())"
   ]
  },
  {
   "cell_type": "code",
   "execution_count": 34,
   "id": "3736b460",
   "metadata": {},
   "outputs": [],
   "source": [
    "def fact(n):\n",
    "    f =1\n",
    "    for i in range(n,0,-1):\n",
    "        f*=i\n",
    "    return f    "
   ]
  },
  {
   "cell_type": "code",
   "execution_count": 36,
   "id": "d9091777",
   "metadata": {},
   "outputs": [
    {
     "name": "stdout",
     "output_type": "stream",
     "text": [
      "Enter the number7\n",
      "5040\n"
     ]
    }
   ],
   "source": [
    "a = int(input(\"Enter the number\"))\n",
    "x=fact(a)\n",
    "print(x)"
   ]
  },
  {
   "cell_type": "code",
   "execution_count": 1,
   "id": "1f702125",
   "metadata": {},
   "outputs": [],
   "source": [
    "def lst_sum(n):\n",
    "    sum=0\n",
    "    for i in n:\n",
    "        sum+=i\n",
    "    return sum    \n",
    "        "
   ]
  },
  {
   "cell_type": "code",
   "execution_count": 4,
   "id": "e48320cf",
   "metadata": {},
   "outputs": [
    {
     "name": "stdout",
     "output_type": "stream",
     "text": [
      "Enter the numbers1 2 3 4 5\n"
     ]
    }
   ],
   "source": [
    "lst=list(map(int,input(\"Enter the numbers\").split(\" \")))"
   ]
  },
  {
   "cell_type": "code",
   "execution_count": 5,
   "id": "67f36206",
   "metadata": {},
   "outputs": [
    {
     "data": {
      "text/plain": [
       "15"
      ]
     },
     "execution_count": 5,
     "metadata": {},
     "output_type": "execute_result"
    }
   ],
   "source": [
    "lst_sum(lst)"
   ]
  },
  {
   "cell_type": "code",
   "execution_count": 53,
   "id": "d3ffc682",
   "metadata": {},
   "outputs": [],
   "source": [
    "def emp(_id,age=7,name=\"pooja\"):\n",
    "    '''Employee details'''\n",
    "    print(f\"Hello {name}!.Your age and id is {age}years and {_id}.\")"
   ]
  },
  {
   "cell_type": "code",
   "execution_count": 54,
   "id": "fc51d4ed",
   "metadata": {},
   "outputs": [
    {
     "name": "stdout",
     "output_type": "stream",
     "text": [
      "Hello pooja!.Your age and id is 7years and 6\n"
     ]
    }
   ],
   "source": [
    "emp(6)"
   ]
  },
  {
   "cell_type": "code",
   "execution_count": 48,
   "id": "23031edb",
   "metadata": {},
   "outputs": [],
   "source": [
    "def emp1(age,_id,name):\n",
    "    '''Employee details'''\n",
    "    print(f\"Hello {name}!.Your age and id is {age} and {_id}\")"
   ]
  },
  {
   "cell_type": "code",
   "execution_count": 49,
   "id": "252101b0",
   "metadata": {},
   "outputs": [
    {
     "name": "stdout",
     "output_type": "stream",
     "text": [
      "Hello Nancy!.Your age and id is 21 and 3\n"
     ]
    }
   ],
   "source": [
    "emp1(_id=3,name=\"Nancy\",age=21)"
   ]
  },
  {
   "cell_type": "code",
   "execution_count": 64,
   "id": "e88eef9d",
   "metadata": {},
   "outputs": [
    {
     "name": "stdout",
     "output_type": "stream",
     "text": [
      "Enter the numbers7 8\n"
     ]
    }
   ],
   "source": [
    "a,b = map(int,input(\"Enter the numbers\").split())\n",
    "\n"
   ]
  },
  {
   "cell_type": "code",
   "execution_count": 60,
   "id": "9b7c9848",
   "metadata": {},
   "outputs": [],
   "source": [
    "c=a\n",
    "a=b\n",
    "b=c"
   ]
  },
  {
   "cell_type": "code",
   "execution_count": 65,
   "id": "f49a54e8",
   "metadata": {},
   "outputs": [],
   "source": [
    "a,b = b,a"
   ]
  },
  {
   "cell_type": "code",
   "execution_count": 67,
   "id": "27e3f10c",
   "metadata": {},
   "outputs": [
    {
     "data": {
      "text/plain": [
       "7"
      ]
     },
     "execution_count": 67,
     "metadata": {},
     "output_type": "execute_result"
    }
   ],
   "source": [
    "b"
   ]
  },
  {
   "cell_type": "code",
   "execution_count": 68,
   "id": "9bc9c7f9",
   "metadata": {},
   "outputs": [],
   "source": [
    "def swap(a,b):\n",
    "    print(f\"Original values of a and b are {a} and {b}\")\n",
    "    a,b= b,a\n",
    "    print(f\"New values of a and b are {a} and {b}\")"
   ]
  },
  {
   "cell_type": "code",
   "execution_count": 69,
   "id": "b08e4520",
   "metadata": {},
   "outputs": [
    {
     "name": "stdout",
     "output_type": "stream",
     "text": [
      "Enter the numbers10 6\n",
      "Original values of a and b are 10 and 6\n",
      "New values of a and b are 6 and 10\n"
     ]
    }
   ],
   "source": [
    "a,b = map(int,input(\"Enter the numbers\").split())\n",
    "swap(a,b)"
   ]
  },
  {
   "cell_type": "code",
   "execution_count": null,
   "id": "7657d8cd",
   "metadata": {},
   "outputs": [],
   "source": []
  }
 ],
 "metadata": {
  "kernelspec": {
   "display_name": "Python 3 (ipykernel)",
   "language": "python",
   "name": "python3"
  },
  "language_info": {
   "codemirror_mode": {
    "name": "ipython",
    "version": 3
   },
   "file_extension": ".py",
   "mimetype": "text/x-python",
   "name": "python",
   "nbconvert_exporter": "python",
   "pygments_lexer": "ipython3",
   "version": "3.11.5"
  }
 },
 "nbformat": 4,
 "nbformat_minor": 5
}

{
 "cells": [
  {
   "cell_type": "markdown",
   "id": "6c8bae5e",
   "metadata": {},
   "source": [
    "# Python If ... Else"
   ]
  },
  {
   "cell_type": "markdown",
   "id": "9488e501",
   "metadata": {},
   "source": [
    "<img src=\"if_else_flowchart.jpg\" width=300>\n"
   ]
  },
  {
   "cell_type": "markdown",
   "id": "6c05868a",
   "metadata": {},
   "source": [
    "# Python Conditions and If statements\n",
    "- Python supports the usual logical conditions from mathematics:\n",
    "\n",
    "- Equals: a == b\n",
    "- Not Equals: a != b\n",
    "- Less than: a < b\n",
    "- Less than or equal to: a <= b\n",
    "- Greater than: a > b\n",
    "- Greater than or equal to: a >= b"
   ]
  },
  {
   "cell_type": "code",
   "execution_count": 3,
   "id": "3bac6622",
   "metadata": {},
   "outputs": [
    {
     "name": "stdout",
     "output_type": "stream",
     "text": [
      "enter the numbers 6 4\n",
      "a is greater than b\n"
     ]
    }
   ],
   "source": [
    "a,b=map(int,input(\"enter the numbers \").split(\" \"))\n",
    "if a>b:\n",
    "    print(\"a is greater than b\")\n",
    "\n",
    "    "
   ]
  },
  {
   "cell_type": "code",
   "execution_count": null,
   "id": "4ddc150a",
   "metadata": {},
   "outputs": [],
   "source": []
  },
  {
   "cell_type": "code",
   "execution_count": null,
   "id": "78697204",
   "metadata": {},
   "outputs": [],
   "source": []
  },
  {
   "cell_type": "code",
   "execution_count": null,
   "id": "14a5c8b8",
   "metadata": {},
   "outputs": [],
   "source": []
  },
  {
   "cell_type": "code",
   "execution_count": null,
   "id": "7e5c26f1",
   "metadata": {},
   "outputs": [],
   "source": []
  },
  {
   "cell_type": "markdown",
   "id": "ad617081",
   "metadata": {},
   "source": [
    "# Indentation\n",
    "- Python relies on indentation (whitespace at the beginning of a line) to define scope in the code. \n",
    "- Other programming languages often use curly-brackets for this purpose."
   ]
  },
  {
   "cell_type": "code",
   "execution_count": 1,
   "id": "fe25cbd5",
   "metadata": {},
   "outputs": [
    {
     "ename": "IndentationError",
     "evalue": "expected an indented block after 'if' statement on line 2 (1870553069.py, line 3)",
     "output_type": "error",
     "traceback": [
      "\u001b[1;36m  Cell \u001b[1;32mIn[1], line 3\u001b[1;36m\u001b[0m\n\u001b[1;33m    print(n)\u001b[0m\n\u001b[1;37m    ^\u001b[0m\n\u001b[1;31mIndentationError\u001b[0m\u001b[1;31m:\u001b[0m expected an indented block after 'if' statement on line 2\n"
     ]
    }
   ],
   "source": [
    "n = int(input(\"Enter the number\"))\n",
    "if n>10:\n",
    "print(n)\n",
    "    "
   ]
  },
  {
   "cell_type": "code",
   "execution_count": 2,
   "id": "29b6dcf9",
   "metadata": {},
   "outputs": [
    {
     "name": "stdout",
     "output_type": "stream",
     "text": [
      "Enter the number12\n",
      "12\n"
     ]
    }
   ],
   "source": [
    "n = int(input(\"Enter the number\"))\n",
    "if n>10:\n",
    "    print(n)"
   ]
  },
  {
   "cell_type": "markdown",
   "id": "fdb171b6",
   "metadata": {},
   "source": [
    "# Else\n",
    "The else keyword catches anything which isn't caught by the preceding conditions"
   ]
  },
  {
   "cell_type": "code",
   "execution_count": 4,
   "id": "80fb28b5",
   "metadata": {},
   "outputs": [
    {
     "name": "stdout",
     "output_type": "stream",
     "text": [
      "Enter the number6\n",
      "Divisible by 2\n"
     ]
    }
   ],
   "source": [
    "n = int(input(\"Enter the number\"))\n",
    "if n % 2 == 0:\n",
    "    print(\"Divisible by 2\")\n",
    "else:\n",
    "    print(\"Not divisible by 2\")"
   ]
  },
  {
   "cell_type": "code",
   "execution_count": null,
   "id": "9849e7d6",
   "metadata": {},
   "outputs": [],
   "source": []
  },
  {
   "cell_type": "code",
   "execution_count": null,
   "id": "770666e8",
   "metadata": {},
   "outputs": [],
   "source": []
  },
  {
   "cell_type": "markdown",
   "id": "ff4b88f6",
   "metadata": {},
   "source": [
    "# Elif\n",
    "The elif keyword is Python's way of saying \"if the previous conditions were not true, then try this condition\"."
   ]
  },
  {
   "cell_type": "code",
   "execution_count": 5,
   "id": "f7c632cc",
   "metadata": {},
   "outputs": [
    {
     "name": "stdout",
     "output_type": "stream",
     "text": [
      "enter the numbers 6 6\n",
      "a is equal to b\n"
     ]
    }
   ],
   "source": [
    "a,b=map(int,input(\"enter the numbers \").split(\" \"))\n",
    "if a>b:\n",
    "    print(\"a is greater than b\")\n",
    "elif a<b:\n",
    "    print(\"a is less than b\")\n",
    "else:\n",
    "    print(\"a is equal to b\")"
   ]
  },
  {
   "cell_type": "code",
   "execution_count": null,
   "id": "6180c369",
   "metadata": {},
   "outputs": [],
   "source": []
  },
  {
   "cell_type": "markdown",
   "id": "1d800f13",
   "metadata": {},
   "source": [
    "# And\n",
    "The and keyword is a logical operator, and is used to combine conditional statements:"
   ]
  },
  {
   "cell_type": "code",
   "execution_count": 6,
   "id": "0ce34897",
   "metadata": {},
   "outputs": [
    {
     "name": "stdout",
     "output_type": "stream",
     "text": [
      "Enter the number30\n",
      "Out of the range\n"
     ]
    }
   ],
   "source": [
    "n = int(input(\"Enter the number\"))\n",
    "if n>10 and n<20:\n",
    "    print(\"Within the range\")\n",
    "else:\n",
    "    print(\"Out of the range\")"
   ]
  },
  {
   "cell_type": "code",
   "execution_count": null,
   "id": "53acd7f5",
   "metadata": {},
   "outputs": [],
   "source": []
  },
  {
   "cell_type": "markdown",
   "id": "b52d4c68",
   "metadata": {},
   "source": [
    "# Or\n",
    "The or keyword is a logical operator, and is used to combine conditional statements:"
   ]
  },
  {
   "cell_type": "code",
   "execution_count": 7,
   "id": "5c3226e6",
   "metadata": {},
   "outputs": [
    {
     "name": "stdout",
     "output_type": "stream",
     "text": [
      "Enter the details14 f\n",
      "Valid candidate\n"
     ]
    }
   ],
   "source": [
    "age,gender= input(\"Enter the details\").split(\" \")\n",
    "\n",
    "if int(age)>=18 or gender.upper()=='F':\n",
    "    print(\"Valid candidate\")\n",
    "else:\n",
    "    print(\"Invalid Candidate\")"
   ]
  },
  {
   "cell_type": "code",
   "execution_count": null,
   "id": "96409539",
   "metadata": {},
   "outputs": [],
   "source": []
  },
  {
   "cell_type": "markdown",
   "id": "153360f5",
   "metadata": {},
   "source": [
    "# Not\n",
    "The not keyword is a logical operator, and is used to reverse the result of the conditional statement:"
   ]
  },
  {
   "cell_type": "code",
   "execution_count": 8,
   "id": "9227c4c5",
   "metadata": {},
   "outputs": [
    {
     "name": "stdout",
     "output_type": "stream",
     "text": [
      "enter the numbers6,3,2,1\n"
     ]
    }
   ],
   "source": [
    "lst = list(map(int,input(\"enter the numbers\").split(\",\")))"
   ]
  },
  {
   "cell_type": "code",
   "execution_count": 9,
   "id": "c9668757",
   "metadata": {},
   "outputs": [
    {
     "name": "stdout",
     "output_type": "stream",
     "text": [
      "Present\n"
     ]
    }
   ],
   "source": [
    "if 6 not in lst:\n",
    "    print(\"Not present\")\n",
    "else:\n",
    "    print(\"Present\")"
   ]
  },
  {
   "cell_type": "code",
   "execution_count": 10,
   "id": "44ddc260",
   "metadata": {},
   "outputs": [
    {
     "name": "stdout",
     "output_type": "stream",
     "text": [
      "Enter the number9\n",
      "Divisible by 3\n"
     ]
    }
   ],
   "source": [
    "n= int(input(\"Enter the number\"))\n",
    "if n%3!=0:\n",
    "    print(\"Not Divisible by 3\")\n",
    "else:\n",
    "    print(\"Divisible by 3\")"
   ]
  },
  {
   "cell_type": "code",
   "execution_count": null,
   "id": "defd7b3f",
   "metadata": {},
   "outputs": [],
   "source": []
  },
  {
   "cell_type": "code",
   "execution_count": null,
   "id": "cea0d92b",
   "metadata": {},
   "outputs": [],
   "source": []
  },
  {
   "cell_type": "markdown",
   "id": "caf52215",
   "metadata": {},
   "source": [
    "# Short Hand\n",
    "- if\n",
    "- if else\n",
    "- if elif else"
   ]
  },
  {
   "cell_type": "markdown",
   "id": "fbe2292d",
   "metadata": {},
   "source": [
    "Write a program to display \"Hello\" if entered number is multiple of 5 otherwise print \"bye\""
   ]
  },
  {
   "cell_type": "code",
   "execution_count": 15,
   "id": "92e0db15",
   "metadata": {},
   "outputs": [
    {
     "name": "stdout",
     "output_type": "stream",
     "text": [
      "enter the number21\n",
      "enter the number23\n"
     ]
    }
   ],
   "source": [
    "n= int(input(\"enter the number\"))\n",
    "\n",
    "if n%5 ==0:\n",
    "    print(\"Hello\")\n",
    "else:\n",
    "    print(\"Bye\")"
   ]
  },
  {
   "cell_type": "code",
   "execution_count": 13,
   "id": "3b7621ab",
   "metadata": {},
   "outputs": [
    {
     "name": "stdout",
     "output_type": "stream",
     "text": [
      "enter the number25\n",
      "Hello\n"
     ]
    }
   ],
   "source": [
    "n= int(input(\"enter the number\"))\n",
    "\n",
    "print(\"Hello\") if n%5==0 else print(\"Bye\")"
   ]
  },
  {
   "cell_type": "code",
   "execution_count": 18,
   "id": "a15fe259",
   "metadata": {},
   "outputs": [
    {
     "name": "stdout",
     "output_type": "stream",
     "text": [
      "Enter the marks43\n",
      "Fair\n"
     ]
    }
   ],
   "source": [
    "marks= int(input(\"Enter the marks\"))\n",
    "\n",
    "if marks<40:\n",
    "    print(\"Failed\")\n",
    "elif marks>=40 and marks<55:\n",
    "    print(\"Fair\")\n",
    "else: \n",
    "    print(\"Good\")\n",
    "    "
   ]
  },
  {
   "cell_type": "code",
   "execution_count": 20,
   "id": "48a02077",
   "metadata": {},
   "outputs": [
    {
     "name": "stdout",
     "output_type": "stream",
     "text": [
      "Enter the marks100\n",
      "Good\n"
     ]
    }
   ],
   "source": [
    "marks= int(input(\"Enter the marks\"))\n",
    "\n",
    "print(\"Failed\") if marks <40 else print(\"Fair\") if marks>=40 and marks<55 else print(\"Good\")"
   ]
  },
  {
   "cell_type": "code",
   "execution_count": null,
   "id": "612e6c2d",
   "metadata": {},
   "outputs": [],
   "source": []
  },
  {
   "cell_type": "code",
   "execution_count": null,
   "id": "62f9401b",
   "metadata": {},
   "outputs": [],
   "source": []
  },
  {
   "cell_type": "code",
   "execution_count": null,
   "id": "f2187d87",
   "metadata": {},
   "outputs": [],
   "source": []
  },
  {
   "cell_type": "code",
   "execution_count": null,
   "id": "e0c331f9",
   "metadata": {},
   "outputs": [],
   "source": []
  },
  {
   "cell_type": "markdown",
   "id": "e17c9ced",
   "metadata": {},
   "source": [
    "# Nested If\n",
    "You can have if statements inside if statements, this is called nested if statements."
   ]
  },
  {
   "cell_type": "code",
   "execution_count": 23,
   "id": "aaed6158",
   "metadata": {},
   "outputs": [
    {
     "name": "stdout",
     "output_type": "stream",
     "text": [
      "Enter the gender F\n",
      "Enter the age62\n",
      "Female not eligible\n"
     ]
    }
   ],
   "source": [
    "gender= input(\"Enter the gender \")\n",
    "age= int(input(\"Enter the age\"))\n",
    "if gender=='F':\n",
    "    if age>18 and age<60:\n",
    "        print(\"Female is Eligible for work\")\n",
    "    else:\n",
    "        print(\"Female is not eligible\")\n",
    "elif gender=='M':\n",
    "    if age>16 and age<60:\n",
    "        print(\"Male is Eligible for work\")\n",
    "    else:\n",
    "        print(\"Male not eligible\")\n",
    "else:\n",
    "    print(\"Not eligible\")\n",
    "    \n",
    "    \n",
    "        "
   ]
  },
  {
   "cell_type": "code",
   "execution_count": null,
   "id": "032e0f3c",
   "metadata": {},
   "outputs": [],
   "source": []
  },
  {
   "cell_type": "code",
   "execution_count": null,
   "id": "996d01e7",
   "metadata": {},
   "outputs": [],
   "source": []
  },
  {
   "cell_type": "markdown",
   "id": "08207aaa",
   "metadata": {},
   "source": [
    "Q - Python program to find the largest element among three Numbers"
   ]
  },
  {
   "cell_type": "raw",
   "id": "6924f050",
   "metadata": {},
   "source": [
    "Q- Write a program to check whether a number by user is even or odd number"
   ]
  },
  {
   "cell_type": "markdown",
   "id": "e3903c5a",
   "metadata": {},
   "source": [
    "https://csiplearninghub.com/python-if-else-conditional-statement-practice/"
   ]
  },
  {
   "cell_type": "code",
   "execution_count": null,
   "id": "0cb0899b",
   "metadata": {},
   "outputs": [],
   "source": []
  }
 ],
 "metadata": {
  "kernelspec": {
   "display_name": "Python 3 (ipykernel)",
   "language": "python",
   "name": "python3"
  },
  "language_info": {
   "codemirror_mode": {
    "name": "ipython",
    "version": 3
   },
   "file_extension": ".py",
   "mimetype": "text/x-python",
   "name": "python",
   "nbconvert_exporter": "python",
   "pygments_lexer": "ipython3",
   "version": "3.11.5"
  }
 },
 "nbformat": 4,
 "nbformat_minor": 5
}

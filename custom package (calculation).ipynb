{
 "cells": [
  {
   "cell_type": "code",
   "execution_count": 14,
   "id": "ce43934f",
   "metadata": {},
   "outputs": [],
   "source": [
    "import Calculation.Example.calculation as c"
   ]
  },
  {
   "cell_type": "code",
   "execution_count": 8,
   "id": "ce5ecf12",
   "metadata": {},
   "outputs": [
    {
     "data": {
      "text/plain": [
       "25"
      ]
     },
     "execution_count": 8,
     "metadata": {},
     "output_type": "execute_result"
    }
   ],
   "source": [
    "c.power(5)"
   ]
  },
  {
   "cell_type": "code",
   "execution_count": 13,
   "id": "801b621b",
   "metadata": {},
   "outputs": [
    {
     "data": {
      "text/plain": [
       "(0.1,)"
      ]
     },
     "execution_count": 13,
     "metadata": {},
     "output_type": "execute_result"
    }
   ],
   "source": [
    "c.division(5,50)"
   ]
  },
  {
   "cell_type": "code",
   "execution_count": 15,
   "id": "e935d647",
   "metadata": {},
   "outputs": [
    {
     "data": {
      "text/plain": [
       "3"
      ]
     },
     "execution_count": 15,
     "metadata": {},
     "output_type": "execute_result"
    }
   ],
   "source": [
    "c.sub(10,7)"
   ]
  },
  {
   "cell_type": "code",
   "execution_count": 16,
   "id": "ce7b95e2",
   "metadata": {},
   "outputs": [
    {
     "data": {
      "text/plain": [
       "90"
      ]
     },
     "execution_count": 16,
     "metadata": {},
     "output_type": "execute_result"
    }
   ],
   "source": [
    "c.add(20,70)"
   ]
  },
  {
   "cell_type": "code",
   "execution_count": 17,
   "id": "47be7df7",
   "metadata": {},
   "outputs": [
    {
     "data": {
      "text/plain": [
       "100"
      ]
     },
     "execution_count": 17,
     "metadata": {},
     "output_type": "execute_result"
    }
   ],
   "source": [
    "c.multi(2,50)"
   ]
  },
  {
   "cell_type": "code",
   "execution_count": 19,
   "id": "e2b274bb",
   "metadata": {},
   "outputs": [],
   "source": [
    "import Calculation.Example.area as a"
   ]
  },
  {
   "cell_type": "code",
   "execution_count": 22,
   "id": "0218abfe",
   "metadata": {},
   "outputs": [
    {
     "data": {
      "text/plain": [
       "12.566370614359172"
      ]
     },
     "execution_count": 22,
     "metadata": {},
     "output_type": "execute_result"
    }
   ],
   "source": [
    "a.circle(2)"
   ]
  },
  {
   "cell_type": "code",
   "execution_count": 25,
   "id": "e92b347e",
   "metadata": {},
   "outputs": [
    {
     "data": {
      "text/plain": [
       "50"
      ]
     },
     "execution_count": 25,
     "metadata": {},
     "output_type": "execute_result"
    }
   ],
   "source": [
    "a.rectangle(10,5)"
   ]
  },
  {
   "cell_type": "code",
   "execution_count": 27,
   "id": "4a6db1be",
   "metadata": {},
   "outputs": [
    {
     "data": {
      "text/plain": [
       "17.5"
      ]
     },
     "execution_count": 27,
     "metadata": {},
     "output_type": "execute_result"
    }
   ],
   "source": [
    "a.triangle(7,5)"
   ]
  },
  {
   "cell_type": "code",
   "execution_count": 26,
   "id": "d2515310",
   "metadata": {},
   "outputs": [
    {
     "data": {
      "text/plain": [
       "20"
      ]
     },
     "execution_count": 26,
     "metadata": {},
     "output_type": "execute_result"
    }
   ],
   "source": [
    "a.square(4,5)"
   ]
  },
  {
   "cell_type": "code",
   "execution_count": 28,
   "id": "ac9a9381",
   "metadata": {},
   "outputs": [],
   "source": [
    "import Calculation.Example.volume as v"
   ]
  },
  {
   "cell_type": "code",
   "execution_count": 29,
   "id": "4fa3f268",
   "metadata": {},
   "outputs": [
    {
     "data": {
      "text/plain": [
       "235.61944901923448"
      ]
     },
     "execution_count": 29,
     "metadata": {},
     "output_type": "execute_result"
    }
   ],
   "source": [
    "v.cone(5,9)"
   ]
  },
  {
   "cell_type": "code",
   "execution_count": 32,
   "id": "fb94a3d8",
   "metadata": {},
   "outputs": [
    {
     "data": {
      "text/plain": [
       "2"
      ]
     },
     "execution_count": 32,
     "metadata": {},
     "output_type": "execute_result"
    }
   ],
   "source": [
    "v.cube(9)"
   ]
  },
  {
   "cell_type": "code",
   "execution_count": 35,
   "id": "920047c9",
   "metadata": {},
   "outputs": [
    {
     "data": {
      "text/plain": [
       "3053.6280592892786"
      ]
     },
     "execution_count": 35,
     "metadata": {},
     "output_type": "execute_result"
    }
   ],
   "source": [
    "v.sphere(9)"
   ]
  },
  {
   "cell_type": "code",
   "execution_count": 34,
   "id": "4215fd38",
   "metadata": {},
   "outputs": [
    {
     "data": {
      "text/plain": [
       "400"
      ]
     },
     "execution_count": 34,
     "metadata": {},
     "output_type": "execute_result"
    }
   ],
   "source": [
    "v.cuboid(5,8,10)"
   ]
  },
  {
   "cell_type": "code",
   "execution_count": null,
   "id": "5d21ffa2",
   "metadata": {},
   "outputs": [],
   "source": []
  }
 ],
 "metadata": {
  "kernelspec": {
   "display_name": "Python 3 (ipykernel)",
   "language": "python",
   "name": "python3"
  },
  "language_info": {
   "codemirror_mode": {
    "name": "ipython",
    "version": 3
   },
   "file_extension": ".py",
   "mimetype": "text/x-python",
   "name": "python",
   "nbconvert_exporter": "python",
   "pygments_lexer": "ipython3",
   "version": "3.11.5"
  }
 },
 "nbformat": 4,
 "nbformat_minor": 5
}

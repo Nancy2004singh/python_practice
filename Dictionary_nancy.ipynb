{
 "cells": [
  {
   "cell_type": "markdown",
   "id": "197b4867",
   "metadata": {},
   "source": [
    "# Creating empty dictionary¶¶"
   ]
  },
  {
   "cell_type": "code",
   "execution_count": 1,
   "id": "b2e45485",
   "metadata": {},
   "outputs": [],
   "source": [
    "d = {}"
   ]
  },
  {
   "cell_type": "code",
   "execution_count": 2,
   "id": "59361dc5",
   "metadata": {},
   "outputs": [
    {
     "data": {
      "text/plain": [
       "dict"
      ]
     },
     "execution_count": 2,
     "metadata": {},
     "output_type": "execute_result"
    }
   ],
   "source": [
    "type(d)"
   ]
  },
  {
   "cell_type": "code",
   "execution_count": 3,
   "id": "ab37e0f8",
   "metadata": {},
   "outputs": [],
   "source": [
    "d =10"
   ]
  },
  {
   "cell_type": "code",
   "execution_count": 7,
   "id": "6454970c",
   "metadata": {},
   "outputs": [
    {
     "data": {
      "text/plain": [
       "int"
      ]
     },
     "execution_count": 7,
     "metadata": {},
     "output_type": "execute_result"
    }
   ],
   "source": [
    "type(d)"
   ]
  },
  {
   "cell_type": "code",
   "execution_count": 8,
   "id": "34daf98e",
   "metadata": {},
   "outputs": [
    {
     "ename": "TypeError",
     "evalue": "'int' object is not iterable",
     "output_type": "error",
     "traceback": [
      "\u001b[1;31m---------------------------------------------------------------------------\u001b[0m",
      "\u001b[1;31mTypeError\u001b[0m                                 Traceback (most recent call last)",
      "Cell \u001b[1;32mIn[8], line 1\u001b[0m\n\u001b[1;32m----> 1\u001b[0m \u001b[38;5;28mdict\u001b[39m(d)\n",
      "\u001b[1;31mTypeError\u001b[0m: 'int' object is not iterable"
     ]
    }
   ],
   "source": [
    "dict(d)"
   ]
  },
  {
   "cell_type": "code",
   "execution_count": 10,
   "id": "8f281b80",
   "metadata": {},
   "outputs": [],
   "source": [
    "d1 = dict()"
   ]
  },
  {
   "cell_type": "code",
   "execution_count": 11,
   "id": "43d973e9",
   "metadata": {},
   "outputs": [
    {
     "data": {
      "text/plain": [
       "dict"
      ]
     },
     "execution_count": 11,
     "metadata": {},
     "output_type": "execute_result"
    }
   ],
   "source": [
    "type(d1)"
   ]
  },
  {
   "cell_type": "markdown",
   "id": "deaef4db",
   "metadata": {},
   "source": [
    "# Create and print a dictionary"
   ]
  },
  {
   "cell_type": "code",
   "execution_count": 14,
   "id": "37cecf56",
   "metadata": {},
   "outputs": [],
   "source": [
    "dic = {\n",
    "    \"Name\": \"Nancy\",\n",
    "    \"Course\": \"Python\",\n",
    "    'Location': 'PreetVihar'\n",
    "    \n",
    "}"
   ]
  },
  {
   "cell_type": "code",
   "execution_count": 15,
   "id": "c567c0d4",
   "metadata": {},
   "outputs": [
    {
     "data": {
      "text/plain": [
       "{'Name': 'Nancy', 'Course': 'Python', 'Location': 'PreetVihar'}"
      ]
     },
     "execution_count": 15,
     "metadata": {},
     "output_type": "execute_result"
    }
   ],
   "source": [
    "dic"
   ]
  },
  {
   "cell_type": "code",
   "execution_count": 16,
   "id": "71cb6b21",
   "metadata": {},
   "outputs": [],
   "source": [
    "# create a dic with list of tuples"
   ]
  },
  {
   "cell_type": "code",
   "execution_count": 17,
   "id": "27eaa688",
   "metadata": {},
   "outputs": [],
   "source": [
    "dic1 = dict([('name','pooja'),('Age',37),('occupation','Trainer')])"
   ]
  },
  {
   "cell_type": "code",
   "execution_count": 18,
   "id": "3a9c22d3",
   "metadata": {},
   "outputs": [
    {
     "data": {
      "text/plain": [
       "{'name': 'pooja', 'Age': 37, 'occupation': 'Trainer'}"
      ]
     },
     "execution_count": 18,
     "metadata": {},
     "output_type": "execute_result"
    }
   ],
   "source": [
    "dic1"
   ]
  },
  {
   "cell_type": "code",
   "execution_count": 20,
   "id": "f1398242",
   "metadata": {},
   "outputs": [],
   "source": [
    "dic1 = dict([('name',['pooja','nancy']),('Age',[37,24]),('occupation',['Trainer','student'])])"
   ]
  },
  {
   "cell_type": "code",
   "execution_count": 21,
   "id": "5d9ea678",
   "metadata": {},
   "outputs": [
    {
     "data": {
      "text/plain": [
       "{'name': ['pooja', 'nancy'],\n",
       " 'Age': [37, 24],\n",
       " 'occupation': ['Trainer', 'student']}"
      ]
     },
     "execution_count": 21,
     "metadata": {},
     "output_type": "execute_result"
    }
   ],
   "source": [
    "dic1"
   ]
  },
  {
   "cell_type": "code",
   "execution_count": 22,
   "id": "d4bf2244",
   "metadata": {},
   "outputs": [],
   "source": [
    "dic2 = {\n",
    "    \"Name\": [\"Nancy\",'Anshika'],\n",
    "    \"Course\": [\"Python\",'DS'],\n",
    "    'Location': ['PreetVihar','Southex']\n",
    "    \n",
    "}"
   ]
  },
  {
   "cell_type": "code",
   "execution_count": 23,
   "id": "2f864e49",
   "metadata": {},
   "outputs": [
    {
     "data": {
      "text/plain": [
       "{'Name': ['Nancy', 'Anshika'],\n",
       " 'Course': ['Python', 'DS'],\n",
       " 'Location': ['PreetVihar', 'Southex']}"
      ]
     },
     "execution_count": 23,
     "metadata": {},
     "output_type": "execute_result"
    }
   ],
   "source": [
    "dic2"
   ]
  },
  {
   "cell_type": "code",
   "execution_count": 24,
   "id": "47226c78",
   "metadata": {},
   "outputs": [],
   "source": [
    "#dict() constructor to make a dictionary , Key need not to be written in \"\" "
   ]
  },
  {
   "cell_type": "code",
   "execution_count": 25,
   "id": "f4ffac44",
   "metadata": {},
   "outputs": [],
   "source": [
    "dic3 = dict(name='BMW',brand='xyz')"
   ]
  },
  {
   "cell_type": "code",
   "execution_count": 26,
   "id": "c5f4f20f",
   "metadata": {},
   "outputs": [
    {
     "data": {
      "text/plain": [
       "{'name': 'BMW', 'brand': 'xyz'}"
      ]
     },
     "execution_count": 26,
     "metadata": {},
     "output_type": "execute_result"
    }
   ],
   "source": [
    "dic3"
   ]
  },
  {
   "cell_type": "markdown",
   "id": "eacbad14",
   "metadata": {},
   "source": [
    "# Dictionary Items -The values in dictionary items can be of any data type"
   ]
  },
  {
   "cell_type": "code",
   "execution_count": 27,
   "id": "a078f9a5",
   "metadata": {},
   "outputs": [],
   "source": [
    "dic4 = {\n",
    "    \"Name\": ['ford','honda'],\n",
    "    \"Brand\":['xyz','pqr'],\n",
    "    \"year\": 1960,\n",
    "    \"electric\":True\n",
    "}"
   ]
  },
  {
   "cell_type": "code",
   "execution_count": 28,
   "id": "d3afbb4a",
   "metadata": {},
   "outputs": [
    {
     "data": {
      "text/plain": [
       "{'Name': ['ford', 'honda'],\n",
       " 'Brand': ['xyz', 'pqr'],\n",
       " 'year': 1960,\n",
       " 'electric': True}"
      ]
     },
     "execution_count": 28,
     "metadata": {},
     "output_type": "execute_result"
    }
   ],
   "source": [
    "dic4"
   ]
  },
  {
   "cell_type": "markdown",
   "id": "95511505",
   "metadata": {},
   "source": [
    "# Accessing elements\n",
    "You can access the items of a dictionary by referring to its key name, inside square brackets:"
   ]
  },
  {
   "cell_type": "code",
   "execution_count": 29,
   "id": "e719891e",
   "metadata": {},
   "outputs": [
    {
     "data": {
      "text/plain": [
       "1960"
      ]
     },
     "execution_count": 29,
     "metadata": {},
     "output_type": "execute_result"
    }
   ],
   "source": [
    "dic4['year']"
   ]
  },
  {
   "cell_type": "code",
   "execution_count": 31,
   "id": "2d4db952",
   "metadata": {},
   "outputs": [
    {
     "data": {
      "text/plain": [
       "'honda'"
      ]
     },
     "execution_count": 31,
     "metadata": {},
     "output_type": "execute_result"
    }
   ],
   "source": [
    "dic4['Name'][1]"
   ]
  },
  {
   "cell_type": "code",
   "execution_count": 32,
   "id": "4ad10704",
   "metadata": {},
   "outputs": [
    {
     "data": {
      "text/plain": [
       "{'name': 'BMW', 'brand': 'xyz'}"
      ]
     },
     "execution_count": 32,
     "metadata": {},
     "output_type": "execute_result"
    }
   ],
   "source": [
    "dic3"
   ]
  },
  {
   "cell_type": "code",
   "execution_count": 33,
   "id": "77263f67",
   "metadata": {},
   "outputs": [
    {
     "name": "stdout",
     "output_type": "stream",
     "text": [
      "Brand of BMW is xyz\n"
     ]
    }
   ],
   "source": [
    "print(f\"Brand of {dic3['name']} is {dic3['brand']}\")"
   ]
  },
  {
   "cell_type": "code",
   "execution_count": null,
   "id": "dcc6f314",
   "metadata": {},
   "outputs": [],
   "source": [
    "#get() method"
   ]
  },
  {
   "cell_type": "code",
   "execution_count": 34,
   "id": "597a4af6",
   "metadata": {},
   "outputs": [
    {
     "data": {
      "text/plain": [
       "'xyz'"
      ]
     },
     "execution_count": 34,
     "metadata": {},
     "output_type": "execute_result"
    }
   ],
   "source": [
    "dic3.get('brand')"
   ]
  },
  {
   "cell_type": "code",
   "execution_count": 35,
   "id": "8188a64a",
   "metadata": {},
   "outputs": [
    {
     "name": "stdout",
     "output_type": "stream",
     "text": [
      "Brand of BMW is xyz\n"
     ]
    }
   ],
   "source": [
    "print(f\"Brand of {dic3.get('name')} is {dic3.get('brand')}\")"
   ]
  },
  {
   "cell_type": "code",
   "execution_count": 39,
   "id": "b6a4a18d",
   "metadata": {},
   "outputs": [
    {
     "data": {
      "text/plain": [
       "'ford'"
      ]
     },
     "execution_count": 39,
     "metadata": {},
     "output_type": "execute_result"
    }
   ],
   "source": [
    "dic4.get('Name')[0]"
   ]
  },
  {
   "cell_type": "markdown",
   "id": "fae1196a",
   "metadata": {},
   "source": [
    "# The keys() method will return a list of all the keys in the dictionary."
   ]
  },
  {
   "cell_type": "code",
   "execution_count": 40,
   "id": "c1a550ef",
   "metadata": {},
   "outputs": [
    {
     "data": {
      "text/plain": [
       "dict_keys(['Name', 'Brand', 'year', 'electric'])"
      ]
     },
     "execution_count": 40,
     "metadata": {},
     "output_type": "execute_result"
    }
   ],
   "source": [
    "dic4.keys()"
   ]
  },
  {
   "cell_type": "markdown",
   "id": "7092640f",
   "metadata": {},
   "source": [
    "# The values() method will return a list of all the values in the dictionary."
   ]
  },
  {
   "cell_type": "code",
   "execution_count": 41,
   "id": "8c47677e",
   "metadata": {},
   "outputs": [
    {
     "data": {
      "text/plain": [
       "dict_values([['ford', 'honda'], ['xyz', 'pqr'], 1960, True])"
      ]
     },
     "execution_count": 41,
     "metadata": {},
     "output_type": "execute_result"
    }
   ],
   "source": [
    "dic4.values()"
   ]
  },
  {
   "cell_type": "markdown",
   "id": "3d4e2012",
   "metadata": {},
   "source": [
    "# Get Items\n",
    "The items() method will return each item in a dictionary, as tuples in a list.\n",
    "Get a list of the key:value pairs"
   ]
  },
  {
   "cell_type": "code",
   "execution_count": 42,
   "id": "38e0b67e",
   "metadata": {},
   "outputs": [
    {
     "data": {
      "text/plain": [
       "dict_items([('Name', ['ford', 'honda']), ('Brand', ['xyz', 'pqr']), ('year', 1960), ('electric', True)])"
      ]
     },
     "execution_count": 42,
     "metadata": {},
     "output_type": "execute_result"
    }
   ],
   "source": [
    "dic4.items()"
   ]
  },
  {
   "cell_type": "markdown",
   "id": "3224ec63",
   "metadata": {},
   "source": [
    "# Changeable\n",
    "Dictionaries are changeable, meaning that we can change, add or remove items after the dictionary has been created."
   ]
  },
  {
   "cell_type": "code",
   "execution_count": 69,
   "id": "cd171441",
   "metadata": {},
   "outputs": [
    {
     "ename": "NameError",
     "evalue": "name 'dic1' is not defined",
     "output_type": "error",
     "traceback": [
      "\u001b[1;31m---------------------------------------------------------------------------\u001b[0m",
      "\u001b[1;31mNameError\u001b[0m                                 Traceback (most recent call last)",
      "Cell \u001b[1;32mIn[69], line 1\u001b[0m\n\u001b[1;32m----> 1\u001b[0m dic1\n",
      "\u001b[1;31mNameError\u001b[0m: name 'dic1' is not defined"
     ]
    }
   ],
   "source": [
    "dic1"
   ]
  },
  {
   "cell_type": "code",
   "execution_count": 44,
   "id": "b6f2c644",
   "metadata": {},
   "outputs": [],
   "source": [
    "dic1['Age']= [30,18]"
   ]
  },
  {
   "cell_type": "code",
   "execution_count": 45,
   "id": "b26964be",
   "metadata": {},
   "outputs": [
    {
     "data": {
      "text/plain": [
       "{'name': ['pooja', 'nancy'],\n",
       " 'Age': [30, 18],\n",
       " 'occupation': ['Trainer', 'student']}"
      ]
     },
     "execution_count": 45,
     "metadata": {},
     "output_type": "execute_result"
    }
   ],
   "source": [
    "dic1"
   ]
  },
  {
   "cell_type": "code",
   "execution_count": 50,
   "id": "0288d0c3",
   "metadata": {},
   "outputs": [],
   "source": [
    "dic1['Age']=(18,56)"
   ]
  },
  {
   "cell_type": "code",
   "execution_count": 51,
   "id": "ef985116",
   "metadata": {},
   "outputs": [
    {
     "data": {
      "text/plain": [
       "{'name': ['pooja', 'nancy'],\n",
       " 'Age': (18, 56),\n",
       " 'occupation': ['Trainer', 'student']}"
      ]
     },
     "execution_count": 51,
     "metadata": {},
     "output_type": "execute_result"
    }
   ],
   "source": [
    "dic1"
   ]
  },
  {
   "cell_type": "code",
   "execution_count": 52,
   "id": "86dc0065",
   "metadata": {},
   "outputs": [],
   "source": [
    "dic1['name']= 'Niday','Meghna'"
   ]
  },
  {
   "cell_type": "code",
   "execution_count": 53,
   "id": "dfae5cb1",
   "metadata": {},
   "outputs": [
    {
     "data": {
      "text/plain": [
       "{'name': ('Niday', 'Meghna'),\n",
       " 'Age': (18, 56),\n",
       " 'occupation': ['Trainer', 'student']}"
      ]
     },
     "execution_count": 53,
     "metadata": {},
     "output_type": "execute_result"
    }
   ],
   "source": [
    "dic1"
   ]
  },
  {
   "cell_type": "code",
   "execution_count": 54,
   "id": "5d0cc4fb",
   "metadata": {},
   "outputs": [],
   "source": [
    "dic1['Location']=['PV','SX']"
   ]
  },
  {
   "cell_type": "code",
   "execution_count": 55,
   "id": "19eaa5a1",
   "metadata": {},
   "outputs": [
    {
     "data": {
      "text/plain": [
       "{'name': ('Niday', 'Meghna'),\n",
       " 'Age': (18, 56),\n",
       " 'occupation': ['Trainer', 'student'],\n",
       " 'Location': ['PV', 'SX']}"
      ]
     },
     "execution_count": 55,
     "metadata": {},
     "output_type": "execute_result"
    }
   ],
   "source": [
    "dic1"
   ]
  },
  {
   "cell_type": "markdown",
   "id": "bb8777c2",
   "metadata": {},
   "source": [
    "# Removing Items\n",
    "- pop() method removes the item with the specified key name\n",
    "- popitem() method removes the last inserted item (in versions before 3.7, a random item is removed instead)\n",
    "- del keyword removes the item with the specified key name as well as delete the dictionary completely\n",
    "- clear() method empties the dictionary"
   ]
  },
  {
   "cell_type": "code",
   "execution_count": 56,
   "id": "b770153c",
   "metadata": {},
   "outputs": [
    {
     "data": {
      "text/plain": [
       "(18, 56)"
      ]
     },
     "execution_count": 56,
     "metadata": {},
     "output_type": "execute_result"
    }
   ],
   "source": [
    "dic1.pop('Age')"
   ]
  },
  {
   "cell_type": "code",
   "execution_count": 57,
   "id": "67a9b24a",
   "metadata": {},
   "outputs": [
    {
     "data": {
      "text/plain": [
       "{'name': ('Niday', 'Meghna'),\n",
       " 'occupation': ['Trainer', 'student'],\n",
       " 'Location': ['PV', 'SX']}"
      ]
     },
     "execution_count": 57,
     "metadata": {},
     "output_type": "execute_result"
    }
   ],
   "source": [
    "dic1"
   ]
  },
  {
   "cell_type": "code",
   "execution_count": 61,
   "id": "dd8045ce",
   "metadata": {},
   "outputs": [
    {
     "data": {
      "text/plain": [
       "('Location', ['PV', 'SX'])"
      ]
     },
     "execution_count": 61,
     "metadata": {},
     "output_type": "execute_result"
    }
   ],
   "source": [
    "dic1.popitem()"
   ]
  },
  {
   "cell_type": "code",
   "execution_count": 62,
   "id": "63fc6fd9",
   "metadata": {},
   "outputs": [
    {
     "data": {
      "text/plain": [
       "{'name': ('Niday', 'Meghna'), 'occupation': ['Trainer', 'student']}"
      ]
     },
     "execution_count": 62,
     "metadata": {},
     "output_type": "execute_result"
    }
   ],
   "source": [
    "dic1"
   ]
  },
  {
   "cell_type": "code",
   "execution_count": 63,
   "id": "e7b71ff0",
   "metadata": {},
   "outputs": [],
   "source": [
    "del dic1['occupation']"
   ]
  },
  {
   "cell_type": "code",
   "execution_count": 64,
   "id": "2a5920d3",
   "metadata": {},
   "outputs": [
    {
     "data": {
      "text/plain": [
       "{'name': ('Niday', 'Meghna')}"
      ]
     },
     "execution_count": 64,
     "metadata": {},
     "output_type": "execute_result"
    }
   ],
   "source": [
    "dic1"
   ]
  },
  {
   "cell_type": "code",
   "execution_count": 65,
   "id": "a9fa2aba",
   "metadata": {},
   "outputs": [],
   "source": [
    "dic1.clear()"
   ]
  },
  {
   "cell_type": "code",
   "execution_count": 66,
   "id": "d871304b",
   "metadata": {},
   "outputs": [
    {
     "data": {
      "text/plain": [
       "{}"
      ]
     },
     "execution_count": 66,
     "metadata": {},
     "output_type": "execute_result"
    }
   ],
   "source": [
    "dic1"
   ]
  },
  {
   "cell_type": "code",
   "execution_count": 67,
   "id": "0874e1b4",
   "metadata": {},
   "outputs": [],
   "source": [
    "del dic1"
   ]
  },
  {
   "cell_type": "code",
   "execution_count": 68,
   "id": "83ebc032",
   "metadata": {},
   "outputs": [
    {
     "ename": "NameError",
     "evalue": "name 'dic1' is not defined",
     "output_type": "error",
     "traceback": [
      "\u001b[1;31m---------------------------------------------------------------------------\u001b[0m",
      "\u001b[1;31mNameError\u001b[0m                                 Traceback (most recent call last)",
      "Cell \u001b[1;32mIn[68], line 1\u001b[0m\n\u001b[1;32m----> 1\u001b[0m dic1\n",
      "\u001b[1;31mNameError\u001b[0m: name 'dic1' is not defined"
     ]
    }
   ],
   "source": [
    "dic1"
   ]
  },
  {
   "cell_type": "markdown",
   "id": "b8076d6d",
   "metadata": {},
   "source": [
    "# Dictionary Length:len() function"
   ]
  },
  {
   "cell_type": "code",
   "execution_count": 70,
   "id": "95ada258",
   "metadata": {},
   "outputs": [
    {
     "data": {
      "text/plain": [
       "4"
      ]
     },
     "execution_count": 70,
     "metadata": {},
     "output_type": "execute_result"
    }
   ],
   "source": [
    "len(dic4)"
   ]
  },
  {
   "cell_type": "code",
   "execution_count": 71,
   "id": "27608b0c",
   "metadata": {},
   "outputs": [
    {
     "data": {
      "text/plain": [
       "{'Name': ['ford', 'honda'],\n",
       " 'Brand': ['xyz', 'pqr'],\n",
       " 'year': 1960,\n",
       " 'electric': True}"
      ]
     },
     "execution_count": 71,
     "metadata": {},
     "output_type": "execute_result"
    }
   ],
   "source": [
    "dic4"
   ]
  },
  {
   "cell_type": "markdown",
   "id": "05c927e2",
   "metadata": {},
   "source": [
    "# Copy a Dictionary\n",
    "- You cannot copy a dictionary simply by typing dict2 = dict1, because: dict2 will only be a reference to dict1, and changes made in dict1 will automatically also be made in dict2.\n",
    "\n",
    "- There are ways to make a copy, one way is to use the built-in Dictionary method copy().\n",
    "\n"
   ]
  },
  {
   "cell_type": "code",
   "execution_count": 73,
   "id": "c4294a57",
   "metadata": {},
   "outputs": [],
   "source": [
    "dic1= dic4"
   ]
  },
  {
   "cell_type": "code",
   "execution_count": 74,
   "id": "ec1a4c9a",
   "metadata": {},
   "outputs": [],
   "source": [
    "dic4['year']=2000"
   ]
  },
  {
   "cell_type": "code",
   "execution_count": 75,
   "id": "f51ecf31",
   "metadata": {},
   "outputs": [
    {
     "data": {
      "text/plain": [
       "{'Name': ['ford', 'honda'],\n",
       " 'Brand': ['xyz', 'pqr'],\n",
       " 'year': 2000,\n",
       " 'electric': True}"
      ]
     },
     "execution_count": 75,
     "metadata": {},
     "output_type": "execute_result"
    }
   ],
   "source": [
    "dic4"
   ]
  },
  {
   "cell_type": "code",
   "execution_count": 76,
   "id": "298efff6",
   "metadata": {},
   "outputs": [
    {
     "data": {
      "text/plain": [
       "{'Name': ['ford', 'honda'],\n",
       " 'Brand': ['xyz', 'pqr'],\n",
       " 'year': 2000,\n",
       " 'electric': True}"
      ]
     },
     "execution_count": 76,
     "metadata": {},
     "output_type": "execute_result"
    }
   ],
   "source": [
    "dic1"
   ]
  },
  {
   "cell_type": "code",
   "execution_count": 77,
   "id": "f35d9eea",
   "metadata": {},
   "outputs": [],
   "source": [
    "dic2 = dic4.copy()"
   ]
  },
  {
   "cell_type": "code",
   "execution_count": 78,
   "id": "6922ad7b",
   "metadata": {},
   "outputs": [],
   "source": [
    "dic4['electric']=False"
   ]
  },
  {
   "cell_type": "code",
   "execution_count": 79,
   "id": "8cfb5aef",
   "metadata": {},
   "outputs": [
    {
     "data": {
      "text/plain": [
       "{'Name': ['ford', 'honda'],\n",
       " 'Brand': ['xyz', 'pqr'],\n",
       " 'year': 2000,\n",
       " 'electric': False}"
      ]
     },
     "execution_count": 79,
     "metadata": {},
     "output_type": "execute_result"
    }
   ],
   "source": [
    "dic4"
   ]
  },
  {
   "cell_type": "code",
   "execution_count": 80,
   "id": "3d006f73",
   "metadata": {},
   "outputs": [
    {
     "data": {
      "text/plain": [
       "{'Name': ['ford', 'honda'],\n",
       " 'Brand': ['xyz', 'pqr'],\n",
       " 'year': 2000,\n",
       " 'electric': False}"
      ]
     },
     "execution_count": 80,
     "metadata": {},
     "output_type": "execute_result"
    }
   ],
   "source": [
    "dic1"
   ]
  },
  {
   "cell_type": "code",
   "execution_count": 81,
   "id": "93c37b9d",
   "metadata": {},
   "outputs": [
    {
     "data": {
      "text/plain": [
       "{'Name': ['ford', 'honda'],\n",
       " 'Brand': ['xyz', 'pqr'],\n",
       " 'year': 2000,\n",
       " 'electric': True}"
      ]
     },
     "execution_count": 81,
     "metadata": {},
     "output_type": "execute_result"
    }
   ],
   "source": [
    "dic2"
   ]
  },
  {
   "cell_type": "code",
   "execution_count": 82,
   "id": "1a1890f9",
   "metadata": {},
   "outputs": [
    {
     "name": "stdout",
     "output_type": "stream",
     "text": [
      "Enter the values in the list3,6,\"Pooja\",True,10\n"
     ]
    }
   ],
   "source": [
    "lst = list(input(\"Enter the values in the list\").split(\",\"))"
   ]
  },
  {
   "cell_type": "code",
   "execution_count": 83,
   "id": "35e2badf",
   "metadata": {},
   "outputs": [
    {
     "data": {
      "text/plain": [
       "['3', '6', '\"Pooja\"', 'True', '10']"
      ]
     },
     "execution_count": 83,
     "metadata": {},
     "output_type": "execute_result"
    }
   ],
   "source": [
    "lst"
   ]
  },
  {
   "cell_type": "code",
   "execution_count": 89,
   "id": "ee6ac449",
   "metadata": {},
   "outputs": [
    {
     "name": "stdout",
     "output_type": "stream",
     "text": [
      "Enter the values in the list4,7\n"
     ]
    }
   ],
   "source": [
    "a,b= map(int,input(\"Enter the values in the list\").split(\",\"))"
   ]
  },
  {
   "cell_type": "code",
   "execution_count": 91,
   "id": "2bda72c0",
   "metadata": {},
   "outputs": [
    {
     "data": {
      "text/plain": [
       "(4, 7)"
      ]
     },
     "execution_count": 91,
     "metadata": {},
     "output_type": "execute_result"
    }
   ],
   "source": [
    "a,b\n"
   ]
  },
  {
   "cell_type": "code",
   "execution_count": null,
   "id": "074c7ae3",
   "metadata": {},
   "outputs": [],
   "source": []
  }
 ],
 "metadata": {
  "kernelspec": {
   "display_name": "Python 3 (ipykernel)",
   "language": "python",
   "name": "python3"
  },
  "language_info": {
   "codemirror_mode": {
    "name": "ipython",
    "version": 3
   },
   "file_extension": ".py",
   "mimetype": "text/x-python",
   "name": "python",
   "nbconvert_exporter": "python",
   "pygments_lexer": "ipython3",
   "version": "3.11.5"
  }
 },
 "nbformat": 4,
 "nbformat_minor": 5
}

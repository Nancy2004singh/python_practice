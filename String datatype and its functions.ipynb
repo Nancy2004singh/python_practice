{
 "cells": [
  {
   "cell_type": "markdown",
   "id": "05b65358",
   "metadata": {},
   "source": [
    "# Strings\n",
    "- Strings in python are the sequence of characters.\n",
    "\n",
    "- We can use single quotes or double quotes to represent strings.\n",
    "\n",
    "- Multi-line strings can be denoted using triple quotes, ''' or \"\"\".\n",
    "\n",
    "- A string in Python consists of a series or sequence of characters - letters, numbers, and special characters.\n",
    "\n",
    "- Strings can be indexed starting with 0 which is first character."
   ]
  },
  {
   "cell_type": "code",
   "execution_count": 1,
   "id": "846f4827",
   "metadata": {},
   "outputs": [
    {
     "data": {
      "text/plain": [
       "str"
      ]
     },
     "execution_count": 1,
     "metadata": {},
     "output_type": "execute_result"
    }
   ],
   "source": [
    "_name =\"Pooja\"\n",
    "type(_name)"
   ]
  },
  {
   "cell_type": "code",
   "execution_count": 2,
   "id": "4e840ad9",
   "metadata": {},
   "outputs": [
    {
     "data": {
      "text/plain": [
       "str"
      ]
     },
     "execution_count": 2,
     "metadata": {},
     "output_type": "execute_result"
    }
   ],
   "source": [
    "_str = 'My name is pooja'\n",
    "type(_str)"
   ]
  },
  {
   "cell_type": "code",
   "execution_count": 4,
   "id": "506265b4",
   "metadata": {},
   "outputs": [
    {
     "data": {
      "text/plain": [
       "str"
      ]
     },
     "execution_count": 4,
     "metadata": {},
     "output_type": "execute_result"
    }
   ],
   "source": [
    "_para = '''My name is pooja.\n",
    "I live in Vaishali.\n",
    "I am python trainer'''\n",
    "\n",
    "type(_para)"
   ]
  },
  {
   "cell_type": "code",
   "execution_count": null,
   "id": "db7e00fc",
   "metadata": {},
   "outputs": [],
   "source": []
  },
  {
   "cell_type": "markdown",
   "id": "3370ddf0",
   "metadata": {},
   "source": [
    "# Indexing a String\n",
    "\n",
    "accessing one character based on the position."
   ]
  },
  {
   "cell_type": "code",
   "execution_count": 5,
   "id": "6e54ff92",
   "metadata": {},
   "outputs": [
    {
     "data": {
      "text/plain": [
       "'My name is pooja'"
      ]
     },
     "execution_count": 5,
     "metadata": {},
     "output_type": "execute_result"
    }
   ],
   "source": [
    "_str = 'My name is pooja'\n",
    "_str"
   ]
  },
  {
   "cell_type": "code",
   "execution_count": 6,
   "id": "40629e7f",
   "metadata": {},
   "outputs": [
    {
     "data": {
      "text/plain": [
       "'m'"
      ]
     },
     "execution_count": 6,
     "metadata": {},
     "output_type": "execute_result"
    }
   ],
   "source": [
    "_str[5]"
   ]
  },
  {
   "cell_type": "code",
   "execution_count": 7,
   "id": "d57a2469",
   "metadata": {},
   "outputs": [
    {
     "data": {
      "text/plain": [
       "'M'"
      ]
     },
     "execution_count": 7,
     "metadata": {},
     "output_type": "execute_result"
    }
   ],
   "source": [
    "_str[0]"
   ]
  },
  {
   "cell_type": "code",
   "execution_count": null,
   "id": "73c6ddba",
   "metadata": {},
   "outputs": [],
   "source": [
    "# accessing the last character of string"
   ]
  },
  {
   "cell_type": "code",
   "execution_count": 8,
   "id": "b319328d",
   "metadata": {},
   "outputs": [
    {
     "data": {
      "text/plain": [
       "'a'"
      ]
     },
     "execution_count": 8,
     "metadata": {},
     "output_type": "execute_result"
    }
   ],
   "source": [
    "_str[-1]"
   ]
  },
  {
   "cell_type": "code",
   "execution_count": 10,
   "id": "7ea27107",
   "metadata": {},
   "outputs": [
    {
     "data": {
      "text/plain": [
       "'a'"
      ]
     },
     "execution_count": 10,
     "metadata": {},
     "output_type": "execute_result"
    }
   ],
   "source": [
    "_str[15]"
   ]
  },
  {
   "cell_type": "code",
   "execution_count": 12,
   "id": "a64fef85",
   "metadata": {},
   "outputs": [
    {
     "data": {
      "text/plain": [
       "'a'"
      ]
     },
     "execution_count": 12,
     "metadata": {},
     "output_type": "execute_result"
    }
   ],
   "source": [
    "_str[len(_str)-1]"
   ]
  },
  {
   "cell_type": "markdown",
   "id": "039261bf",
   "metadata": {},
   "source": [
    "# Negative Indexing"
   ]
  },
  {
   "cell_type": "markdown",
   "id": "91e6f665",
   "metadata": {},
   "source": [
    "# "
   ]
  },
  {
   "cell_type": "code",
   "execution_count": null,
   "id": "22cd2620",
   "metadata": {},
   "outputs": [],
   "source": [
    "# accessing the last character of string"
   ]
  },
  {
   "cell_type": "code",
   "execution_count": 13,
   "id": "eed5fb83",
   "metadata": {},
   "outputs": [
    {
     "data": {
      "text/plain": [
       "'a'"
      ]
     },
     "execution_count": 13,
     "metadata": {},
     "output_type": "execute_result"
    }
   ],
   "source": [
    "_str[-1]"
   ]
  },
  {
   "cell_type": "code",
   "execution_count": 14,
   "id": "fb5ac57e",
   "metadata": {},
   "outputs": [
    {
     "data": {
      "text/plain": [
       "'p'"
      ]
     },
     "execution_count": 14,
     "metadata": {},
     "output_type": "execute_result"
    }
   ],
   "source": [
    "_str[-5]"
   ]
  },
  {
   "cell_type": "code",
   "execution_count": null,
   "id": "e49b8591",
   "metadata": {},
   "outputs": [],
   "source": []
  },
  {
   "cell_type": "markdown",
   "id": "6035478e",
   "metadata": {},
   "source": [
    "# String Slicing\n",
    "extracting multiple characters from a string (sub string)\n",
    "Syntax : str[start_idx : end_idx +1]"
   ]
  },
  {
   "cell_type": "code",
   "execution_count": 15,
   "id": "3e4a24e5",
   "metadata": {},
   "outputs": [
    {
     "data": {
      "text/plain": [
       "'My name is pooja'"
      ]
     },
     "execution_count": 15,
     "metadata": {},
     "output_type": "execute_result"
    }
   ],
   "source": [
    "_str"
   ]
  },
  {
   "cell_type": "code",
   "execution_count": 16,
   "id": "931a263c",
   "metadata": {},
   "outputs": [
    {
     "data": {
      "text/plain": [
       "'name'"
      ]
     },
     "execution_count": 16,
     "metadata": {},
     "output_type": "execute_result"
    }
   ],
   "source": [
    "_str[3:7]"
   ]
  },
  {
   "cell_type": "code",
   "execution_count": 18,
   "id": "b8f15c30",
   "metadata": {},
   "outputs": [
    {
     "data": {
      "text/plain": [
       "'pooja'"
      ]
     },
     "execution_count": 18,
     "metadata": {},
     "output_type": "execute_result"
    }
   ],
   "source": [
    "_str[-5:]"
   ]
  },
  {
   "cell_type": "code",
   "execution_count": 20,
   "id": "67d1ec57",
   "metadata": {},
   "outputs": [
    {
     "data": {
      "text/plain": [
       "'pooja'"
      ]
     },
     "execution_count": 20,
     "metadata": {},
     "output_type": "execute_result"
    }
   ],
   "source": [
    "_str[11:]"
   ]
  },
  {
   "cell_type": "code",
   "execution_count": 21,
   "id": "f8b134db",
   "metadata": {},
   "outputs": [
    {
     "data": {
      "text/plain": [
       "'name is pooja'"
      ]
     },
     "execution_count": 21,
     "metadata": {},
     "output_type": "execute_result"
    }
   ],
   "source": [
    "_str[3:]"
   ]
  },
  {
   "cell_type": "code",
   "execution_count": 22,
   "id": "cd6771e4",
   "metadata": {},
   "outputs": [
    {
     "data": {
      "text/plain": [
       "'My name'"
      ]
     },
     "execution_count": 22,
     "metadata": {},
     "output_type": "execute_result"
    }
   ],
   "source": [
    "_str[:7]"
   ]
  },
  {
   "cell_type": "code",
   "execution_count": 23,
   "id": "54a20fd5",
   "metadata": {},
   "outputs": [
    {
     "data": {
      "text/plain": [
       "'My name is pooja'"
      ]
     },
     "execution_count": 23,
     "metadata": {},
     "output_type": "execute_result"
    }
   ],
   "source": [
    "_str[:]"
   ]
  },
  {
   "cell_type": "code",
   "execution_count": null,
   "id": "e0dfbfd6",
   "metadata": {},
   "outputs": [],
   "source": [
    "Syntax : str[start_idx : end_idx +1 : step_size]"
   ]
  },
  {
   "cell_type": "code",
   "execution_count": 34,
   "id": "55764fa1",
   "metadata": {},
   "outputs": [
    {
     "data": {
      "text/plain": [
       "' mipj'"
      ]
     },
     "execution_count": 34,
     "metadata": {},
     "output_type": "execute_result"
    }
   ],
   "source": [
    "# start with index 2, ends at index 14, take jump of 2\n",
    "_str[2:15:3]"
   ]
  },
  {
   "cell_type": "code",
   "execution_count": 27,
   "id": "d258d3ba",
   "metadata": {},
   "outputs": [
    {
     "data": {
      "text/plain": [
       "'ajoo'"
      ]
     },
     "execution_count": 27,
     "metadata": {},
     "output_type": "execute_result"
    }
   ],
   "source": [
    "_str[-1:-5:-1]"
   ]
  },
  {
   "cell_type": "code",
   "execution_count": 30,
   "id": "cc474968",
   "metadata": {},
   "outputs": [
    {
     "data": {
      "text/plain": [
       "'pooj'"
      ]
     },
     "execution_count": 30,
     "metadata": {},
     "output_type": "execute_result"
    }
   ],
   "source": [
    "_str[-5:-1]"
   ]
  },
  {
   "cell_type": "code",
   "execution_count": null,
   "id": "f65e3a17",
   "metadata": {},
   "outputs": [],
   "source": [
    "# quick hack reverse a string"
   ]
  },
  {
   "cell_type": "code",
   "execution_count": 32,
   "id": "178b9e67",
   "metadata": {},
   "outputs": [
    {
     "data": {
      "text/plain": [
       "'ajoop si eman yM'"
      ]
     },
     "execution_count": 32,
     "metadata": {},
     "output_type": "execute_result"
    }
   ],
   "source": [
    "_str[-1::-1]"
   ]
  },
  {
   "cell_type": "code",
   "execution_count": null,
   "id": "7797f70c",
   "metadata": {},
   "outputs": [],
   "source": []
  },
  {
   "cell_type": "code",
   "execution_count": 45,
   "id": "7f772b7c",
   "metadata": {},
   "outputs": [
    {
     "name": "stdout",
     "output_type": "stream",
     "text": [
      "Enter the string : Hello world\n"
     ]
    }
   ],
   "source": [
    "_str= input(\"Enter the string : \")"
   ]
  },
  {
   "cell_type": "code",
   "execution_count": 46,
   "id": "df83c3db",
   "metadata": {},
   "outputs": [
    {
     "data": {
      "text/plain": [
       "'Hello world'"
      ]
     },
     "execution_count": 46,
     "metadata": {},
     "output_type": "execute_result"
    }
   ],
   "source": [
    "_str"
   ]
  },
  {
   "cell_type": "code",
   "execution_count": null,
   "id": "5d5c0f4b",
   "metadata": {},
   "outputs": [],
   "source": []
  },
  {
   "cell_type": "markdown",
   "id": "c18ab03a",
   "metadata": {},
   "source": [
    "# Important Methods related to strings"
   ]
  },
  {
   "cell_type": "raw",
   "id": "73904c3b",
   "metadata": {},
   "source": [
    "len()\n",
    "lower()\n",
    "upper()\n",
    "find()\n",
    "split()\n",
    "count()\n",
    "replace()\n",
    "lstrip()\n",
    "rstrip()\n",
    "strip()"
   ]
  },
  {
   "cell_type": "code",
   "execution_count": 47,
   "id": "64e6c9cf",
   "metadata": {},
   "outputs": [
    {
     "data": {
      "text/plain": [
       "'Hello world'"
      ]
     },
     "execution_count": 47,
     "metadata": {},
     "output_type": "execute_result"
    }
   ],
   "source": [
    "_str "
   ]
  },
  {
   "cell_type": "code",
   "execution_count": 48,
   "id": "3e32a840",
   "metadata": {},
   "outputs": [
    {
     "name": "stdout",
     "output_type": "stream",
     "text": [
      "Length of string is :  11\n"
     ]
    }
   ],
   "source": [
    "print(\"Length of string is : \",len(_str))"
   ]
  },
  {
   "cell_type": "code",
   "execution_count": 68,
   "id": "1b5901a0",
   "metadata": {},
   "outputs": [
    {
     "name": "stdout",
     "output_type": "stream",
     "text": [
      "Enter the string : Hello,world\n"
     ]
    }
   ],
   "source": [
    "_str1= input(\"Enter the string : \")"
   ]
  },
  {
   "cell_type": "code",
   "execution_count": 50,
   "id": "56c539f9",
   "metadata": {},
   "outputs": [
    {
     "data": {
      "text/plain": [
       "14"
      ]
     },
     "execution_count": 50,
     "metadata": {},
     "output_type": "execute_result"
    }
   ],
   "source": [
    "len(_str1)"
   ]
  },
  {
   "cell_type": "code",
   "execution_count": 57,
   "id": "9f3bba52",
   "metadata": {},
   "outputs": [
    {
     "ename": "TypeError",
     "evalue": "object of type 'int' has no len()",
     "output_type": "error",
     "traceback": [
      "\u001b[1;31m---------------------------------------------------------------------------\u001b[0m",
      "\u001b[1;31mTypeError\u001b[0m                                 Traceback (most recent call last)",
      "Cell \u001b[1;32mIn[57], line 1\u001b[0m\n\u001b[1;32m----> 1\u001b[0m \u001b[38;5;28;43mlen\u001b[39;49m\u001b[43m(\u001b[49m\u001b[38;5;241;43m56\u001b[39;49m\u001b[43m)\u001b[49m\n",
      "\u001b[1;31mTypeError\u001b[0m: object of type 'int' has no len()"
     ]
    }
   ],
   "source": [
    "len(56)"
   ]
  },
  {
   "cell_type": "code",
   "execution_count": 51,
   "id": "19ee8606",
   "metadata": {},
   "outputs": [
    {
     "data": {
      "text/plain": [
       "'Welcome to TGC'"
      ]
     },
     "execution_count": 51,
     "metadata": {},
     "output_type": "execute_result"
    }
   ],
   "source": [
    "_str1"
   ]
  },
  {
   "cell_type": "code",
   "execution_count": 52,
   "id": "f768acdf",
   "metadata": {},
   "outputs": [
    {
     "data": {
      "text/plain": [
       "'hello world'"
      ]
     },
     "execution_count": 52,
     "metadata": {},
     "output_type": "execute_result"
    }
   ],
   "source": [
    "_str.lower()"
   ]
  },
  {
   "cell_type": "code",
   "execution_count": 53,
   "id": "1f3b9477",
   "metadata": {},
   "outputs": [
    {
     "data": {
      "text/plain": [
       "'welcome to tgc'"
      ]
     },
     "execution_count": 53,
     "metadata": {},
     "output_type": "execute_result"
    }
   ],
   "source": [
    "_str1.lower()"
   ]
  },
  {
   "cell_type": "code",
   "execution_count": 58,
   "id": "31e7b7ca",
   "metadata": {},
   "outputs": [
    {
     "data": {
      "text/plain": [
       "'HELLO WORLD'"
      ]
     },
     "execution_count": 58,
     "metadata": {},
     "output_type": "execute_result"
    }
   ],
   "source": [
    "_str.upper()"
   ]
  },
  {
   "cell_type": "code",
   "execution_count": 59,
   "id": "d3fcaa57",
   "metadata": {},
   "outputs": [
    {
     "data": {
      "text/plain": [
       "'WELCOME TO TGC'"
      ]
     },
     "execution_count": 59,
     "metadata": {},
     "output_type": "execute_result"
    }
   ],
   "source": [
    "_str1.upper()"
   ]
  },
  {
   "cell_type": "code",
   "execution_count": 60,
   "id": "57867ec2",
   "metadata": {},
   "outputs": [
    {
     "data": {
      "text/plain": [
       "'Welcome to tgc'"
      ]
     },
     "execution_count": 60,
     "metadata": {},
     "output_type": "execute_result"
    }
   ],
   "source": [
    "_str1.capitalize()"
   ]
  },
  {
   "cell_type": "code",
   "execution_count": 81,
   "id": "0f13d40e",
   "metadata": {},
   "outputs": [],
   "source": [
    "_para = '''my name is pooja.\n",
    "i live is Vaishali.\n",
    "i am python trainer'''\n"
   ]
  },
  {
   "cell_type": "code",
   "execution_count": 62,
   "id": "17fc236b",
   "metadata": {},
   "outputs": [
    {
     "data": {
      "text/plain": [
       "'My name is pooja.\\ni live in vaishali.\\ni am python trainer'"
      ]
     },
     "execution_count": 62,
     "metadata": {},
     "output_type": "execute_result"
    }
   ],
   "source": [
    "_para.capitalize()"
   ]
  },
  {
   "cell_type": "code",
   "execution_count": 63,
   "id": "02868d15",
   "metadata": {},
   "outputs": [
    {
     "data": {
      "text/plain": [
       "20"
      ]
     },
     "execution_count": 63,
     "metadata": {},
     "output_type": "execute_result"
    }
   ],
   "source": [
    "_para.find('live')"
   ]
  },
  {
   "cell_type": "code",
   "execution_count": 65,
   "id": "58ebd592",
   "metadata": {},
   "outputs": [
    {
     "data": {
      "text/plain": [
       "'live'"
      ]
     },
     "execution_count": 65,
     "metadata": {},
     "output_type": "execute_result"
    }
   ],
   "source": [
    "_para[20:24]"
   ]
  },
  {
   "cell_type": "code",
   "execution_count": 66,
   "id": "c38cffbe",
   "metadata": {},
   "outputs": [
    {
     "data": {
      "text/plain": [
       "['Welcome', 'to', 'TGC']"
      ]
     },
     "execution_count": 66,
     "metadata": {},
     "output_type": "execute_result"
    }
   ],
   "source": [
    "_str1.split(\" \")"
   ]
  },
  {
   "cell_type": "code",
   "execution_count": 67,
   "id": "7f612694",
   "metadata": {},
   "outputs": [
    {
     "data": {
      "text/plain": [
       "['my name is pooja.', 'i live in Vaishali.', 'i am python trainer']"
      ]
     },
     "execution_count": 67,
     "metadata": {},
     "output_type": "execute_result"
    }
   ],
   "source": [
    "_para.split(\"\\n\")"
   ]
  },
  {
   "cell_type": "code",
   "execution_count": 70,
   "id": "5b5494bc",
   "metadata": {},
   "outputs": [
    {
     "data": {
      "text/plain": [
       "'Hello,world'"
      ]
     },
     "execution_count": 70,
     "metadata": {},
     "output_type": "execute_result"
    }
   ],
   "source": [
    "_str1"
   ]
  },
  {
   "cell_type": "code",
   "execution_count": 71,
   "id": "9dd75c4b",
   "metadata": {},
   "outputs": [
    {
     "data": {
      "text/plain": [
       "['Hello', 'world']"
      ]
     },
     "execution_count": 71,
     "metadata": {},
     "output_type": "execute_result"
    }
   ],
   "source": [
    "_str1.split(\",\")"
   ]
  },
  {
   "cell_type": "code",
   "execution_count": 72,
   "id": "2539edf3",
   "metadata": {},
   "outputs": [
    {
     "data": {
      "text/plain": [
       "3"
      ]
     },
     "execution_count": 72,
     "metadata": {},
     "output_type": "execute_result"
    }
   ],
   "source": [
    "_str1.count('l')"
   ]
  },
  {
   "cell_type": "code",
   "execution_count": 74,
   "id": "4d35b809",
   "metadata": {},
   "outputs": [
    {
     "data": {
      "text/plain": [
       "3"
      ]
     },
     "execution_count": 74,
     "metadata": {},
     "output_type": "execute_result"
    }
   ],
   "source": [
    "_para.count('is')"
   ]
  },
  {
   "cell_type": "code",
   "execution_count": 77,
   "id": "4aa8f96c",
   "metadata": {},
   "outputs": [
    {
     "data": {
      "text/plain": [
       "'my name is pooja.\\ni live in Vaishali.\\ni am python trainer'"
      ]
     },
     "execution_count": 77,
     "metadata": {},
     "output_type": "execute_result"
    }
   ],
   "source": [
    "_para.replace('is V','in V')"
   ]
  },
  {
   "cell_type": "code",
   "execution_count": 82,
   "id": "a715b8d4",
   "metadata": {},
   "outputs": [
    {
     "data": {
      "text/plain": [
       "'my name is pooja.\\nI live is Vaishali.\\nI am python trainer'"
      ]
     },
     "execution_count": 82,
     "metadata": {},
     "output_type": "execute_result"
    }
   ],
   "source": [
    "_para.replace('i ',\"I \")"
   ]
  },
  {
   "cell_type": "code",
   "execution_count": 83,
   "id": "5f009b48",
   "metadata": {},
   "outputs": [
    {
     "name": "stdout",
     "output_type": "stream",
     "text": [
      "Enter the string     hello world    \n"
     ]
    }
   ],
   "source": [
    "_str3 =input(\"Enter the string\")"
   ]
  },
  {
   "cell_type": "code",
   "execution_count": 84,
   "id": "e5236719",
   "metadata": {},
   "outputs": [
    {
     "data": {
      "text/plain": [
       "'     hello world    '"
      ]
     },
     "execution_count": 84,
     "metadata": {},
     "output_type": "execute_result"
    }
   ],
   "source": [
    "_str3"
   ]
  },
  {
   "cell_type": "code",
   "execution_count": 85,
   "id": "f38177a7",
   "metadata": {},
   "outputs": [
    {
     "data": {
      "text/plain": [
       "'hello world    '"
      ]
     },
     "execution_count": 85,
     "metadata": {},
     "output_type": "execute_result"
    }
   ],
   "source": [
    "_str3.lstrip()"
   ]
  },
  {
   "cell_type": "code",
   "execution_count": 86,
   "id": "87a4cb90",
   "metadata": {},
   "outputs": [
    {
     "data": {
      "text/plain": [
       "'     hello world'"
      ]
     },
     "execution_count": 86,
     "metadata": {},
     "output_type": "execute_result"
    }
   ],
   "source": [
    "_str3.rstrip()"
   ]
  },
  {
   "cell_type": "code",
   "execution_count": 87,
   "id": "1ae7b2a0",
   "metadata": {},
   "outputs": [
    {
     "data": {
      "text/plain": [
       "'hello world'"
      ]
     },
     "execution_count": 87,
     "metadata": {},
     "output_type": "execute_result"
    }
   ],
   "source": [
    "_str3.strip()"
   ]
  },
  {
   "cell_type": "markdown",
   "id": "45a9ddc3",
   "metadata": {},
   "source": [
    "# Few Operations on Strings"
   ]
  },
  {
   "cell_type": "code",
   "execution_count": null,
   "id": "bae47cf9",
   "metadata": {},
   "outputs": [],
   "source": [
    "# concatenation 2 of strings :+"
   ]
  },
  {
   "cell_type": "code",
   "execution_count": 88,
   "id": "81dc25a1",
   "metadata": {},
   "outputs": [
    {
     "name": "stdout",
     "output_type": "stream",
     "text": [
      "Enter the number= 45\n",
      "Enter the stringhello\n"
     ]
    }
   ],
   "source": [
    "n=int(input(\"Enter the number= \"))\n",
    "_str = input(\"Enter the string\")"
   ]
  },
  {
   "cell_type": "code",
   "execution_count": 91,
   "id": "484fa559",
   "metadata": {},
   "outputs": [
    {
     "data": {
      "text/plain": [
       "'45 hello'"
      ]
     },
     "execution_count": 91,
     "metadata": {},
     "output_type": "execute_result"
    }
   ],
   "source": [
    "str(n)+\" \"+_str"
   ]
  },
  {
   "cell_type": "code",
   "execution_count": 92,
   "id": "fce831f8",
   "metadata": {},
   "outputs": [
    {
     "ename": "ValueError",
     "evalue": "invalid literal for int() with base 10: 'hello'",
     "output_type": "error",
     "traceback": [
      "\u001b[1;31m---------------------------------------------------------------------------\u001b[0m",
      "\u001b[1;31mValueError\u001b[0m                                Traceback (most recent call last)",
      "Cell \u001b[1;32mIn[92], line 1\u001b[0m\n\u001b[1;32m----> 1\u001b[0m n\u001b[38;5;241m+\u001b[39m\u001b[38;5;28;43mint\u001b[39;49m\u001b[43m(\u001b[49m\u001b[43m_str\u001b[49m\u001b[43m)\u001b[49m\n",
      "\u001b[1;31mValueError\u001b[0m: invalid literal for int() with base 10: 'hello'"
     ]
    }
   ],
   "source": [
    "n+int(_str)"
   ]
  },
  {
   "cell_type": "code",
   "execution_count": 93,
   "id": "1644a2ce",
   "metadata": {},
   "outputs": [
    {
     "name": "stdout",
     "output_type": "stream",
     "text": [
      "Enter the first name : Pooja\n",
      "Enter the last name : Singh\n",
      "Full name of the student is  Pooja Singh\n"
     ]
    }
   ],
   "source": [
    "First_name = input(\"Enter the first name : \")\n",
    "Last_name = input(\"Enter the last name : \")\n",
    "\n",
    "Full_name = First_name + \" \" + Last_name\n",
    "print(\"Full name of the student is \", Full_name)"
   ]
  },
  {
   "cell_type": "code",
   "execution_count": null,
   "id": "21030187",
   "metadata": {},
   "outputs": [],
   "source": []
  },
  {
   "cell_type": "code",
   "execution_count": null,
   "id": "b7d2513b",
   "metadata": {},
   "outputs": [],
   "source": [
    "# cannot concatenate other data type"
   ]
  },
  {
   "cell_type": "code",
   "execution_count": 94,
   "id": "45e4af29",
   "metadata": {},
   "outputs": [
    {
     "ename": "TypeError",
     "evalue": "unsupported operand type(s) for +: 'int' and 'str'",
     "output_type": "error",
     "traceback": [
      "\u001b[1;31m---------------------------------------------------------------------------\u001b[0m",
      "\u001b[1;31mTypeError\u001b[0m                                 Traceback (most recent call last)",
      "Cell \u001b[1;32mIn[94], line 1\u001b[0m\n\u001b[1;32m----> 1\u001b[0m \u001b[43mn\u001b[49m\u001b[43m \u001b[49m\u001b[38;5;241;43m+\u001b[39;49m\u001b[43m \u001b[49m\u001b[43m_str\u001b[49m\n",
      "\u001b[1;31mTypeError\u001b[0m: unsupported operand type(s) for +: 'int' and 'str'"
     ]
    }
   ],
   "source": [
    "n + _str"
   ]
  },
  {
   "cell_type": "code",
   "execution_count": 95,
   "id": "0165e2f6",
   "metadata": {},
   "outputs": [],
   "source": [
    "# Multiplication of string with int n results into repetition string n times. *"
   ]
  },
  {
   "cell_type": "code",
   "execution_count": 97,
   "id": "a1bbbab0",
   "metadata": {},
   "outputs": [
    {
     "data": {
      "text/plain": [
       "'hellohellohello '"
      ]
     },
     "execution_count": 97,
     "metadata": {},
     "output_type": "execute_result"
    }
   ],
   "source": [
    "3*_str"
   ]
  },
  {
   "cell_type": "code",
   "execution_count": null,
   "id": "a62ddb2a",
   "metadata": {},
   "outputs": [],
   "source": []
  }
 ],
 "metadata": {
  "kernelspec": {
   "display_name": "Python 3 (ipykernel)",
   "language": "python",
   "name": "python3"
  },
  "language_info": {
   "codemirror_mode": {
    "name": "ipython",
    "version": 3
   },
   "file_extension": ".py",
   "mimetype": "text/x-python",
   "name": "python",
   "nbconvert_exporter": "python",
   "pygments_lexer": "ipython3",
   "version": "3.11.5"
  }
 },
 "nbformat": 4,
 "nbformat_minor": 5
}

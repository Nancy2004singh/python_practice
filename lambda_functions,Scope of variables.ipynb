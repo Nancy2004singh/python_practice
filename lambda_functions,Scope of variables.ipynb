{
 "cells": [
  {
   "cell_type": "markdown",
   "id": "82d41938",
   "metadata": {},
   "source": [
    "Create a function called word_count that takes a string as input and returns a dictionary where the keys are the words in the string and the values are the frequencies of the words."
   ]
  },
  {
   "cell_type": "code",
   "execution_count": 13,
   "id": "26240850",
   "metadata": {},
   "outputs": [],
   "source": [
    "def count_word(n):\n",
    "    c_word = {}\n",
    "    words = n.split(\" \")\n",
    "    \n",
    "    for i in words:\n",
    "        c_word[i]=n.count(i)\n",
    "    print(c_word)    "
   ]
  },
  {
   "cell_type": "code",
   "execution_count": 14,
   "id": "4e2298af",
   "metadata": {},
   "outputs": [
    {
     "name": "stdout",
     "output_type": "stream",
     "text": [
      "{'My': 1, 'name': 1, 'is': 2, 'Pooja': 2, '36': 1, 'yrs': 1, 'old': 1}\n"
     ]
    }
   ],
   "source": [
    "count_word( \"My name is Pooja Pooja is 36 yrs old\")\n"
   ]
  },
  {
   "cell_type": "markdown",
   "id": "fe8a0851",
   "metadata": {},
   "source": [
    "Write a function called unique_elements that takes two lists as input and returns a new list containing only the unique elements present in both lists."
   ]
  },
  {
   "cell_type": "code",
   "execution_count": 28,
   "id": "190b8c3d",
   "metadata": {},
   "outputs": [],
   "source": [
    "l1=[1,2,5,6]\n",
    "l2=[6,3,2,7]\n",
    "\n",
    "l3=[1,5,3,7]"
   ]
  },
  {
   "cell_type": "code",
   "execution_count": 24,
   "id": "23dfc129",
   "metadata": {},
   "outputs": [],
   "source": [
    "def unique_item(l1,l2):\n",
    "    l3=[]   \n",
    "    for i in l1:\n",
    "        for j in l2:\n",
    "            if i!=j and i not in l3:\n",
    "                l3.append(i)\n",
    "    for k in l2:\n",
    "        for l in l1:\n",
    "            if k!=l and k not in l3:\n",
    "                l3.append(k)\n",
    "    print(l3)            \n",
    "    "
   ]
  },
  {
   "cell_type": "code",
   "execution_count": 25,
   "id": "1c8e7ddc",
   "metadata": {},
   "outputs": [
    {
     "name": "stdout",
     "output_type": "stream",
     "text": [
      "[1, 2, 5, 6, 3, 7]\n"
     ]
    }
   ],
   "source": [
    "unique_item([1,2,5,6],[6,3,2,7])"
   ]
  },
  {
   "cell_type": "code",
   "execution_count": 48,
   "id": "1ae296cb",
   "metadata": {},
   "outputs": [],
   "source": [
    "def unique_item(l1,l2):\n",
    "    l1 = set(l1)\n",
    "    l2= set(l2)\n",
    "    l2.symmetric_difference_update(l1)\n",
    "    print(list(l2))"
   ]
  },
  {
   "cell_type": "code",
   "execution_count": 49,
   "id": "6cda5504",
   "metadata": {},
   "outputs": [
    {
     "name": "stdout",
     "output_type": "stream",
     "text": [
      "[1, 3, 5, 7]\n"
     ]
    }
   ],
   "source": [
    "unique_item([1,2,5,6],[6,3,2,7])"
   ]
  },
  {
   "cell_type": "code",
   "execution_count": 38,
   "id": "b362d40f",
   "metadata": {},
   "outputs": [
    {
     "data": {
      "text/plain": [
       "{1, 3, 5, 7}"
      ]
     },
     "execution_count": 38,
     "metadata": {},
     "output_type": "execute_result"
    }
   ],
   "source": [
    "l1={1,2,5,6}\n",
    "l2={6,3,2,7}\n",
    "l2.symmetric_difference_update(l1)\n",
    "l2"
   ]
  },
  {
   "cell_type": "code",
   "execution_count": 53,
   "id": "36dbca97",
   "metadata": {},
   "outputs": [],
   "source": [
    "a=20\n",
    "\n",
    "def func():\n",
    "    global a\n",
    "    a=0\n",
    "    return a+10"
   ]
  },
  {
   "cell_type": "code",
   "execution_count": 54,
   "id": "840da98f",
   "metadata": {},
   "outputs": [
    {
     "name": "stdout",
     "output_type": "stream",
     "text": [
      "10\n",
      "0\n"
     ]
    }
   ],
   "source": [
    "print(func())\n",
    "\n",
    "print(a)"
   ]
  },
  {
   "cell_type": "code",
   "execution_count": 58,
   "id": "773979b7",
   "metadata": {},
   "outputs": [],
   "source": [
    "Global_var =100\n",
    "\n",
    "def xyz():\n",
    "    global local_var\n",
    "    local_var =20\n",
    "    print(local_var)"
   ]
  },
  {
   "cell_type": "code",
   "execution_count": 59,
   "id": "2b881694",
   "metadata": {},
   "outputs": [
    {
     "name": "stdout",
     "output_type": "stream",
     "text": [
      "20\n",
      "100\n",
      "20\n"
     ]
    }
   ],
   "source": [
    "xyz()\n",
    "print(Global_var)\n",
    "print(local_var)"
   ]
  },
  {
   "cell_type": "markdown",
   "id": "b88f471a",
   "metadata": {},
   "source": [
    "# Lambda Function\n",
    "A lambda function is a small anonymous function.\n",
    "\n",
    "A lambda function can take any number of arguments, but can only have one expression."
   ]
  },
  {
   "cell_type": "markdown",
   "id": "3363877e",
   "metadata": {},
   "source": [
    "lambda arguments : expression"
   ]
  },
  {
   "cell_type": "code",
   "execution_count": 63,
   "id": "b845fe17",
   "metadata": {},
   "outputs": [
    {
     "data": {
      "text/plain": [
       "20"
      ]
     },
     "execution_count": 63,
     "metadata": {},
     "output_type": "execute_result"
    }
   ],
   "source": [
    "#Add 10 to argument a, and return the result:\n",
    "y=lambda a:a+10\n",
    "y(10)"
   ]
  },
  {
   "cell_type": "code",
   "execution_count": 66,
   "id": "7b57d5e1",
   "metadata": {},
   "outputs": [
    {
     "name": "stdout",
     "output_type": "stream",
     "text": [
      "Enter the number4,5\n"
     ]
    },
    {
     "data": {
      "text/plain": [
       "20"
      ]
     },
     "execution_count": 66,
     "metadata": {},
     "output_type": "execute_result"
    }
   ],
   "source": [
    "#Multiply argument a with argument b and return the result:\n",
    "y = lambda a,b:a*b\n",
    "a,b=map(int,input(\"Enter the number\").split(\",\"))\n",
    "y(a,b)"
   ]
  },
  {
   "cell_type": "code",
   "execution_count": 67,
   "id": "c60c09c8",
   "metadata": {},
   "outputs": [
    {
     "name": "stdout",
     "output_type": "stream",
     "text": [
      "22\n"
     ]
    }
   ],
   "source": [
    "def myfunc(n):\n",
    "    return lambda a : a * n\n",
    "\n",
    "y = myfunc(2)\n",
    "\n",
    "print(y(11))"
   ]
  },
  {
   "cell_type": "code",
   "execution_count": 68,
   "id": "ea7d216b",
   "metadata": {},
   "outputs": [],
   "source": [
    "y=lambda x: \"Even\" if x%2==0 else \"Odd\""
   ]
  },
  {
   "cell_type": "code",
   "execution_count": 70,
   "id": "5c1d5c69",
   "metadata": {},
   "outputs": [
    {
     "data": {
      "text/plain": [
       "'Odd'"
      ]
     },
     "execution_count": 70,
     "metadata": {},
     "output_type": "execute_result"
    }
   ],
   "source": [
    "y(21)"
   ]
  },
  {
   "cell_type": "code",
   "execution_count": 71,
   "id": "634a8bec",
   "metadata": {},
   "outputs": [
    {
     "data": {
      "text/plain": [
       "'Fruit name is Apple'"
      ]
     },
     "execution_count": 71,
     "metadata": {},
     "output_type": "execute_result"
    }
   ],
   "source": [
    "y=lambda x : f\"Fruit name is {x}\"\n",
    "y(\"Apple\")"
   ]
  },
  {
   "cell_type": "markdown",
   "id": "542fd949",
   "metadata": {},
   "source": [
    "# Map:\n",
    "The map function is used to apply a specific function to each element of a sequence and returns a new sequence with the modified values."
   ]
  },
  {
   "cell_type": "code",
   "execution_count": 75,
   "id": "0ce61938",
   "metadata": {},
   "outputs": [],
   "source": [
    "fruit =['apple','banana','grapes','cherry']\n",
    "\n",
    "z=list(map(lambda x : f\"Fruit name is {x}\",fruit))\n",
    "\n",
    "y=list(map(lambda x : x.upper(),fruit))\n",
    "\n"
   ]
  },
  {
   "cell_type": "code",
   "execution_count": 76,
   "id": "cd82df5e",
   "metadata": {},
   "outputs": [
    {
     "data": {
      "text/plain": [
       "['Fruit name is apple',\n",
       " 'Fruit name is banana',\n",
       " 'Fruit name is grapes',\n",
       " 'Fruit name is cherry']"
      ]
     },
     "execution_count": 76,
     "metadata": {},
     "output_type": "execute_result"
    }
   ],
   "source": [
    "z"
   ]
  },
  {
   "cell_type": "code",
   "execution_count": 77,
   "id": "1bab06dd",
   "metadata": {},
   "outputs": [
    {
     "data": {
      "text/plain": [
       "['APPLE', 'BANANA', 'GRAPES', 'CHERRY']"
      ]
     },
     "execution_count": 77,
     "metadata": {},
     "output_type": "execute_result"
    }
   ],
   "source": [
    "y"
   ]
  },
  {
   "cell_type": "code",
   "execution_count": 84,
   "id": "0a390650",
   "metadata": {},
   "outputs": [
    {
     "data": {
      "text/plain": [
       "[90.0, 113.0, 153.0, 93.0, 73.0, 32.0]"
      ]
     },
     "execution_count": 84,
     "metadata": {},
     "output_type": "execute_result"
    }
   ],
   "source": [
    "temp =[32,45,67,34,23,0]\n",
    "ferenh = list(map(lambda x: round((x*(9/5)+32),0),temp))\n",
    "ferenh"
   ]
  },
  {
   "cell_type": "code",
   "execution_count": 86,
   "id": "4b410244",
   "metadata": {},
   "outputs": [
    {
     "data": {
      "text/plain": [
       "2.0"
      ]
     },
     "execution_count": 86,
     "metadata": {},
     "output_type": "execute_result"
    }
   ],
   "source": [
    "4/2"
   ]
  },
  {
   "cell_type": "markdown",
   "id": "39c1c18a",
   "metadata": {},
   "source": [
    "Q1 : Given a list of tuples representing (name, age), use the map function and a lambda function to extract\n",
    "just the names into a new list.\n",
    "- people = [(\"Alice\", 25), (\"Bob\", 30), (\"Claire\", 22)]"
   ]
  },
  {
   "cell_type": "markdown",
   "id": "23930f9c",
   "metadata": {},
   "source": [
    "Q2 : Use the map function and lambda function to find the sum of the corresponding elements of two lists.\n"
   ]
  },
  {
   "cell_type": "markdown",
   "id": "0378d583",
   "metadata": {},
   "source": [
    "Q3 : Given two lists, use the map function and a lambda function to find the maximum of corresponding elements \n",
    "of the two lists.\n"
   ]
  },
  {
   "cell_type": "markdown",
   "id": "53482828",
   "metadata": {},
   "source": [
    "Q4 :Use the map function and a lambda function to perform element-wise addition of multiple lists.\n"
   ]
  },
  {
   "cell_type": "markdown",
   "id": "c9974386",
   "metadata": {},
   "source": [
    "Q5 : Given a list of strings, use the map function and a lambda function to find the longest word in each string."
   ]
  },
  {
   "cell_type": "markdown",
   "id": "e228df71",
   "metadata": {},
   "source": [
    "Q6: Given a list of names ['Alice', 'Bob', 'Charlie', 'David'], write a lambda function and \n",
    "use the map() function to convert each name to uppercase."
   ]
  },
  {
   "cell_type": "code",
   "execution_count": null,
   "id": "0177ee2c",
   "metadata": {},
   "outputs": [],
   "source": []
  },
  {
   "cell_type": "code",
   "execution_count": null,
   "id": "1bfb9911",
   "metadata": {},
   "outputs": [],
   "source": []
  },
  {
   "cell_type": "code",
   "execution_count": null,
   "id": "0ea45ee2",
   "metadata": {},
   "outputs": [],
   "source": []
  },
  {
   "cell_type": "code",
   "execution_count": 96,
   "id": "0014f50c",
   "metadata": {},
   "outputs": [
    {
     "name": "stdout",
     "output_type": "stream",
     "text": [
      "[2, 3, 5, 7]\n",
      "[4, 6]\n"
     ]
    }
   ],
   "source": [
    "def pricom(*arg):\n",
    "  prime=[]\n",
    "  composite=[]\n",
    "  for i in arg:\n",
    "    for j in range(2,i):\n",
    "      if i%j==0:\n",
    "        composite.append(i)\n",
    "        break  \n",
    "    else:\n",
    "       prime.append(i)\n",
    "  print(prime)\n",
    "  print(composite)\n",
    "  \n",
    "pricom(2,3,4,5,6,7)"
   ]
  },
  {
   "cell_type": "code",
   "execution_count": null,
   "id": "3766e674",
   "metadata": {},
   "outputs": [],
   "source": []
  }
 ],
 "metadata": {
  "kernelspec": {
   "display_name": "Python 3 (ipykernel)",
   "language": "python",
   "name": "python3"
  },
  "language_info": {
   "codemirror_mode": {
    "name": "ipython",
    "version": 3
   },
   "file_extension": ".py",
   "mimetype": "text/x-python",
   "name": "python",
   "nbconvert_exporter": "python",
   "pygments_lexer": "ipython3",
   "version": "3.11.5"
  }
 },
 "nbformat": 4,
 "nbformat_minor": 5
}

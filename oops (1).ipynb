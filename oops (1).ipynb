{
 "cells": [
  {
   "cell_type": "markdown",
   "id": "e42c734c",
   "metadata": {},
   "source": [
    "# Procedural Vs. Object Oriented Programming\n",
    "\n",
    "Procedural Languages :\n",
    "\n",
    "Examples - C, FORTRAN, Pascal etc.\n",
    "In procedural programming, program is divided into small parts called functions. It follows a step-by-step approach to break down a task into a collection of variables and routines (or subroutines) through a sequence of instructions.\n",
    "There can be security problems, since you can't hide data.\n",
    "\n",
    "\n",
    "Object Oriented Languages :\n",
    "\n",
    "Examples - C++, Java, Python etc.\n",
    "In object oriented programming, program is divided into small parts called objects.\n",
    "OOP is more secure than POP, as it offers access modifiers to hide your data.\n",
    "OOP : Easier to design, reuse components and build large software."
   ]
  },
  {
   "cell_type": "markdown",
   "id": "4ffec393",
   "metadata": {},
   "source": [
    "# OOPs\n",
    "- Object Oriented Programming Systems\n",
    "- Classes and Objects.\n",
    "\n",
    "Abstraction\n",
    "\n",
    "- Data Abstraction is the property through which only the essential details are displayed to the user.\n",
    "Hiding the implementation\n",
    "- e.g. the working of a car.\n",
    "\n",
    "Encapsulation\n",
    "\n",
    "- wrapping up of data into one unit.\n",
    "- All the properties and methods are combined together.\n",
    "\n",
    "Inheritance\n",
    "\n",
    "- It is the mechanism by which one class is allowed to inherit the features(properties and methods) of another class.\n",
    "- This offers a lot of resuablity of code.\n",
    "\n",
    "Polymorphism\n",
    "\n",
    "- The word polymorphism means having many forms.\n",
    "- We can define polymorphism as the ability of a message to be displayed in more than one form."
   ]
  },
  {
   "cell_type": "code",
   "execution_count": 2,
   "id": "e71511c5",
   "metadata": {},
   "outputs": [],
   "source": [
    "l= list()"
   ]
  },
  {
   "cell_type": "code",
   "execution_count": 3,
   "id": "b8bf68a1",
   "metadata": {},
   "outputs": [
    {
     "data": {
      "text/plain": [
       "list"
      ]
     },
     "execution_count": 3,
     "metadata": {},
     "output_type": "execute_result"
    }
   ],
   "source": [
    "type(l)"
   ]
  },
  {
   "cell_type": "code",
   "execution_count": 6,
   "id": "034316d9",
   "metadata": {},
   "outputs": [],
   "source": [
    "l=[1,2,3,10,0]"
   ]
  },
  {
   "cell_type": "code",
   "execution_count": 9,
   "id": "12848ae9",
   "metadata": {},
   "outputs": [],
   "source": [
    "l.sort(reverse=True)"
   ]
  },
  {
   "cell_type": "code",
   "execution_count": 10,
   "id": "a71cf2dd",
   "metadata": {},
   "outputs": [
    {
     "data": {
      "text/plain": [
       "[10, 3, 2, 1, 0]"
      ]
     },
     "execution_count": 10,
     "metadata": {},
     "output_type": "execute_result"
    }
   ],
   "source": [
    "l"
   ]
  },
  {
   "cell_type": "code",
   "execution_count": 1,
   "id": "d0b57f86",
   "metadata": {},
   "outputs": [],
   "source": [
    "class MyClass:\n",
    "    x=5\n",
    "    "
   ]
  },
  {
   "cell_type": "code",
   "execution_count": 2,
   "id": "828991a0",
   "metadata": {},
   "outputs": [],
   "source": [
    "m = MyClass()"
   ]
  },
  {
   "cell_type": "code",
   "execution_count": 3,
   "id": "5f77f4dd",
   "metadata": {},
   "outputs": [
    {
     "data": {
      "text/plain": [
       "__main__.MyClass"
      ]
     },
     "execution_count": 3,
     "metadata": {},
     "output_type": "execute_result"
    }
   ],
   "source": [
    "type(m)"
   ]
  },
  {
   "cell_type": "markdown",
   "id": "68f8f48b",
   "metadata": {},
   "source": [
    "What does this __main__ mean?\n",
    "\n",
    "The script invoked directly is considered to be in the main module. It can be imported and accessed the same way as any other module."
   ]
  },
  {
   "cell_type": "code",
   "execution_count": 5,
   "id": "f2dfe76a",
   "metadata": {},
   "outputs": [
    {
     "data": {
      "text/plain": [
       "<__main__.MyClass at 0x2005a79f510>"
      ]
     },
     "execution_count": 5,
     "metadata": {},
     "output_type": "execute_result"
    }
   ],
   "source": [
    "m"
   ]
  },
  {
   "cell_type": "code",
   "execution_count": 33,
   "id": "188cab5b",
   "metadata": {},
   "outputs": [],
   "source": [
    "class Human():\n",
    "    def __init__(self):\n",
    "    \n",
    "        self.name= input(\"Enter the name\")\n",
    "        self.age = int(input(\"enter the age\"))\n",
    "#        print(self.name,self.age)\n",
    "\n",
    "        \n",
    "    def introduce(self,a):\n",
    "        print(f\"My name is {self.name} and I am {self.age} years old,{a}\")"
   ]
  },
  {
   "cell_type": "code",
   "execution_count": 36,
   "id": "8f6ef8ac",
   "metadata": {},
   "outputs": [
    {
     "name": "stdout",
     "output_type": "stream",
     "text": [
      "Enter the namerhgf\n",
      "enter the age3\n"
     ]
    }
   ],
   "source": [
    "h1 = Human()"
   ]
  },
  {
   "cell_type": "code",
   "execution_count": 37,
   "id": "d85d911d",
   "metadata": {},
   "outputs": [
    {
     "name": "stdout",
     "output_type": "stream",
     "text": [
      "My name is rhgf and I am 3 years old,F\n"
     ]
    }
   ],
   "source": [
    "h1.introduce(\"F\")"
   ]
  },
  {
   "cell_type": "code",
   "execution_count": 38,
   "id": "4c581dd6",
   "metadata": {},
   "outputs": [],
   "source": [
    "class Human():\n",
    "    def __init__(self):\n",
    "    \n",
    "        self.name= input(\"Enter the name\")\n",
    "        self.age = int(input(\"enter the age\"))\n",
    "        print(self.name,self.age)\n",
    "        \n",
    "    def __str__(self):\n",
    "        return (f\"{self.name}({self.age})\")\n",
    "        \n",
    "    def introduce(self,a):\n",
    "        print(f\"My name is {self.name} and I am {self.age} years old,{a}\")"
   ]
  },
  {
   "cell_type": "code",
   "execution_count": 39,
   "id": "0b826f19",
   "metadata": {},
   "outputs": [
    {
     "name": "stdout",
     "output_type": "stream",
     "text": [
      "Enter the namefaqh\n",
      "enter the age2\n",
      "faqh 2\n"
     ]
    }
   ],
   "source": [
    "h2= Human()"
   ]
  },
  {
   "cell_type": "code",
   "execution_count": 40,
   "id": "5b119433",
   "metadata": {},
   "outputs": [
    {
     "name": "stdout",
     "output_type": "stream",
     "text": [
      "faqh(2)\n"
     ]
    }
   ],
   "source": [
    "print(h2)"
   ]
  },
  {
   "cell_type": "code",
   "execution_count": 41,
   "id": "c504beeb",
   "metadata": {},
   "outputs": [],
   "source": [
    "del h2.age"
   ]
  },
  {
   "cell_type": "code",
   "execution_count": 42,
   "id": "86f25ea7",
   "metadata": {},
   "outputs": [],
   "source": [
    "h2.name=\"pooja\""
   ]
  },
  {
   "cell_type": "code",
   "execution_count": 43,
   "id": "f0d6f79b",
   "metadata": {},
   "outputs": [
    {
     "data": {
      "text/plain": [
       "'pooja'"
      ]
     },
     "execution_count": 43,
     "metadata": {},
     "output_type": "execute_result"
    }
   ],
   "source": [
    "h2.name"
   ]
  },
  {
   "cell_type": "code",
   "execution_count": 44,
   "id": "01e073c6",
   "metadata": {},
   "outputs": [],
   "source": [
    "del h2"
   ]
  },
  {
   "cell_type": "code",
   "execution_count": 45,
   "id": "cd380026",
   "metadata": {},
   "outputs": [
    {
     "ename": "NameError",
     "evalue": "name 'h2' is not defined",
     "output_type": "error",
     "traceback": [
      "\u001b[1;31m---------------------------------------------------------------------------\u001b[0m",
      "\u001b[1;31mNameError\u001b[0m                                 Traceback (most recent call last)",
      "Cell \u001b[1;32mIn[45], line 1\u001b[0m\n\u001b[1;32m----> 1\u001b[0m h2\u001b[38;5;241m.\u001b[39mname\n",
      "\u001b[1;31mNameError\u001b[0m: name 'h2' is not defined"
     ]
    }
   ],
   "source": [
    "h2.name"
   ]
  },
  {
   "cell_type": "code",
   "execution_count": 46,
   "id": "22c261fa",
   "metadata": {},
   "outputs": [
    {
     "name": "stdout",
     "output_type": "stream",
     "text": [
      "<__main__.Human object at 0x000002005B218890>\n"
     ]
    }
   ],
   "source": [
    "print(h1)"
   ]
  },
  {
   "cell_type": "code",
   "execution_count": 47,
   "id": "445e1080",
   "metadata": {},
   "outputs": [
    {
     "ename": "SyntaxError",
     "evalue": "incomplete input (704489691.py, line 2)",
     "output_type": "error",
     "traceback": [
      "\u001b[1;36m  Cell \u001b[1;32mIn[47], line 2\u001b[1;36m\u001b[0m\n\u001b[1;33m    \u001b[0m\n\u001b[1;37m    ^\u001b[0m\n\u001b[1;31mSyntaxError\u001b[0m\u001b[1;31m:\u001b[0m incomplete input\n"
     ]
    }
   ],
   "source": [
    "class test():\n",
    "    "
   ]
  },
  {
   "cell_type": "code",
   "execution_count": 48,
   "id": "55577d45",
   "metadata": {},
   "outputs": [],
   "source": [
    "class test():\n",
    "    pass\n"
   ]
  },
  {
   "cell_type": "code",
   "execution_count": 111,
   "id": "af7008a1",
   "metadata": {},
   "outputs": [],
   "source": [
    "class person():\n",
    "    \n",
    "    population=0\n",
    "    database=[]\n",
    "    id_seq=101\n",
    "    \n",
    "    def __init__(self,name,age,is_alive=True):\n",
    "        \n",
    "        self.name=name\n",
    "        self.age=age\n",
    "        self.is_alive=is_alive\n",
    "        \n",
    "        self.id= person.id_seq\n",
    "        \n",
    "        person.id_seq+=1\n",
    "        person.population+=1\n",
    "        person.database.append(self)\n",
    "#        self.db = person.database\n",
    "        \n",
    "    def introduce(self):\n",
    "        print( \"Hi, My name is {}. I m {} years old.\".format(self.name, self.age) )\n",
    "#        print(self.db)\n",
    "        \n",
    "    \n",
    "    def __repr__(self):\n",
    "        \"\"\"\n",
    "        this method needs to return a string\n",
    "        \"\"\"\n",
    "        return \"[{}, {}, {}, {}]\".format(self.id, self.name, self.age, self.is_alive)\n",
    "    \n",
    "    "
   ]
  },
  {
   "cell_type": "code",
   "execution_count": 112,
   "id": "ab73b2f1",
   "metadata": {},
   "outputs": [],
   "source": [
    "p1= person(\"pooja\",36)"
   ]
  },
  {
   "cell_type": "code",
   "execution_count": 113,
   "id": "493b00a5",
   "metadata": {},
   "outputs": [
    {
     "name": "stdout",
     "output_type": "stream",
     "text": [
      "Hi, My name is pooja. I m 36 years old.\n"
     ]
    }
   ],
   "source": [
    "p1.introduce()"
   ]
  },
  {
   "cell_type": "code",
   "execution_count": 114,
   "id": "2855fac6",
   "metadata": {},
   "outputs": [
    {
     "data": {
      "text/plain": [
       "'pooja'"
      ]
     },
     "execution_count": 114,
     "metadata": {},
     "output_type": "execute_result"
    }
   ],
   "source": [
    "p1.name"
   ]
  },
  {
   "cell_type": "code",
   "execution_count": 115,
   "id": "df7618f4",
   "metadata": {},
   "outputs": [
    {
     "data": {
      "text/plain": [
       "36"
      ]
     },
     "execution_count": 115,
     "metadata": {},
     "output_type": "execute_result"
    }
   ],
   "source": [
    "p1.age"
   ]
  },
  {
   "cell_type": "code",
   "execution_count": 116,
   "id": "c76bc1c1",
   "metadata": {},
   "outputs": [
    {
     "data": {
      "text/plain": [
       "True"
      ]
     },
     "execution_count": 116,
     "metadata": {},
     "output_type": "execute_result"
    }
   ],
   "source": [
    "p1.is_alive"
   ]
  },
  {
   "cell_type": "code",
   "execution_count": 117,
   "id": "05cdcd25",
   "metadata": {},
   "outputs": [
    {
     "data": {
      "text/plain": [
       "1"
      ]
     },
     "execution_count": 117,
     "metadata": {},
     "output_type": "execute_result"
    }
   ],
   "source": [
    "p1.population"
   ]
  },
  {
   "cell_type": "code",
   "execution_count": 118,
   "id": "06acf015",
   "metadata": {},
   "outputs": [],
   "source": [
    "p2= person(\"Meghna\",21)"
   ]
  },
  {
   "cell_type": "code",
   "execution_count": 119,
   "id": "c8534d97",
   "metadata": {},
   "outputs": [
    {
     "data": {
      "text/plain": [
       "2"
      ]
     },
     "execution_count": 119,
     "metadata": {},
     "output_type": "execute_result"
    }
   ],
   "source": [
    "p2.population"
   ]
  },
  {
   "cell_type": "code",
   "execution_count": 120,
   "id": "d6672aee",
   "metadata": {},
   "outputs": [],
   "source": [
    "p3= person(\"Nancy\",21)"
   ]
  },
  {
   "cell_type": "code",
   "execution_count": 121,
   "id": "775c14ea",
   "metadata": {},
   "outputs": [
    {
     "data": {
      "text/plain": [
       "3"
      ]
     },
     "execution_count": 121,
     "metadata": {},
     "output_type": "execute_result"
    }
   ],
   "source": [
    "p3.population"
   ]
  },
  {
   "cell_type": "code",
   "execution_count": 122,
   "id": "6c14e7b2",
   "metadata": {},
   "outputs": [
    {
     "data": {
      "text/plain": [
       "[[101, pooja, 36, True], [102, Meghna, 21, True], [103, Nancy, 21, True]]"
      ]
     },
     "execution_count": 122,
     "metadata": {},
     "output_type": "execute_result"
    }
   ],
   "source": [
    "person.database"
   ]
  },
  {
   "cell_type": "code",
   "execution_count": 24,
   "id": "0680b9a6",
   "metadata": {},
   "outputs": [],
   "source": [
    "class person():\n",
    "    \n",
    "    population=0\n",
    "    database=[]\n",
    "    id_seq=101\n",
    "    \n",
    "    def __init__(self,name,age,is_alive=True):\n",
    "        \n",
    "        self.name=name\n",
    "        self.age=age\n",
    "        self.is_alive=is_alive\n",
    "        \n",
    "        self.id= person.id_seq\n",
    "        \n",
    "        person.id_seq+=1\n",
    "        person.population+=1\n",
    "        person.database.append(self)\n",
    "#        self.db = person.database\n",
    "        \n",
    "    def introduce(self):\n",
    "        print( \"Hi, My name is {}. I m {} years old.\".format(self.name, self.age) )\n",
    "#        print(self.db)\n",
    "        \n",
    "    \n",
    "    def __repr__(self):\n",
    "        \"\"\"\n",
    "        this method needs to return a string\n",
    "        \"\"\"\n",
    "        return \"[{}, {}, {}, {}]\".format(self.id, self.name, self.age, self.is_alive)\n",
    "    \n",
    "    "
   ]
  },
  {
   "cell_type": "code",
   "execution_count": 25,
   "id": "2c319cb3",
   "metadata": {},
   "outputs": [],
   "source": [
    "p1=person(\"P\",1)"
   ]
  },
  {
   "cell_type": "code",
   "execution_count": 26,
   "id": "39138220",
   "metadata": {},
   "outputs": [],
   "source": [
    "p2=person(\"M\",2)"
   ]
  },
  {
   "cell_type": "code",
   "execution_count": 27,
   "id": "03b6d8d7",
   "metadata": {},
   "outputs": [],
   "source": [
    "p3=person(\"N\",3)"
   ]
  },
  {
   "cell_type": "code",
   "execution_count": 29,
   "id": "24aff0b6",
   "metadata": {},
   "outputs": [
    {
     "data": {
      "text/plain": [
       "[103, N, 3, True]"
      ]
     },
     "execution_count": 29,
     "metadata": {},
     "output_type": "execute_result"
    }
   ],
   "source": [
    "person.database"
   ]
  },
  {
   "cell_type": "code",
   "execution_count": 135,
   "id": "1839d123",
   "metadata": {},
   "outputs": [
    {
     "name": "stdout",
     "output_type": "stream",
     "text": [
      "This person is [103, N, 3, True]\n"
     ]
    }
   ],
   "source": [
    "print(f'This person is {p3!r}')"
   ]
  },
  {
   "cell_type": "code",
   "execution_count": 30,
   "id": "db1d09b9",
   "metadata": {},
   "outputs": [],
   "source": [
    "class Person:\n",
    "    def __init__(self, name):\n",
    "        self.name = name\n",
    "    def __repr__(self):\n",
    "        return f'Person({self.name})'\n",
    "\n",
    "\n",
    "    def __str__(self):\n",
    "        return f'A person named {self.name}'\n",
    "\n",
    "\n",
    "  \n"
   ]
  },
  {
   "cell_type": "code",
   "execution_count": 31,
   "id": "8ba61b1b",
   "metadata": {},
   "outputs": [],
   "source": [
    "p= Person(\"pooja\")"
   ]
  },
  {
   "cell_type": "code",
   "execution_count": 33,
   "id": "a513f611",
   "metadata": {},
   "outputs": [
    {
     "data": {
      "text/plain": [
       "Person(pooja)"
      ]
     },
     "execution_count": 33,
     "metadata": {},
     "output_type": "execute_result"
    }
   ],
   "source": [
    "p"
   ]
  },
  {
   "cell_type": "code",
   "execution_count": null,
   "id": "cbfa77f6",
   "metadata": {},
   "outputs": [],
   "source": [
    "# Output: This person is Person(name=Alice)\n",
    "p = Person('Alice')\n",
    "print(f'This person is {p!r}')"
   ]
  },
  {
   "cell_type": "code",
   "execution_count": 35,
   "id": "caf24a00",
   "metadata": {},
   "outputs": [],
   "source": [
    "class Human:\n",
    "    \n",
    "    # Class variables\n",
    "    database = []\n",
    "    population = 0\n",
    "    id_seq = 101\n",
    "    \n",
    "    # constructor\n",
    "    def __init__(self, name, age, is_alive = True):\n",
    "        print(\"creating new object...\")\n",
    "        \n",
    "        # instance variable\n",
    "        # attribute references\n",
    "        self.name = name\n",
    "        self.age = age\n",
    "        self.is_alive = is_alive\n",
    "        \n",
    "        # add id of an object\n",
    "        self.id = Human.id_seq\n",
    "        Human.id_seq +=1\n",
    "        Human.population +=1\n",
    "        \n",
    "        Human.database.append(self)\n",
    "        \n",
    "        \n",
    "    # instance method\n",
    "    def introduce(self):\n",
    "        print( \"Hi, My name is {}. I m {} years old.\".format(self.name, self.age) ) \n",
    "        \n",
    "        \n",
    "    def die(self):\n",
    "        if self.is_alive:\n",
    "            print(self.name, \"is dying...\")\n",
    "            self.is_alive = False\n",
    "            Human.population -= 1\n",
    "        else:\n",
    "            print(\"{} is already dead.\".format(self.name))\n",
    "            \n",
    "    def __repr__(self):\n",
    "        \"\"\"\n",
    "        this method needs to return a string\n",
    "        \"\"\"\n",
    "        return \"[{}, {}, {}, {}]\".format(self.id, self.name, self.age, self.is_alive)  "
   ]
  },
  {
   "cell_type": "code",
   "execution_count": 36,
   "id": "0e8ae453",
   "metadata": {},
   "outputs": [
    {
     "name": "stdout",
     "output_type": "stream",
     "text": [
      "creating new object...\n"
     ]
    }
   ],
   "source": [
    "p1 = Human(\"pooja\",36)"
   ]
  },
  {
   "cell_type": "code",
   "execution_count": 37,
   "id": "89643553",
   "metadata": {},
   "outputs": [
    {
     "name": "stdout",
     "output_type": "stream",
     "text": [
      "creating new object...\n"
     ]
    }
   ],
   "source": [
    "p2= Human(\"Meghna\",21)"
   ]
  },
  {
   "cell_type": "code",
   "execution_count": 38,
   "id": "5bf69049",
   "metadata": {},
   "outputs": [
    {
     "name": "stdout",
     "output_type": "stream",
     "text": [
      "creating new object...\n"
     ]
    }
   ],
   "source": [
    "p3= Human(\"Nancy\",21)"
   ]
  },
  {
   "cell_type": "code",
   "execution_count": 39,
   "id": "9d8cbe7c",
   "metadata": {},
   "outputs": [
    {
     "data": {
      "text/plain": [
       "3"
      ]
     },
     "execution_count": 39,
     "metadata": {},
     "output_type": "execute_result"
    }
   ],
   "source": [
    "Human.population"
   ]
  },
  {
   "cell_type": "code",
   "execution_count": 43,
   "id": "d0d455fc",
   "metadata": {},
   "outputs": [
    {
     "name": "stdout",
     "output_type": "stream",
     "text": [
      "Nancy is dying...\n"
     ]
    }
   ],
   "source": [
    "p3.die()"
   ]
  },
  {
   "cell_type": "code",
   "execution_count": 44,
   "id": "b25fc0cf",
   "metadata": {},
   "outputs": [
    {
     "data": {
      "text/plain": [
       "[[101, pooja, 36, True], [102, Meghna, 21, True], [103, Nancy, 21, False]]"
      ]
     },
     "execution_count": 44,
     "metadata": {},
     "output_type": "execute_result"
    }
   ],
   "source": [
    "p3.database"
   ]
  },
  {
   "cell_type": "code",
   "execution_count": 45,
   "id": "5044583c",
   "metadata": {},
   "outputs": [
    {
     "name": "stdout",
     "output_type": "stream",
     "text": [
      "Nancy is already dead.\n"
     ]
    }
   ],
   "source": [
    "p3.die()"
   ]
  },
  {
   "cell_type": "code",
   "execution_count": 46,
   "id": "469409f1",
   "metadata": {},
   "outputs": [
    {
     "data": {
      "text/plain": [
       "2"
      ]
     },
     "execution_count": 46,
     "metadata": {},
     "output_type": "execute_result"
    }
   ],
   "source": [
    "Human.population"
   ]
  },
  {
   "cell_type": "code",
   "execution_count": 49,
   "id": "4131a872",
   "metadata": {},
   "outputs": [],
   "source": [
    "class X: \n",
    "    def __init__(self,val): \n",
    "        self.val = val \n",
    "        \n",
    "def getIndex(li,target): \n",
    "    for index, x in enumerate(li): \n",
    "        if x.val == target: \n",
    "            return index \n",
    "    return -1\n",
    "  \n"
   ]
  },
  {
   "cell_type": "code",
   "execution_count": 50,
   "id": "01bcb25a",
   "metadata": {},
   "outputs": [
    {
     "name": "stdout",
     "output_type": "stream",
     "text": [
      "[<__main__.X object at 0x000001F4FE42B5D0>, <__main__.X object at 0x000001F4FE429F50>, <__main__.X object at 0x000001F4FE454810>, <__main__.X object at 0x000001F4FE454510>, <__main__.X object at 0x000001F4FE454990>, <__main__.X object at 0x000001F4FE456C10>]\n",
      "7\n"
     ]
    }
   ],
   "source": [
    "# Driver code \n",
    "li = [1,2,3,4,5,6] \n",
    "  \n",
    "# Converting all the items in \n",
    "# list to object of class X \n",
    "a = list() \n",
    "for i in li: \n",
    "    a.append(X(i)) \n",
    "print(a)\n",
    "      \n",
    "print(getIndex(a,3)) "
   ]
  },
  {
   "cell_type": "code",
   "execution_count": null,
   "id": "e3e26f75",
   "metadata": {},
   "outputs": [],
   "source": []
  }
 ],
 "metadata": {
  "kernelspec": {
   "display_name": "Python 3 (ipykernel)",
   "language": "python",
   "name": "python3"
  },
  "language_info": {
   "codemirror_mode": {
    "name": "ipython",
    "version": 3
   },
   "file_extension": ".py",
   "mimetype": "text/x-python",
   "name": "python",
   "nbconvert_exporter": "python",
   "pygments_lexer": "ipython3",
   "version": "3.11.5"
  }
 },
 "nbformat": 4,
 "nbformat_minor": 5
}
